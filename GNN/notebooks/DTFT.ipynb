{
 "cells": [
  {
   "cell_type": "markdown",
   "id": "6c1199c0-5bf9-4e61-baae-77b1ff4dc09d",
   "metadata": {},
   "source": [
    "# Discrete-Time Fourier Transform (DTFT) applied on real-world graph"
   ]
  },
  {
   "cell_type": "markdown",
   "id": "c018c33f-7fe0-449f-a238-3535df8c9ae4",
   "metadata": {},
   "source": [
    "> The goal of this notebook is to use DTFT to model temporal interactions in a graph."
   ]
  },
  {
   "cell_type": "markdown",
   "id": "a56ff26d-1c33-4d5a-8892-9cc56bc0cbdf",
   "metadata": {},
   "source": [
    "More information about Fourier Transform [here](https://pythonnumericalmethods.berkeley.edu/notebooks/chapter24.01-The-Basics-of-waves.html). Notes about this page at the end of this notebook."
   ]
  },
  {
   "cell_type": "markdown",
   "id": "4ab472ff-da7e-4b7c-9c42-c6263f440034",
   "metadata": {},
   "source": [
    "**Libraries**"
   ]
  },
  {
   "cell_type": "code",
   "execution_count": 1,
   "id": "7b7f1650-a6be-495a-8abf-40c5d50c2ca6",
   "metadata": {},
   "outputs": [
    {
     "name": "stderr",
     "output_type": "stream",
     "text": [
      "Using backend: pytorch\n"
     ]
    }
   ],
   "source": [
    "import numpy as np\n",
    "import pandas as pd\n",
    "import matplotlib.pyplot as plt\n",
    "\n",
    "import torch\n",
    "import dgl\n",
    "from dgl.data.utils import load_graphs"
   ]
  },
  {
   "cell_type": "markdown",
   "id": "a966a22f-08c0-4263-b84a-28cae2f27582",
   "metadata": {},
   "source": [
    "## 1. Data"
   ]
  },
  {
   "cell_type": "markdown",
   "id": "52466c85-607a-4bc2-aa10-6488be0fb6c5",
   "metadata": {},
   "source": [
    "Data comes from [SFHH Conference Dataset](http://www.sociopatterns.org/datasets/sfhh-conference-data-set/).   \n",
    "It is represented as a **link stream**, where each entry is a triplet $(t, i, j)$, with $i$ and $j$ are two nodes of a link and $t$ the time at which the link existed."
   ]
  },
  {
   "cell_type": "code",
   "execution_count": 2,
   "id": "adc6789a-53f4-42ed-af01-c43a0a6190aa",
   "metadata": {},
   "outputs": [],
   "source": [
    "PATH = '../data'"
   ]
  },
  {
   "cell_type": "markdown",
   "id": "6e9fb8cb-c92e-4b5b-918e-dccf869415f6",
   "metadata": {},
   "source": [
    "**Raw data**  \n",
    "\n",
    "Let's have a look at the original data."
   ]
  },
  {
   "cell_type": "code",
   "execution_count": 3,
   "id": "d4e6286f-f9c4-4e06-b3ed-3401e5cc0593",
   "metadata": {},
   "outputs": [
    {
     "name": "stdout",
     "output_type": "stream",
     "text": [
      "Raw data shape : (70261, 3)\n",
      "       t     i     j\n",
      "0  32520  1467  1591\n",
      "1  32560  1513  1591\n",
      "2  32700  1591  1467\n",
      "3  32720  1591  1467\n",
      "4  32740  1591  1467\n"
     ]
    }
   ],
   "source": [
    "df = pd.read_csv(f'{PATH}/data/tij_SFHH.dat_', header=None, names=['t', 'i', 'j'], delimiter=' ') # SF2H conference\n",
    "print(f'Raw data shape : {df.shape}')\n",
    "print(df.head())"
   ]
  },
  {
   "cell_type": "markdown",
   "id": "7d3c7a25-1b84-4bb1-9e0a-88b6823dc0d6",
   "metadata": {},
   "source": [
    "**Preprocessed data**  \n",
    "\n",
    "Preprocessing consists in :\n",
    "* reindexing nodes from label 0 to $|V|$. These new values are stored in `src` and `dest` columns"
   ]
  },
  {
   "cell_type": "code",
   "execution_count": 4,
   "id": "3f0c7c12-a2bd-49f3-8fe2-943a01e7c39f",
   "metadata": {},
   "outputs": [
    {
     "name": "stdout",
     "output_type": "stream",
     "text": [
      "Preprocessed data shape : (70261, 5)\n",
      "       t     i     j  src  dest\n",
      "0  32520  1467  1591   36   144\n",
      "1  32560  1513  1591   75   144\n",
      "2  32700  1591  1467  144    36\n",
      "3  32720  1591  1467  144    36\n",
      "4  32740  1591  1467  144    36\n"
     ]
    }
   ],
   "source": [
    "PREPROC_PATH = '../preprocessed_data'\n",
    "df_preproc = pd.read_pickle(f'{PREPROC_PATH}/preprocessed_data/SF2H.pkl')\n",
    "print(f'Preprocessed data shape : {df_preproc.shape}')\n",
    "print(df_preproc.head())"
   ]
  },
  {
   "cell_type": "markdown",
   "id": "2ec9c2e4-3bf7-43d7-851a-882094d5e8d5",
   "metadata": {},
   "source": [
    "## 2. Graph"
   ]
  },
  {
   "cell_type": "markdown",
   "id": "b120b0f9-c468-4f17-b61b-df6b4d0a23dd",
   "metadata": {},
   "source": [
    "Preprocessed data is transformed into a **graph** object, using `dgl` library :\n",
    "* Source and destination nodes comes directly from `src` and `dest` columns in preprocessed dataframe.\n",
    "* Time dimension is encoded on each edge, in `timestamp` variable "
   ]
  },
  {
   "cell_type": "code",
   "execution_count": 5,
   "id": "1626a12d-3316-4d11-8c84-d0549ec5d2c6",
   "metadata": {},
   "outputs": [
    {
     "name": "stdout",
     "output_type": "stream",
     "text": [
      "DGL graph : Graph(num_nodes=403, num_edges=70261,\n",
      "      ndata_schemes={}\n",
      "      edata_schemes={'timestamp': Scheme(shape=(), dtype=torch.int64)})\n",
      "Timestamps : tensor([ 32520,  32560,  32700,  ..., 146820, 146820, 146820])\n"
     ]
    }
   ],
   "source": [
    "# Source and destination nodes\n",
    "src_tens = torch.tensor(df_preproc['src'].values)\n",
    "dest_tens = torch.tensor(df_preproc['dest'].values)\n",
    "\n",
    "# DGL graph\n",
    "g = dgl.graph((src_tens, dest_tens))\n",
    "g.edata['timestamp'] = torch.from_numpy(df_preproc['t'].to_numpy())\n",
    "\n",
    "# GRAPH\n",
    "print(f'DGL graph : {g}')\n",
    "print(f\"Timestamps : {g.edata['timestamp']}\")"
   ]
  },
  {
   "cell_type": "markdown",
   "id": "d086da5b-17ef-4283-9037-f1a90bbb8fc0",
   "metadata": {},
   "source": [
    "**Load splitted graphs**  \n",
    "\n",
    "Splitted graphs are already computed. Let's load them."
   ]
  },
  {
   "cell_type": "code",
   "execution_count": 6,
   "id": "ef689fce-980b-4db4-bde1-07b2cec64899",
   "metadata": {},
   "outputs": [],
   "source": [
    "glist = list(load_graphs(f\"{PREPROC_PATH}/data.bin\")[0])\n",
    "train_g, train_pos_g, train_neg_g, val_pos_g, val_neg_g, test_pos_g, test_neg_g = glist"
   ]
  },
  {
   "cell_type": "markdown",
   "id": "83e46a43-836f-4db8-b4d6-63232c885938",
   "metadata": {},
   "source": [
    "## 3. Dynamic representation of data"
   ]
  },
  {
   "cell_type": "markdown",
   "id": "f67560c5-661c-439a-b528-d41a435d097e",
   "metadata": {},
   "source": [
    "`dgl` graph encodes edges as a tuple of tensors containing each nodes forming these edges. For example, one can use the method `edges()` to display both source and destinations tensors of nodes (see below)."
   ]
  },
  {
   "cell_type": "code",
   "execution_count": 7,
   "id": "d6fe60f0-56d5-437b-880c-a058497f2154",
   "metadata": {},
   "outputs": [
    {
     "data": {
      "text/plain": [
       "(tensor([ 36,  75, 144,  ..., 133,  79,  79]),\n",
       " tensor([144, 144,  36,  ...,  79, 165, 199]))"
      ]
     },
     "execution_count": 7,
     "metadata": {},
     "output_type": "execute_result"
    }
   ],
   "source": [
    "g.edges()"
   ]
  },
  {
   "cell_type": "markdown",
   "id": "85dff662-bdf9-47b7-bb5f-4a66a95403be",
   "metadata": {},
   "source": [
    "However, in order to proceed message passing via Graph Neural Network on this temporal data, we would like to represent the graph structure and its time dimension within a single object.  \n",
    "\n",
    "For this purpose, we create a **3d-tensor**, with shape $(|V|, |V|, |T|)$, with $V$ the set of vertices and $T$ the set of timesteps in original data.  \n",
    "This tensor reflects the occurences of edges over time. In other words, it contains information about interactions between nodes at every timestep, within a single structure. However, since data comes from a real-world problem (interactions between conference attendees), this structure will be sparse.\n",
    "\n",
    "**Discrete-Time Fourier Transform (DTFT)** performs embedding of a discrete temporal signal into the frequency domain. Considering the temporal dimension (third dimension) in the tensor detailed above as a discrete temporal signal, we can use DTFT to compute its correspondig Fourier serie. As Fourier serie is a periodic continous function, we can then sample $N=|T|$ elements in the serie, in order to create a vector containing the frequency embedding of our original temporal signal. The results of this sample process is called the **Discrete Fourier Transform (DFT)** and can be seen as windowing the frequency domain. In practice, it is perform efficently through the **Fast Fourier Transform (FFT)** algorithm.\n",
    "\n",
    "Each vector containing frequency embedding can be written as :\n",
    "$$\n",
    "A_{i, j}[k] = \\sum_{t=0}^{T-1} a_{t} e^{-i \\frac{2\\pi}{N}tk}, k=0, ..., N-1 \n",
    "$$\n",
    "with $a$ the time-domain signal, $N$ the size of the frequency-domain embedding (we can consider for example that $N=|T|$). The *amplitude* of the spectrum is obtained with $|A|$ .\n"
   ]
  },
  {
   "cell_type": "code",
   "execution_count": 153,
   "id": "60be7c5b-98fc-43a4-82d7-430fc1b7eec5",
   "metadata": {},
   "outputs": [],
   "source": [
    "def DFT(g, timerange, df, N, add_self_edge=False):\n",
    "    ''' Performs Discrete Fourier Transform of the number of interactions between nodes over time.\n",
    "\n",
    "        Parameters\n",
    "        ----------\n",
    "            g : dgl graph\n",
    "            df : DataFrame containing link stream with triplets (t, u, v)\n",
    "            N : Size of sampling\n",
    "            add_self_edge (default = False) : if True, add edges from one node to iteself\n",
    "            \n",
    "        Output\n",
    "        ------\n",
    "            3d tensor with shape (|V|, |V|, N)'''\n",
    "    \n",
    "    \n",
    "    # Add edges between node and itself\n",
    "    if add_self_edge:\n",
    "        g.add_edges(g.nodes(), g.nodes())\n",
    "    \n",
    "    # Tensor initialization\n",
    "    adj = torch.zeros(len(g.nodes()), len(g.nodes()), len(timerange))\n",
    "    fourier_feat = torch.zeros(len(g.nodes()), len(g.nodes()), N)\n",
    "    T_ = len(timerange)\n",
    "    \n",
    "    # For every pair of nodes, create a tensor with size len(timerange)\n",
    "    # containing 1 if node exists (i.e if node is part of an edge) at time t\n",
    "    # This tensor corresponds to the Discrete temporal signal\n",
    "    for node_src, node_dest, time in zip(df['src'], df['dest'], df['t']):\n",
    "        time_index = list(timerange).index(time)\n",
    "        adj[node_src, node_dest, time_index] = 1\n",
    "        \n",
    "    # For each entry in the Discrete temporal signal, compute N samples (with N=T) at interval 2*pi / N\n",
    "    for node_src in range(adj.shape[0]):\n",
    "        for node_dest in range(adj.shape[1]):            \n",
    "            X_temp = np.fft.fft(adj[node_src, node_dest, :], N)\n",
    "            # When the input a is a time-domain signal and A = fft(a), np.abs(A) is its amplitude spectrum\n",
    "            # Source : https://numpy.org/doc/stable/reference/routines.fft.html#module-numpy.fft\n",
    "            fourier_feat[node_src, node_dest, :] = torch.from_numpy(np.abs(X_temp))\n",
    "                \n",
    "    return fourier_feat"
   ]
  },
  {
   "cell_type": "markdown",
   "id": "37def35c-2c42-441c-9e94-b28520092b17",
   "metadata": {},
   "source": [
    "**Compute DFT on training graph** "
   ]
  },
  {
   "cell_type": "code",
   "execution_count": 106,
   "id": "55439b36-a1ed-4ccf-ba95-02b6ddb1f7de",
   "metadata": {},
   "outputs": [
    {
     "name": "stdout",
     "output_type": "stream",
     "text": [
      "CPU times: user 3min 18s, sys: 18.1 s, total: 3min 36s\n",
      "Wall time: 3min 34s\n"
     ]
    }
   ],
   "source": [
    "%%time\n",
    "\n",
    "# Training dataframe\n",
    "max_train_time = int(train_pos_g.edata['timestamp'].max())\n",
    "df_train = df_preproc[df_preproc['t']<=max_train_time]\n",
    "train_timerange = np.arange(int(train_pos_g.edata['timestamp'].min()), int(train_pos_g.edata['timestamp'].max()) + 20, 20)\n",
    "\n",
    "# Compute features\n",
    "fourier_feat = DFT(train_pos_g, train_timerange, df_train, len(train_timerange), add_self_edge=False)"
   ]
  },
  {
   "cell_type": "code",
   "execution_count": 107,
   "id": "98208d03-53c9-425a-b980-f88cc6739b44",
   "metadata": {},
   "outputs": [
    {
     "name": "stdout",
     "output_type": "stream",
     "text": [
      "CPU times: user 31.6 s, sys: 3.06 s, total: 34.6 s\n",
      "Wall time: 33.1 s\n"
     ]
    }
   ],
   "source": [
    "%%time\n",
    "\n",
    "# Compute adjacency matrix as 3d-tensor for displaying (see below)\n",
    "adj_3d = torch.zeros(len(train_pos_g.nodes()), len(train_pos_g.nodes()), len(train_timerange))\n",
    "\n",
    "for node_src, node_dest, time in zip(df_train['src'], df_train['dest'], df_train['t']):\n",
    "    time_index = list(train_timerange).index(time)\n",
    "    adj_3d[node_src, node_dest, time_index] = 1"
   ]
  },
  {
   "cell_type": "code",
   "execution_count": 175,
   "id": "236e11b0-7610-4bc3-a92d-bcd3b4778f92",
   "metadata": {},
   "outputs": [
    {
     "name": "stdout",
     "output_type": "stream",
     "text": [
      "# of interactions for nodes (36, 144)  :  13\n",
      "# of interactions for nodes (0, 24) :  17\n",
      "# of interactions for nodes (325, 371) :  32\n"
     ]
    },
    {
     "data": {
      "image/png": "[encoded data removed]",
      "text/plain": [
       "<Figure size 1224x360 with 2 Axes>"
      ]
     },
     "metadata": {
      "needs_background": "light"
     },
     "output_type": "display_data"
    }
   ],
   "source": [
    "# Count number of interactions over time for pair of nodes\n",
    "print('# of interactions for nodes (36, 144)  : ', df_preproc[(df_preproc['src']==144) & (df_preproc['dest']==36)].count()[0])\n",
    "print('# of interactions for nodes (0, 24) : ', df_preproc[(df_preproc['src']==0) & (df_preproc['dest']==24)].count()[0])\n",
    "print('# of interactions for nodes (325, 371) : ', df_preproc[(df_preproc['src']==325) & (df_preproc['dest']==371)].count()[0])\n",
    "\n",
    "fig, ax = plt.subplots(1, 2, figsize=(17, 5))\n",
    "\n",
    "N = len(train_timerange)\n",
    "n = np.arange(N)\n",
    "sr = 1/20 # timestep of 20 seconds in SF2H dataset\n",
    "T = N/sr\n",
    "freq = n/T\n",
    "\n",
    "# Example of DTFT for a few pair of nodes\n",
    "ax[1].plot(freq, fourier_feat[325, 371, :], label='Node pair : (325, 371)', alpha=0.3, color='black', marker='_')\n",
    "ax[1].plot(freq, fourier_feat[144, 36, :], label='Node pair : (144, 36)', alpha=0.3, color='darkblue', marker='+')\n",
    "ax[1].plot(freq, fourier_feat[0, 24, :], label='Node pair : (0, 24)', color='green', marker='*')\n",
    "#plt.title('DTFT on on (with $N=T$)', weight='bold')\n",
    "ax[1].legend(loc='upper right')\n",
    "ax[1].set_xlabel('$Frequency (Hz)$')\n",
    "ax[1].set_ylabel('Amplitude');\n",
    "\n",
    "ax[0].plot(range(len(fourier_feat[325, 371, :])), adj_3d[325, 371, :], label='Node pair : (325, 371)', alpha=0.3, color='black', marker='_')\n",
    "ax[0].plot(range(len(fourier_feat[144, 36, :])), adj_3d[144, 36, :], label='Node pair : (144, 36)', color='darkblue', alpha=0.3)\n",
    "ax[0].plot(range(len(fourier_feat[0, 24, :])), adj_3d[0, 24, :], label='Node pair : (0, 24)', color='green', marker='*')\n",
    "\n",
    "ax[0].legend(loc='upper right')\n",
    "ax[0].set_ylabel('Number of interactions')\n",
    "ax[0].set_xlabel('$T$');\n",
    "\n",
    "# Save plot\n",
    "#fig.savefig('img/DTFT.eps')"
   ]
  },
  {
   "cell_type": "code",
   "execution_count": 170,
   "id": "6ffe7776-4bee-47d2-b5cd-e8ed50a28a75",
   "metadata": {},
   "outputs": [
    {
     "name": "stdout",
     "output_type": "stream",
     "text": [
      "[0.0000e+00 5.0000e-02 1.0000e-01 ... 2.3555e+02 2.3560e+02 2.3565e+02]\n"
     ]
    }
   ],
   "source": [
    "print(freq)"
   ]
  },
  {
   "cell_type": "markdown",
   "id": "93f2ead5-80d8-40fa-a773-8c622a475396",
   "metadata": {},
   "source": [
    "**Order edges by descending number of interactions over time** \n",
    "\n",
    "In order to easily select potentially interesting edges in the dataset."
   ]
  },
  {
   "cell_type": "code",
   "execution_count": 135,
   "id": "28dc2b81-c639-40ee-ae9e-1ceab594f314",
   "metadata": {},
   "outputs": [
    {
     "data": {
      "text/html": [
       "<div>\n",
       "<style scoped>\n",
       "    .dataframe tbody tr th:only-of-type {\n",
       "        vertical-align: middle;\n",
       "    }\n",
       "\n",
       "    .dataframe tbody tr th {\n",
       "        vertical-align: top;\n",
       "    }\n",
       "\n",
       "    .dataframe thead th {\n",
       "        text-align: right;\n",
       "    }\n",
       "</style>\n",
       "<table border=\"1\" class=\"dataframe\">\n",
       "  <thead>\n",
       "    <tr style=\"text-align: right;\">\n",
       "      <th></th>\n",
       "      <th></th>\n",
       "      <th>t</th>\n",
       "      <th>i</th>\n",
       "      <th>j</th>\n",
       "    </tr>\n",
       "    <tr>\n",
       "      <th>src</th>\n",
       "      <th>dest</th>\n",
       "      <th></th>\n",
       "      <th></th>\n",
       "      <th></th>\n",
       "    </tr>\n",
       "  </thead>\n",
       "  <tbody>\n",
       "    <tr>\n",
       "      <th>195</th>\n",
       "      <th>211</th>\n",
       "      <td>1220</td>\n",
       "      <td>1220</td>\n",
       "      <td>1220</td>\n",
       "    </tr>\n",
       "    <tr>\n",
       "      <th>212</th>\n",
       "      <th>272</th>\n",
       "      <td>960</td>\n",
       "      <td>960</td>\n",
       "      <td>960</td>\n",
       "    </tr>\n",
       "    <tr>\n",
       "      <th>108</th>\n",
       "      <th>86</th>\n",
       "      <td>766</td>\n",
       "      <td>766</td>\n",
       "      <td>766</td>\n",
       "    </tr>\n",
       "    <tr>\n",
       "      <th>238</th>\n",
       "      <th>246</th>\n",
       "      <td>448</td>\n",
       "      <td>448</td>\n",
       "      <td>448</td>\n",
       "    </tr>\n",
       "    <tr>\n",
       "      <th>346</th>\n",
       "      <th>15</th>\n",
       "      <td>433</td>\n",
       "      <td>433</td>\n",
       "      <td>433</td>\n",
       "    </tr>\n",
       "    <tr>\n",
       "      <th>...</th>\n",
       "      <th>...</th>\n",
       "      <td>...</td>\n",
       "      <td>...</td>\n",
       "      <td>...</td>\n",
       "    </tr>\n",
       "    <tr>\n",
       "      <th rowspan=\"4\" valign=\"top\">169</th>\n",
       "      <th>334</th>\n",
       "      <td>1</td>\n",
       "      <td>1</td>\n",
       "      <td>1</td>\n",
       "    </tr>\n",
       "    <tr>\n",
       "      <th>319</th>\n",
       "      <td>1</td>\n",
       "      <td>1</td>\n",
       "      <td>1</td>\n",
       "    </tr>\n",
       "    <tr>\n",
       "      <th>287</th>\n",
       "      <td>1</td>\n",
       "      <td>1</td>\n",
       "      <td>1</td>\n",
       "    </tr>\n",
       "    <tr>\n",
       "      <th>286</th>\n",
       "      <td>1</td>\n",
       "      <td>1</td>\n",
       "      <td>1</td>\n",
       "    </tr>\n",
       "    <tr>\n",
       "      <th>188</th>\n",
       "      <th>337</th>\n",
       "      <td>1</td>\n",
       "      <td>1</td>\n",
       "      <td>1</td>\n",
       "    </tr>\n",
       "  </tbody>\n",
       "</table>\n",
       "<p>9889 rows × 3 columns</p>\n",
       "</div>"
      ],
      "text/plain": [
       "             t     i     j\n",
       "src dest                  \n",
       "195 211   1220  1220  1220\n",
       "212 272    960   960   960\n",
       "108 86     766   766   766\n",
       "238 246    448   448   448\n",
       "346 15     433   433   433\n",
       "...        ...   ...   ...\n",
       "169 334      1     1     1\n",
       "    319      1     1     1\n",
       "    287      1     1     1\n",
       "    286      1     1     1\n",
       "188 337      1     1     1\n",
       "\n",
       "[9889 rows x 3 columns]"
      ]
     },
     "execution_count": 135,
     "metadata": {},
     "output_type": "execute_result"
    }
   ],
   "source": [
    "df_preproc.groupby(['src', 'dest']).count().sort_values('t', ascending=False)"
   ]
  },
  {
   "cell_type": "markdown",
   "id": "37b5f7b2-961e-4516-9951-73aef4847906",
   "metadata": {},
   "source": [
    "**Compare different edges**"
   ]
  },
  {
   "cell_type": "code",
   "execution_count": 111,
   "id": "c9fc49c6-2a7e-4cbf-b455-b28743c5ec1c",
   "metadata": {},
   "outputs": [
    {
     "name": "stdout",
     "output_type": "stream",
     "text": [
      "# of interactions for nodes (36, 144)  :  13\n",
      "# of interactions for nodes (0, 24) :  17\n",
      "# of interactions for nodes (97, 85) :  325\n",
      "# of interactions for nodes (212, 272) :  960\n"
     ]
    },
    {
     "data": {
      "image/png": "[encoded data removed]",
      "text/plain": [
       "<Figure size 1224x360 with 8 Axes>"
      ]
     },
     "metadata": {
      "needs_background": "light"
     },
     "output_type": "display_data"
    }
   ],
   "source": [
    "fig, ax = plt.subplots(2, 4, figsize=(17, 5))\n",
    "\n",
    "# Count number of interactions over time for pair of nodes\n",
    "print('# of interactions for nodes (36, 144)  : ', df_preproc[(df_preproc['src']==144) & (df_preproc['dest']==36)].count()[0])\n",
    "print('# of interactions for nodes (0, 24) : ', df_preproc[(df_preproc['src']==0) & (df_preproc['dest']==24)].count()[0])\n",
    "print('# of interactions for nodes (97, 85) : ', df_preproc[(df_preproc['src']==97) & (df_preproc['dest']==85)].count()[0])\n",
    "print('# of interactions for nodes (212, 272) : ', df_preproc[(df_preproc['src']==212) & (df_preproc['dest']==272)].count()[0])\n",
    "\n",
    "\n",
    "ax[0, 0].plot(range(len(fourier_feat[144, 36, :])), adj_3d[144, 36, :], label='Node pair : (144, 36)', color='darkblue', alpha=0.5)\n",
    "ax[0, 1].plot(range(len(fourier_feat[0, 24, :])), adj_3d[0, 24, :], label='Node pair : (0, 24)', color='green', marker='*')\n",
    "ax[0, 2].plot(range(len(fourier_feat[97, 85, :])), adj_3d[97, 85, :], label='Node pair : (97, 85)', alpha=0.3, color='grey', marker='_')\n",
    "ax[0, 3].plot(range(len(fourier_feat[212, 272, :])), adj_3d[212, 272, :], label='Node pair : (212, 272)', alpha=0.3, color='black')\n",
    "\n",
    "ax[1, 0].plot(range(len(fourier_feat[144, 36, :])), fourier_feat[144, 36, :], label='Node pair : (144, 36)', alpha=0.4, color='darkblue');\n",
    "ax[1, 1].plot(range(len(fourier_feat[0, 24, :])), fourier_feat[0, 24, :], label='Node pair : (0, 24)', color='green', marker='*')\n",
    "ax[1, 2].plot(range(len(fourier_feat[97, 85, :])), fourier_feat[97, 85, :], label='Node pair : (97, 85)', alpha=0.3, color='grey', marker='_')\n",
    "ax[1, 3].plot(range(len(fourier_feat[212, 272, :])), fourier_feat[212, 272, :], label='Node pair : (212, 272)', alpha=0.4, color='black')\n",
    "\n",
    "for i in range(4):\n",
    "    ax[0, i].legend(loc='upper right')"
   ]
  },
  {
   "cell_type": "code",
   "execution_count": 172,
   "id": "5e874ea3-47f9-4d41-ae97-32eed90d1bd5",
   "metadata": {},
   "outputs": [
    {
     "data": {
      "text/plain": [
       "array([0.00000000e+00, 1.06067034e-05, 2.12134069e-05, ...,\n",
       "       4.99681799e-02, 4.99787866e-02, 4.99893933e-02])"
      ]
     },
     "execution_count": 172,
     "metadata": {},
     "output_type": "execute_result"
    }
   ],
   "source": [
    "N = len(train_timerange)\n",
    "n = np.arange(N)\n",
    "sr = 1 / 20\n",
    "T = N / sr\n",
    "f = n / T\n",
    "f"
   ]
  },
  {
   "cell_type": "markdown",
   "id": "d796fa5b-2528-4da6-92f7-fb61acaf44d1",
   "metadata": {},
   "source": [
    "## Toy implementation"
   ]
  },
  {
   "cell_type": "markdown",
   "id": "89d2c6ba-aaeb-4014-a658-eabbce3fdb6f",
   "metadata": {},
   "source": [
    "Toy examples : \n",
    "* if time domain signal $x$ is composed only of 1 (interactions between 2 nodes at every timestep if we refer to our problem), it can be decomposed by a unique sinusoid in the frequency domain."
   ]
  },
  {
   "cell_type": "code",
   "execution_count": 182,
   "id": "d1866106-5836-4c26-ba3a-cd03048fff27",
   "metadata": {},
   "outputs": [],
   "source": [
    "N = 11\n",
    "\n",
    "n = np.arange(N)\n",
    "k = n.reshape((N, 1))\n",
    "e = np.exp(-2j * np.pi * k * n / N)"
   ]
  },
  {
   "cell_type": "code",
   "execution_count": 183,
   "id": "1ff4156a-5e25-482e-976f-dae2d0b51e0f",
   "metadata": {},
   "outputs": [
    {
     "name": "stdout",
     "output_type": "stream",
     "text": [
      "Amplitude : [1. 1. 1. 1. 1. 1. 1. 1. 1. 1.]\n"
     ]
    },
    {
     "data": {
      "image/png": "[encoded data removed]",
      "text/plain": [
       "<Figure size 432x288 with 1 Axes>"
      ]
     },
     "metadata": {
      "needs_background": "light"
     },
     "output_type": "display_data"
    }
   ],
   "source": [
    "x = np.ones(N) # Time-domain signal\n",
    "\n",
    "DFT = np.dot(e, x) \n",
    "print(f'Amplitude : {np.abs(X)}')\n",
    "\n",
    "plt.bar(range(N), np.abs(DFT), width=0.1)\n",
    "plt.scatter(range(N), np.abs(DFT), color='black');"
   ]
  },
  {
   "cell_type": "code",
   "execution_count": 184,
   "id": "45b9cda6-fd3d-4ac4-b3b3-1c4f3d451a79",
   "metadata": {},
   "outputs": [
    {
     "name": "stdout",
     "output_type": "stream",
     "text": [
      "Amplitude : [1. 1. 1. 1. 1. 1. 1. 1. 1. 1.]\n"
     ]
    },
    {
     "data": {
      "image/png": "[encoded data removed]",
      "text/plain": [
       "<Figure size 432x288 with 1 Axes>"
      ]
     },
     "metadata": {
      "needs_background": "light"
     },
     "output_type": "display_data"
    }
   ],
   "source": [
    "x = np.array([1, 0, 0, 0, 0, 0, 0, 0, 0, 0, 0]) # Time-domain signal\n",
    "DFT = np.dot(e, x) \n",
    "print(f'Amplitude : {np.abs(X)}')\n",
    "\n",
    "plt.bar(range(N), np.abs(DFT), width=0.1)\n",
    "plt.scatter(range(N), np.abs(DFT), color='black');"
   ]
  },
  {
   "cell_type": "code",
   "execution_count": 185,
   "id": "5b530909-0eaf-4fbb-a322-ecbe9ecac357",
   "metadata": {},
   "outputs": [
    {
     "name": "stdout",
     "output_type": "stream",
     "text": [
      "Amplitude : [1. 1. 1. 1. 1. 1. 1. 1. 1. 1.]\n"
     ]
    },
    {
     "data": {
      "image/png": "[encoded data removed]",
      "text/plain": [
       "<Figure size 432x288 with 1 Axes>"
      ]
     },
     "metadata": {
      "needs_background": "light"
     },
     "output_type": "display_data"
    }
   ],
   "source": [
    "x = np.array([1, 0, 1, 0, 1, 0, 1, 0, 1, 0, 1]) # Time-domain signal\n",
    "DFT = np.dot(e, x) \n",
    "print(f'Amplitude : {np.abs(X)}')\n",
    "\n",
    "plt.bar(range(N), np.abs(DFT), width=0.1)\n",
    "plt.scatter(range(N), np.abs(DFT), color='black');"
   ]
  },
  {
   "cell_type": "code",
   "execution_count": 187,
   "id": "584e1e29-897a-42d5-a610-254af96bfc7c",
   "metadata": {},
   "outputs": [
    {
     "name": "stdout",
     "output_type": "stream",
     "text": [
      "Amplitude : [1. 1. 1. 1. 1. 1. 1. 1. 1. 1.]\n"
     ]
    },
    {
     "data": {
      "image/png": "[encoded data removed]",
      "text/plain": [
       "<Figure size 432x288 with 1 Axes>"
      ]
     },
     "metadata": {
      "needs_background": "light"
     },
     "output_type": "display_data"
    }
   ],
   "source": [
    "x = np.array([0, 0, 0, 0, 1, 1, 1, 0, 0, 0, 0]) # Time-domain signal\n",
    "DFT = np.dot(e, x) \n",
    "print(f'Amplitude : {np.abs(X)}')\n",
    "\n",
    "plt.bar(range(N), np.abs(DFT), width=0.1)\n",
    "plt.scatter(range(N), np.abs(DFT), color='black');"
   ]
  },
  {
   "cell_type": "code",
   "execution_count": 188,
   "id": "b4b13faf-0444-4ec8-b6a1-97d01f84b18e",
   "metadata": {},
   "outputs": [
    {
     "name": "stdout",
     "output_type": "stream",
     "text": [
      "Amplitude : [1. 1. 1. 1. 1. 1. 1. 1. 1. 1.]\n"
     ]
    },
    {
     "data": {
      "image/png": "[encoded data removed]",
      "text/plain": [
       "<Figure size 432x288 with 1 Axes>"
      ]
     },
     "metadata": {
      "needs_background": "light"
     },
     "output_type": "display_data"
    }
   ],
   "source": [
    "x = np.array([1, 1, 0, 0, 0, 0, 0, 0, 0, 1, 1]) # Time-domain signal\n",
    "DFT = np.dot(e, x) \n",
    "print(f'Amplitude : {np.abs(X)}')\n",
    "\n",
    "plt.bar(range(N), np.abs(DFT), width=0.1)\n",
    "plt.scatter(range(N), np.abs(DFT), color='black');"
   ]
  },
  {
   "cell_type": "markdown",
   "id": "f4c8b81e-e960-4efe-baf1-0817a09e2293",
   "metadata": {},
   "source": [
    "## Annexes  \n",
    "\n",
    "*Notes are written based on link at top of this notebook.*"
   ]
  },
  {
   "cell_type": "markdown",
   "id": "73ccfd20-6889-45fb-a61f-063061e24b3c",
   "metadata": {},
   "source": [
    "* **period** : amount of time between two repetitions of signal\n",
    "* **wavelength** : distance between two repetitions of signal\n",
    "* **frequency** : how many cycles pass within 1 second\n",
    "* **amplitude** : height of the signal\n",
    "\n",
    "Frequency is different from period : \n",
    "$$\n",
    "period = \\dfrac{1}{frequency}\n",
    "$$"
   ]
  },
  {
   "cell_type": "markdown",
   "id": "a6b012d7-7f04-42f9-af14-127fa0773415",
   "metadata": {},
   "source": [
    "A wave is a *continuous* signal, thus, to encode it, one needs to **sample** it, using a *sample rate* (in Hertz)."
   ]
  },
  {
   "cell_type": "markdown",
   "id": "81fb4d13-8096-4fdb-8df2-171524f15e70",
   "metadata": {},
   "source": [
    "**Example : sine wave**\n",
    "$$\n",
    "y(t) = Asin(\\omega t + \\phi)\n",
    "$$\n",
    "with $A$ the amplitude of the signal, $\\omega$ its angular frequency and $\\phi$ its phase.  \n",
    "If $T$ is the period of the wave, then we have \n",
    "$$\n",
    "\\omega = \\dfrac{2\\pi}{T}\n",
    "$$"
   ]
  },
  {
   "cell_type": "markdown",
   "id": "6b6bbc7a-e57a-4654-a4ee-b98ff9e5f2e7",
   "metadata": {},
   "source": [
    "### Discrete Fourier Transform - DFT  \n",
    "\n",
    "A complicated signal in the time domain can be decomposed in a sum of several sinusoids, each with its own frequency. The DFT algorithm transforms a time-domain signal into a figure in the frequency domain called DFT amplitude spectrum, where signal frequencies of each sinusoid are displayed as bars. The result of DFT is a complex number providing information about both amplitude and phase of signal. Usually, one want to focus on amplitude of this signal, and thus takes the absolute value of DFT result. DFT of a time-domain signal is defined as :\n",
    "$$\n",
    "X_k = \\sum_{n=0}^{N-1} x_n e^{-i \\frac{2\\pi}{N}nk}\n",
    "$$\n",
    "with $N$ the number of samples, $n$ the current sample, $k$ the current frequency ($k \\in [0, N-1]$) and $x_n$ the value of the time-domain signal at sample $n$.\n",
    "\n",
    "If the DFT result shows bars at, 1Hz, 4Hz and 7Hz (for example), it means that the initial time-domain signal was composed of 3 sinusoids with frequencies 1Hz, 4Hz and 7Hz respectively. Note that DFT is symetric."
   ]
  },
  {
   "cell_type": "markdown",
   "id": "6f1aa9f2-d2e2-4b86-bd00-4ac3863c200b",
   "metadata": {},
   "source": [
    "### Fast Fourier Tranform - FFT  \n",
    "\n",
    "One major drawback of the DFT algorithm is that it does not scale at all. To solve this problem, [Cooley and Tukey](https://www.ams.org/journals/mcom/1965-19-090/S0025-5718-1965-0178586-1/S0025-5718-1965-0178586-1.pdf) created the Fast Fourier Transform algorithm."
   ]
  },
  {
   "cell_type": "code",
   "execution_count": null,
   "id": "1cddeea6-9829-480a-8744-8b59ff579269",
   "metadata": {},
   "outputs": [],
   "source": []
  }
 ],
 "metadata": {
  "kernelspec": {
   "display_name": "graphEmbedEnv",
   "language": "python",
   "name": "graphembedenv"
  },
  "language_info": {
   "codemirror_mode": {
    "name": "ipython",
    "version": 3
   },
   "file_extension": ".py",
   "mimetype": "text/x-python",
   "name": "python",
   "nbconvert_exporter": "python",
   "pygments_lexer": "ipython3",
   "version": "3.7.10"
  }
 },
 "nbformat": 4,
 "nbformat_minor": 5
}
