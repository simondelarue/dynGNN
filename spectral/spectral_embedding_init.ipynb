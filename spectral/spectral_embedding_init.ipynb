{
 "cells": [
  {
   "cell_type": "markdown",
   "id": "a14cfd77-49fb-48d7-b9af-161a12bc4b2a",
   "metadata": {},
   "source": [
    "# Dynamic graph embedding - Exploratory Data Analysis"
   ]
  },
  {
   "cell_type": "markdown",
   "id": "be153c3a-d98a-4cd7-9fd3-4a93b328a4b6",
   "metadata": {},
   "source": [
    "**Libraries**"
   ]
  },
  {
   "cell_type": "code",
   "execution_count": null,
   "id": "54a48d28-225d-46de-92ec-9f16583bc8ed",
   "metadata": {},
   "outputs": [],
   "source": [
    "import pandas as pd\n",
    "import streamfig\n",
    "import sknetwork as skn\n",
    "import dynetworkx as dnx\n",
    "import networkx as nx\n",
    "import numpy as np"
   ]
  },
  {
   "cell_type": "markdown",
   "id": "d8c96245-b743-49ae-9a86-5cab4f570d40",
   "metadata": {},
   "source": [
    "## Data"
   ]
  },
  {
   "cell_type": "code",
   "execution_count": 2,
   "id": "c42a3a78-0a1f-4a3c-94b0-9b5e8235399d",
   "metadata": {},
   "outputs": [],
   "source": [
    "path = '/Users/simondelarue/Documents/MS_BGD-Telecom_PARIS/Stage/1_data'"
   ]
  },
  {
   "cell_type": "markdown",
   "id": "3534979e-21f2-43df-82d7-43ec68a34598",
   "metadata": {},
   "source": [
    "Data comes from [SFHH Conference Dataset](http://www.sociopatterns.org/datasets/sfhh-conference-data-set/)."
   ]
  },
  {
   "cell_type": "code",
   "execution_count": 328,
   "id": "99f5a71c-10ac-4444-af4e-192836772d54",
   "metadata": {},
   "outputs": [],
   "source": [
    "df = pd.read_csv(f'{path}/tij_SFHH.dat_', header=None, names=['t', 'i', 'j'], delimiter=' ') # SF2H conference\n",
    "#df = pd.read_csv(f'{path}/highschool_2011.csv', header=None, delimiter='\\t') # High scool interactions (Marseille, France)"
   ]
  },
  {
   "cell_type": "code",
   "execution_count": 45,
   "id": "891bdf03-d2ae-47f7-87cd-65599a0ca30c",
   "metadata": {},
   "outputs": [
    {
     "name": "stdout",
     "output_type": "stream",
     "text": [
      "<class 'pandas.core.frame.DataFrame'>\n",
      "RangeIndex: 70261 entries, 0 to 70260\n",
      "Data columns (total 3 columns):\n",
      " #   Column  Non-Null Count  Dtype\n",
      "---  ------  --------------  -----\n",
      " 0   t       70261 non-null  int64\n",
      " 1   i       70261 non-null  int64\n",
      " 2   j       70261 non-null  int64\n",
      "dtypes: int64(3)\n",
      "memory usage: 1.6 MB\n"
     ]
    }
   ],
   "source": [
    "df.info()"
   ]
  },
  {
   "cell_type": "code",
   "execution_count": 46,
   "id": "0314401c-ae5e-4531-b483-eb5bf9a6f547",
   "metadata": {},
   "outputs": [
    {
     "data": {
      "text/html": [
       "<div>\n",
       "<style scoped>\n",
       "    .dataframe tbody tr th:only-of-type {\n",
       "        vertical-align: middle;\n",
       "    }\n",
       "\n",
       "    .dataframe tbody tr th {\n",
       "        vertical-align: top;\n",
       "    }\n",
       "\n",
       "    .dataframe thead th {\n",
       "        text-align: right;\n",
       "    }\n",
       "</style>\n",
       "<table border=\"1\" class=\"dataframe\">\n",
       "  <thead>\n",
       "    <tr style=\"text-align: right;\">\n",
       "      <th></th>\n",
       "      <th>t</th>\n",
       "      <th>i</th>\n",
       "      <th>j</th>\n",
       "    </tr>\n",
       "  </thead>\n",
       "  <tbody>\n",
       "    <tr>\n",
       "      <th>70256</th>\n",
       "      <td>146820</td>\n",
       "      <td>1669</td>\n",
       "      <td>1754</td>\n",
       "    </tr>\n",
       "    <tr>\n",
       "      <th>70257</th>\n",
       "      <td>146820</td>\n",
       "      <td>1577</td>\n",
       "      <td>1616</td>\n",
       "    </tr>\n",
       "    <tr>\n",
       "      <th>70258</th>\n",
       "      <td>146820</td>\n",
       "      <td>1577</td>\n",
       "      <td>1518</td>\n",
       "    </tr>\n",
       "    <tr>\n",
       "      <th>70259</th>\n",
       "      <td>146820</td>\n",
       "      <td>1518</td>\n",
       "      <td>1616</td>\n",
       "    </tr>\n",
       "    <tr>\n",
       "      <th>70260</th>\n",
       "      <td>146820</td>\n",
       "      <td>1518</td>\n",
       "      <td>1655</td>\n",
       "    </tr>\n",
       "  </tbody>\n",
       "</table>\n",
       "</div>"
      ],
      "text/plain": [
       "            t     i     j\n",
       "70256  146820  1669  1754\n",
       "70257  146820  1577  1616\n",
       "70258  146820  1577  1518\n",
       "70259  146820  1518  1616\n",
       "70260  146820  1518  1655"
      ]
     },
     "execution_count": 46,
     "metadata": {},
     "output_type": "execute_result"
    }
   ],
   "source": [
    "df[df['t']==146820]"
   ]
  },
  {
   "cell_type": "code",
   "execution_count": 81,
   "id": "589f98af-d784-4159-9163-b0d92de25b14",
   "metadata": {},
   "outputs": [
    {
     "name": "stdout",
     "output_type": "stream",
     "text": [
      "Node res      : [1435, 1446, 1486, 1565, 1586, 1614, 1633, 1639, 1646, 1758, 1777, 1780, 1785, 1817, 1830, 1861, 1922]\n",
      "Node res time : [1436, 1484, 1639, 1646, 1682, 1780, 1785, 1817, 1861]\n"
     ]
    }
   ],
   "source": [
    "nodes = list(set(df['i'].unique()).union(set(df['j'].unique())))\n",
    "node_res = []\n",
    "node_res_time = []\n",
    "for node in nodes:\n",
    "    # test on number of edges\n",
    "    if df[(df['i']==node) | (df['j']==node)].shape[0] < 25:\n",
    "        node_res.append(node)\n",
    "    # test on length of global interaction window\n",
    "    if df[(df['i']==node) | (df['j']==node)].index.max() - df[(df['i']==node) | (df['j']==node)].index.min() < 10000:\n",
    "        node_res_time.append(node)\n",
    "print(f'Node res      : {node_res}')\n",
    "print(f'Node res time : {node_res_time}')"
   ]
  },
  {
   "cell_type": "code",
   "execution_count": 87,
   "id": "3e6383c8-8b70-4ed4-b511-681a739a1c45",
   "metadata": {},
   "outputs": [
    {
     "data": {
      "text/html": [
       "<div>\n",
       "<style scoped>\n",
       "    .dataframe tbody tr th:only-of-type {\n",
       "        vertical-align: middle;\n",
       "    }\n",
       "\n",
       "    .dataframe tbody tr th {\n",
       "        vertical-align: top;\n",
       "    }\n",
       "\n",
       "    .dataframe thead th {\n",
       "        text-align: right;\n",
       "    }\n",
       "</style>\n",
       "<table border=\"1\" class=\"dataframe\">\n",
       "  <thead>\n",
       "    <tr style=\"text-align: right;\">\n",
       "      <th></th>\n",
       "      <th>t</th>\n",
       "      <th>i</th>\n",
       "      <th>j</th>\n",
       "    </tr>\n",
       "  </thead>\n",
       "  <tbody>\n",
       "    <tr>\n",
       "      <th>36416</th>\n",
       "      <td>61200</td>\n",
       "      <td>1587</td>\n",
       "      <td>1817</td>\n",
       "    </tr>\n",
       "    <tr>\n",
       "      <th>36462</th>\n",
       "      <td>61220</td>\n",
       "      <td>1587</td>\n",
       "      <td>1817</td>\n",
       "    </tr>\n",
       "    <tr>\n",
       "      <th>36801</th>\n",
       "      <td>61300</td>\n",
       "      <td>1587</td>\n",
       "      <td>1817</td>\n",
       "    </tr>\n",
       "    <tr>\n",
       "      <th>37853</th>\n",
       "      <td>61620</td>\n",
       "      <td>1587</td>\n",
       "      <td>1817</td>\n",
       "    </tr>\n",
       "    <tr>\n",
       "      <th>38272</th>\n",
       "      <td>61780</td>\n",
       "      <td>1587</td>\n",
       "      <td>1817</td>\n",
       "    </tr>\n",
       "    <tr>\n",
       "      <th>38877</th>\n",
       "      <td>62060</td>\n",
       "      <td>1587</td>\n",
       "      <td>1817</td>\n",
       "    </tr>\n",
       "    <tr>\n",
       "      <th>39104</th>\n",
       "      <td>62220</td>\n",
       "      <td>1587</td>\n",
       "      <td>1817</td>\n",
       "    </tr>\n",
       "    <tr>\n",
       "      <th>39241</th>\n",
       "      <td>62340</td>\n",
       "      <td>1587</td>\n",
       "      <td>1817</td>\n",
       "    </tr>\n",
       "    <tr>\n",
       "      <th>39682</th>\n",
       "      <td>62700</td>\n",
       "      <td>1651</td>\n",
       "      <td>1817</td>\n",
       "    </tr>\n",
       "    <tr>\n",
       "      <th>40940</th>\n",
       "      <td>64060</td>\n",
       "      <td>1689</td>\n",
       "      <td>1817</td>\n",
       "    </tr>\n",
       "    <tr>\n",
       "      <th>40982</th>\n",
       "      <td>64120</td>\n",
       "      <td>1817</td>\n",
       "      <td>1819</td>\n",
       "    </tr>\n",
       "  </tbody>\n",
       "</table>\n",
       "</div>"
      ],
      "text/plain": [
       "           t     i     j\n",
       "36416  61200  1587  1817\n",
       "36462  61220  1587  1817\n",
       "36801  61300  1587  1817\n",
       "37853  61620  1587  1817\n",
       "38272  61780  1587  1817\n",
       "38877  62060  1587  1817\n",
       "39104  62220  1587  1817\n",
       "39241  62340  1587  1817\n",
       "39682  62700  1651  1817\n",
       "40940  64060  1689  1817\n",
       "40982  64120  1817  1819"
      ]
     },
     "execution_count": 87,
     "metadata": {},
     "output_type": "execute_result"
    }
   ],
   "source": [
    "node_number = 1817\n",
    "df[(df['i']==node_number) | (df['j']==node_number)]"
   ]
  },
  {
   "cell_type": "code",
   "execution_count": 47,
   "id": "7ab71bb8-af8f-4e0c-82dc-50aba0dbfa64",
   "metadata": {},
   "outputs": [
    {
     "name": "stdout",
     "output_type": "stream",
     "text": [
      "Nombre de participants (i) : 397\n",
      "Nombre de participants (j) : 398\n"
     ]
    }
   ],
   "source": [
    "print(f\"Nombre de participants (i) : {df['i'].nunique()}\")\n",
    "print(f\"Nombre de participants (j) : {df['j'].nunique()}\")"
   ]
  },
  {
   "cell_type": "markdown",
   "id": "5e60ad9f-596c-481a-b755-5877d34aadd3",
   "metadata": {},
   "source": [
    "## Preprocessing"
   ]
  },
  {
   "cell_type": "markdown",
   "id": "602dfb4a-8b1c-443f-a8da-8549639e68de",
   "metadata": {},
   "source": [
    "**Interval graph** networks are represented by a collection of edges existing over a time interval (see [*Data compression to choose a proper dynamicnetwork representation*](https://arxiv.org/pdf/2010.06885.pdf)).  \n",
    "\n",
    "The SF2H dataset contains one entry for each 20 sec timestep interval between two vertices. Thus, it could be interesting to agregate information over the entire time interval, if 2 nodes are interacting for more than 20 seconds in a consecutive period of time."
   ]
  },
  {
   "cell_type": "code",
   "execution_count": 145,
   "id": "1de15079-19eb-4057-b307-084414278ede",
   "metadata": {},
   "outputs": [
    {
     "data": {
      "text/html": [
       "<div>\n",
       "<style scoped>\n",
       "    .dataframe tbody tr th:only-of-type {\n",
       "        vertical-align: middle;\n",
       "    }\n",
       "\n",
       "    .dataframe tbody tr th {\n",
       "        vertical-align: top;\n",
       "    }\n",
       "\n",
       "    .dataframe thead th {\n",
       "        text-align: right;\n",
       "    }\n",
       "</style>\n",
       "<table border=\"1\" class=\"dataframe\">\n",
       "  <thead>\n",
       "    <tr style=\"text-align: right;\">\n",
       "      <th></th>\n",
       "      <th>i</th>\n",
       "      <th>j</th>\n",
       "      <th>start</th>\n",
       "      <th>end</th>\n",
       "    </tr>\n",
       "  </thead>\n",
       "  <tbody>\n",
       "    <tr>\n",
       "      <th>0</th>\n",
       "      <td>1587</td>\n",
       "      <td>1817</td>\n",
       "      <td>61180</td>\n",
       "      <td>61220</td>\n",
       "    </tr>\n",
       "    <tr>\n",
       "      <th>1</th>\n",
       "      <td>1587</td>\n",
       "      <td>1817</td>\n",
       "      <td>61280</td>\n",
       "      <td>61300</td>\n",
       "    </tr>\n",
       "    <tr>\n",
       "      <th>2</th>\n",
       "      <td>1587</td>\n",
       "      <td>1817</td>\n",
       "      <td>61600</td>\n",
       "      <td>61620</td>\n",
       "    </tr>\n",
       "    <tr>\n",
       "      <th>3</th>\n",
       "      <td>1587</td>\n",
       "      <td>1817</td>\n",
       "      <td>61760</td>\n",
       "      <td>61780</td>\n",
       "    </tr>\n",
       "    <tr>\n",
       "      <th>4</th>\n",
       "      <td>1587</td>\n",
       "      <td>1817</td>\n",
       "      <td>62040</td>\n",
       "      <td>62060</td>\n",
       "    </tr>\n",
       "    <tr>\n",
       "      <th>5</th>\n",
       "      <td>1587</td>\n",
       "      <td>1817</td>\n",
       "      <td>62200</td>\n",
       "      <td>62220</td>\n",
       "    </tr>\n",
       "    <tr>\n",
       "      <th>6</th>\n",
       "      <td>1587</td>\n",
       "      <td>1817</td>\n",
       "      <td>62320</td>\n",
       "      <td>62340</td>\n",
       "    </tr>\n",
       "    <tr>\n",
       "      <th>7</th>\n",
       "      <td>1651</td>\n",
       "      <td>1817</td>\n",
       "      <td>62680</td>\n",
       "      <td>62700</td>\n",
       "    </tr>\n",
       "    <tr>\n",
       "      <th>8</th>\n",
       "      <td>1689</td>\n",
       "      <td>1817</td>\n",
       "      <td>64040</td>\n",
       "      <td>64060</td>\n",
       "    </tr>\n",
       "    <tr>\n",
       "      <th>9</th>\n",
       "      <td>1817</td>\n",
       "      <td>1819</td>\n",
       "      <td>64100</td>\n",
       "      <td>64120</td>\n",
       "    </tr>\n",
       "  </tbody>\n",
       "</table>\n",
       "</div>"
      ],
      "text/plain": [
       "      i     j  start    end\n",
       "0  1587  1817  61180  61220\n",
       "1  1587  1817  61280  61300\n",
       "2  1587  1817  61600  61620\n",
       "3  1587  1817  61760  61780\n",
       "4  1587  1817  62040  62060\n",
       "5  1587  1817  62200  62220\n",
       "6  1587  1817  62320  62340\n",
       "7  1651  1817  62680  62700\n",
       "8  1689  1817  64040  64060\n",
       "9  1817  1819  64100  64120"
      ]
     },
     "execution_count": 145,
     "metadata": {},
     "output_type": "execute_result"
    }
   ],
   "source": [
    "sid = df[(df['i']==node_number) | (df['j']==node_number)]\n",
    "\n",
    "\n",
    "start_times = [sid.iloc[0, :]['t'] - 20] \n",
    "end_times = [sid.iloc[0, :]['t']]\n",
    "for cpt, (idx, row) in enumerate(sid.iloc[1:, :].iterrows()):\n",
    "    if row['t'] == sid.iloc[cpt, :]['t'] + 20 and row['i'] == sid.iloc[cpt, :]['i'] and row['j'] == sid.iloc[cpt, :]['j']:\n",
    "        start_times.append(sid.iloc[cpt, :]['t'] - 20) \n",
    "        end_times.append(row['t'])\n",
    "    else:\n",
    "        start_times.append(row['t'] - 20) \n",
    "        end_times.append(row['t'])\n",
    "        \n",
    "sid_cp = sid.copy().reset_index()\n",
    "sid_cp['start'] = start_times\n",
    "sid_cp['end'] = end_times\n",
    "sid_cp = pd.DataFrame(sid_cp[['i', 'j', 'start', 'end']].groupby(['i', 'j', 'start'])['end'].max()).reset_index()\n",
    "sid_cp"
   ]
  },
  {
   "cell_type": "code",
   "execution_count": 329,
   "id": "e758e0bc-8c52-4d9e-b2f3-432ed95d9550",
   "metadata": {},
   "outputs": [],
   "source": [
    "class SF2HPreprocessor():\n",
    "    \n",
    "    def __init__(self, df):\n",
    "        self.df = df.sort_values(['i', 'j', 't'])\n",
    "        self.nodes = list(set(df['i'].unique()).union(set(df['j'].unique())))\n",
    "        \n",
    "    def sub_df_by_node(self, node):\n",
    "        return self.df[self.df['i'] == node | self.df['j'] == node]\n",
    "        \n",
    "    def aggregate_edges(self):\n",
    "        start_times = [self.df.iloc[0, :]['t'] - 20] \n",
    "        end_times = [self.df.iloc[0, :]['t']]\n",
    "        for cpt, (idx, row) in enumerate(self.df.iloc[1:, :].iterrows()):\n",
    "            if (row['t'] == self.df.iloc[cpt, :]['t'] + 20 \n",
    "                and row['i'] == self.df.iloc[cpt, :]['i'] \n",
    "                and row['j'] == self.df.iloc[cpt, :]['j']):\n",
    "                start_times.append(start_times[cpt]) \n",
    "                end_times.append(row['t'])\n",
    "            else:\n",
    "                start_times.append(row['t'] - 20) \n",
    "                end_times.append(row['t'])\n",
    "\n",
    "        df_ag = self.df.copy().reset_index()[['i', 'j']]\n",
    "        df_ag['start'] = start_times\n",
    "        df_ag['end'] = end_times\n",
    "        df_ag = pd.DataFrame(df_ag.groupby(['i', 'j', 'start']).max('end')).reset_index().sort_values(['start'])\n",
    "        return df_ag"
   ]
  },
  {
   "cell_type": "code",
   "execution_count": 330,
   "id": "e8512b7d-f351-4c96-928e-683908767b3b",
   "metadata": {},
   "outputs": [
    {
     "name": "stdout",
     "output_type": "stream",
     "text": [
      "CPU times: user 41.4 s, sys: 352 ms, total: 41.7 s\n",
      "Wall time: 43.9 s\n"
     ]
    }
   ],
   "source": [
    "%%time\n",
    "\n",
    "SF2H_preproc = SF2HPreprocessor(df)\n",
    "\n",
    "df_ag = SF2H_preproc.aggregate_edges()"
   ]
  },
  {
   "cell_type": "markdown",
   "id": "304ac717-6afa-4927-a2e5-c322992c3ab7",
   "metadata": {},
   "source": [
    "**Save data**"
   ]
  },
  {
   "cell_type": "code",
   "execution_count": 288,
   "id": "839f145c-d796-4baa-9fd8-e2912422bcf8",
   "metadata": {},
   "outputs": [],
   "source": [
    "df_ag.to_pickle(f'{path}/preprocessed_data/aggregated_data.pkl')"
   ]
  },
  {
   "cell_type": "code",
   "execution_count": 337,
   "id": "176fbeba-5754-4da0-9091-1a38b27b68f5",
   "metadata": {},
   "outputs": [],
   "source": [
    "df_ag.to_csv(f'{path}/preprocessed_data/aggregated_data.txt', header=None, index=None, sep='\\t', mode='w')"
   ]
  },
  {
   "cell_type": "code",
   "execution_count": 440,
   "id": "9550170a-6ca5-4700-9d6d-7ac635b28ae4",
   "metadata": {},
   "outputs": [],
   "source": [
    "sub_df = df_ag[(df_ag['i']==1436) | (df_ag['j']==1436)]\n",
    "sub_df.to_csv(f'{path}/preprocessed_data/aggregated_data_1436.txt', header=None, index=None, sep='\\t', mode='w')"
   ]
  },
  {
   "cell_type": "code",
   "execution_count": 338,
   "id": "ad170c7f-9ece-45c3-9b6d-3bb777ca4b50",
   "metadata": {},
   "outputs": [],
   "source": [
    "df_ag.iloc[50:70, :].to_csv(f'{path}/preprocessed_data/aggregated_data_toy.txt', header=None, index=None, sep='\\t', mode='w')"
   ]
  },
  {
   "cell_type": "code",
   "execution_count": 287,
   "id": "e1783276-ed98-4c82-b543-d68d4f046fec",
   "metadata": {},
   "outputs": [
    {
     "name": "stdout",
     "output_type": "stream",
     "text": [
      "<class 'pandas.core.frame.DataFrame'>\n",
      "Int64Index: 26040 entries, 1100 to 11721\n",
      "Data columns (total 4 columns):\n",
      " #   Column  Non-Null Count  Dtype\n",
      "---  ------  --------------  -----\n",
      " 0   i       26040 non-null  int64\n",
      " 1   j       26040 non-null  int64\n",
      " 2   start   26040 non-null  int64\n",
      " 3   end     26040 non-null  int64\n",
      "dtypes: int64(4)\n",
      "memory usage: 1017.2 KB\n"
     ]
    }
   ],
   "source": [
    "df_ag.info()"
   ]
  },
  {
   "cell_type": "markdown",
   "id": "68ba6957-b24c-4ac6-8eca-ec326df07d4f",
   "metadata": {},
   "source": [
    "## Exploratory Data Analysis"
   ]
  },
  {
   "cell_type": "markdown",
   "id": "93cbd9bc-b525-48ab-af33-85ec25cb09ac",
   "metadata": {},
   "source": [
    "* Computes metrics on graph using Arnoux et al, metrics (Common neighbors index, etc)"
   ]
  },
  {
   "cell_type": "markdown",
   "id": "7743a167-5808-4a31-be65-5e3a391bb4cb",
   "metadata": {},
   "source": [
    "Build networkX graph from interactions sequence thanks to `nx.interval_graph()`."
   ]
  },
  {
   "cell_type": "code",
   "execution_count": 438,
   "id": "3fa0b9fb-684d-45ce-b0fb-4a8faa0f76a2",
   "metadata": {},
   "outputs": [
    {
     "data": {
      "image/png": "[encoded data removed]",
      "text/plain": [
       "<Figure size 432x288 with 1 Axes>"
      ]
     },
     "metadata": {},
     "output_type": "display_data"
    }
   ],
   "source": [
    "# Build NetworkX Graph from this data\n",
    "interactions = [(row[0]+np.random.uniform(1e-5, 10**(-20)), row[1]) for row in zip(nx_df['start'], nx_df['end'])]\n",
    "IG = nx.interval_graph(interactions)\n",
    "nx.draw(IG, pos=nx.spring_layout(IG))"
   ]
  },
  {
   "cell_type": "markdown",
   "id": "2a125c13-6f7e-408d-ad60-8262c198206f",
   "metadata": {},
   "source": [
    "## Dynamic graphs"
   ]
  },
  {
   "cell_type": "markdown",
   "id": "61cfaf0a-ef17-46d5-b226-402f5698e7ff",
   "metadata": {},
   "source": [
    "### Data"
   ]
  },
  {
   "cell_type": "markdown",
   "id": "12b1acc7-d651-4b12-90ca-8809015d008f",
   "metadata": {},
   "source": [
    "Data comes from [GoodRead Dataset](https://sites.google.com/eng.ucsd.edu/ucsdbookgraph/shelves)"
   ]
  },
  {
   "cell_type": "code",
   "execution_count": 223,
   "id": "1bc7faba-d581-4ecf-b966-2a222d2b3781",
   "metadata": {},
   "outputs": [
    {
     "name": "stdout",
     "output_type": "stream",
     "text": [
      "CPU times: user 1min 25s, sys: 55.2 s, total: 2min 20s\n",
      "Wall time: 2min 49s\n"
     ]
    }
   ],
   "source": [
    "%%time\n",
    "good_read = pd.read_csv(f'{path}/goodreads_interactions.csv')"
   ]
  },
  {
   "cell_type": "code",
   "execution_count": 470,
   "id": "b1ea381a-4381-4cb7-9178-e1bfa42c2c02",
   "metadata": {},
   "outputs": [
    {
     "name": "stdout",
     "output_type": "stream",
     "text": [
      "<class 'pandas.core.frame.DataFrame'>\n",
      "RangeIndex: 228648342 entries, 0 to 228648341\n",
      "Data columns (total 5 columns):\n",
      " #   Column       Dtype\n",
      "---  ------       -----\n",
      " 0   user_id      int64\n",
      " 1   book_id      int64\n",
      " 2   is_read      int64\n",
      " 3   rating       int64\n",
      " 4   is_reviewed  int64\n",
      "dtypes: int64(5)\n",
      "memory usage: 8.5 GB\n"
     ]
    }
   ],
   "source": [
    "good_read.info()"
   ]
  },
  {
   "cell_type": "markdown",
   "id": "4766a452-57d6-43bc-8d4e-045fafb62b0f",
   "metadata": {},
   "source": [
    "**Build custom data**  \n",
    "\n",
    "From the original dataset, we build smaller datasets (100 readers for example) in order to accelerate processing during research steps."
   ]
  },
  {
   "cell_type": "code",
   "execution_count": 230,
   "id": "a85657f5-fe63-40ab-8a63-b5642b782ef6",
   "metadata": {},
   "outputs": [
    {
     "name": "stdout",
     "output_type": "stream",
     "text": [
      "<class 'pandas.core.frame.DataFrame'>\n",
      "Int64Index: 42159 entries, 0 to 42158\n",
      "Data columns (total 3 columns):\n",
      " #   Column   Non-Null Count  Dtype\n",
      "---  ------   --------------  -----\n",
      " 0   user_id  42159 non-null  int64\n",
      " 1   book_id  42159 non-null  int64\n",
      " 2   is_read  42159 non-null  int64\n",
      "dtypes: int64(3)\n",
      "memory usage: 1.3 MB\n"
     ]
    }
   ],
   "source": [
    "good_read_100_users = good_read[good_read['user_id']<100][['user_id', 'book_id', 'is_read']]\n",
    "good_read_100_users.info()"
   ]
  },
  {
   "cell_type": "code",
   "execution_count": 472,
   "id": "95211d71-d892-46ec-8df1-4fd105d16792",
   "metadata": {},
   "outputs": [
    {
     "data": {
      "text/html": [
       "<div>\n",
       "<style scoped>\n",
       "    .dataframe tbody tr th:only-of-type {\n",
       "        vertical-align: middle;\n",
       "    }\n",
       "\n",
       "    .dataframe tbody tr th {\n",
       "        vertical-align: top;\n",
       "    }\n",
       "\n",
       "    .dataframe thead th {\n",
       "        text-align: right;\n",
       "    }\n",
       "</style>\n",
       "<table border=\"1\" class=\"dataframe\">\n",
       "  <thead>\n",
       "    <tr style=\"text-align: right;\">\n",
       "      <th></th>\n",
       "      <th>user_id</th>\n",
       "      <th>book_id</th>\n",
       "      <th>is_read</th>\n",
       "    </tr>\n",
       "  </thead>\n",
       "  <tbody>\n",
       "    <tr>\n",
       "      <th>0</th>\n",
       "      <td>0</td>\n",
       "      <td>948</td>\n",
       "      <td>1</td>\n",
       "    </tr>\n",
       "    <tr>\n",
       "      <th>1</th>\n",
       "      <td>0</td>\n",
       "      <td>947</td>\n",
       "      <td>1</td>\n",
       "    </tr>\n",
       "    <tr>\n",
       "      <th>2</th>\n",
       "      <td>0</td>\n",
       "      <td>946</td>\n",
       "      <td>1</td>\n",
       "    </tr>\n",
       "    <tr>\n",
       "      <th>3</th>\n",
       "      <td>0</td>\n",
       "      <td>945</td>\n",
       "      <td>1</td>\n",
       "    </tr>\n",
       "    <tr>\n",
       "      <th>4</th>\n",
       "      <td>0</td>\n",
       "      <td>944</td>\n",
       "      <td>1</td>\n",
       "    </tr>\n",
       "    <tr>\n",
       "      <th>...</th>\n",
       "      <td>...</td>\n",
       "      <td>...</td>\n",
       "      <td>...</td>\n",
       "    </tr>\n",
       "    <tr>\n",
       "      <th>42154</th>\n",
       "      <td>99</td>\n",
       "      <td>27699</td>\n",
       "      <td>1</td>\n",
       "    </tr>\n",
       "    <tr>\n",
       "      <th>42155</th>\n",
       "      <td>99</td>\n",
       "      <td>27698</td>\n",
       "      <td>1</td>\n",
       "    </tr>\n",
       "    <tr>\n",
       "      <th>42156</th>\n",
       "      <td>99</td>\n",
       "      <td>27697</td>\n",
       "      <td>1</td>\n",
       "    </tr>\n",
       "    <tr>\n",
       "      <th>42157</th>\n",
       "      <td>99</td>\n",
       "      <td>27696</td>\n",
       "      <td>1</td>\n",
       "    </tr>\n",
       "    <tr>\n",
       "      <th>42158</th>\n",
       "      <td>99</td>\n",
       "      <td>27695</td>\n",
       "      <td>1</td>\n",
       "    </tr>\n",
       "  </tbody>\n",
       "</table>\n",
       "<p>42159 rows × 3 columns</p>\n",
       "</div>"
      ],
      "text/plain": [
       "       user_id  book_id  is_read\n",
       "0            0      948        1\n",
       "1            0      947        1\n",
       "2            0      946        1\n",
       "3            0      945        1\n",
       "4            0      944        1\n",
       "...        ...      ...      ...\n",
       "42154       99    27699        1\n",
       "42155       99    27698        1\n",
       "42156       99    27697        1\n",
       "42157       99    27696        1\n",
       "42158       99    27695        1\n",
       "\n",
       "[42159 rows x 3 columns]"
      ]
     },
     "execution_count": 472,
     "metadata": {},
     "output_type": "execute_result"
    }
   ],
   "source": [
    "good_read_100_users"
   ]
  },
  {
   "cell_type": "code",
   "execution_count": 61,
   "id": "ed407549-8463-43c2-b394-9d834c20be87",
   "metadata": {},
   "outputs": [],
   "source": [
    "# filters only users that have read the books\n",
    "sid_isread = sid[sid['is_read']==1]"
   ]
  },
  {
   "cell_type": "code",
   "execution_count": 62,
   "id": "c897e117-0007-4d9f-a988-354a7d6b1d41",
   "metadata": {},
   "outputs": [],
   "source": [
    "sid_is_read.to_csv(f'{path}/goodreads_interactions_100_users_isread.csv', index=False, header=False) # 674 Ko"
   ]
  },
  {
   "cell_type": "code",
   "execution_count": 475,
   "id": "7a073aa5-7802-4e54-ba39-337bdb067d2b",
   "metadata": {},
   "outputs": [],
   "source": [
    "good_read_100_users.to_pickle(f'{path}/goodreads_interactions_100_users.pkl')"
   ]
  },
  {
   "cell_type": "code",
   "execution_count": null,
   "id": "96a03da4-210a-4c9b-8fdd-c5c6d36c0669",
   "metadata": {},
   "outputs": [],
   "source": [
    "%%time\n",
    "sid_isread = pd.read_pickle(f'{path}/goodreads_interactions_100_users_isread.pkl')\n",
    "sid_isread.head()"
   ]
  },
  {
   "cell_type": "code",
   "execution_count": 58,
   "id": "3e565967-8060-4eca-8425-570b81f49c4f",
   "metadata": {},
   "outputs": [
    {
     "data": {
      "text/html": [
       "<div>\n",
       "<style scoped>\n",
       "    .dataframe tbody tr th:only-of-type {\n",
       "        vertical-align: middle;\n",
       "    }\n",
       "\n",
       "    .dataframe tbody tr th {\n",
       "        vertical-align: top;\n",
       "    }\n",
       "\n",
       "    .dataframe thead th {\n",
       "        text-align: right;\n",
       "    }\n",
       "</style>\n",
       "<table border=\"1\" class=\"dataframe\">\n",
       "  <thead>\n",
       "    <tr style=\"text-align: right;\">\n",
       "      <th></th>\n",
       "      <th>user_id</th>\n",
       "      <th>book_id</th>\n",
       "      <th>is_read</th>\n",
       "    </tr>\n",
       "  </thead>\n",
       "  <tbody>\n",
       "    <tr>\n",
       "      <th>35</th>\n",
       "      <td>0</td>\n",
       "      <td>913</td>\n",
       "      <td>0</td>\n",
       "    </tr>\n",
       "    <tr>\n",
       "      <th>37</th>\n",
       "      <td>0</td>\n",
       "      <td>911</td>\n",
       "      <td>0</td>\n",
       "    </tr>\n",
       "    <tr>\n",
       "      <th>38</th>\n",
       "      <td>0</td>\n",
       "      <td>910</td>\n",
       "      <td>0</td>\n",
       "    </tr>\n",
       "    <tr>\n",
       "      <th>41</th>\n",
       "      <td>0</td>\n",
       "      <td>907</td>\n",
       "      <td>0</td>\n",
       "    </tr>\n",
       "    <tr>\n",
       "      <th>42</th>\n",
       "      <td>0</td>\n",
       "      <td>906</td>\n",
       "      <td>0</td>\n",
       "    </tr>\n",
       "    <tr>\n",
       "      <th>...</th>\n",
       "      <td>...</td>\n",
       "      <td>...</td>\n",
       "      <td>...</td>\n",
       "    </tr>\n",
       "    <tr>\n",
       "      <th>42040</th>\n",
       "      <td>98</td>\n",
       "      <td>27597</td>\n",
       "      <td>0</td>\n",
       "    </tr>\n",
       "    <tr>\n",
       "      <th>42055</th>\n",
       "      <td>99</td>\n",
       "      <td>27780</td>\n",
       "      <td>0</td>\n",
       "    </tr>\n",
       "    <tr>\n",
       "      <th>42071</th>\n",
       "      <td>99</td>\n",
       "      <td>27766</td>\n",
       "      <td>0</td>\n",
       "    </tr>\n",
       "    <tr>\n",
       "      <th>42105</th>\n",
       "      <td>99</td>\n",
       "      <td>27738</td>\n",
       "      <td>0</td>\n",
       "    </tr>\n",
       "    <tr>\n",
       "      <th>42107</th>\n",
       "      <td>99</td>\n",
       "      <td>27736</td>\n",
       "      <td>0</td>\n",
       "    </tr>\n",
       "  </tbody>\n",
       "</table>\n",
       "<p>22000 rows × 3 columns</p>\n",
       "</div>"
      ],
      "text/plain": [
       "       user_id  book_id  is_read\n",
       "35           0      913        0\n",
       "37           0      911        0\n",
       "38           0      910        0\n",
       "41           0      907        0\n",
       "42           0      906        0\n",
       "...        ...      ...      ...\n",
       "42040       98    27597        0\n",
       "42055       99    27780        0\n",
       "42071       99    27766        0\n",
       "42105       99    27738        0\n",
       "42107       99    27736        0\n",
       "\n",
       "[22000 rows x 3 columns]"
      ]
     },
     "execution_count": 58,
     "metadata": {},
     "output_type": "execute_result"
    }
   ],
   "source": [
    "sid[sid['is_read']==0]"
   ]
  },
  {
   "cell_type": "code",
   "execution_count": 238,
   "id": "32a2ce30-aafa-4d24-bd1a-97acf4cbc6d5",
   "metadata": {},
   "outputs": [],
   "source": [
    "from sklearn.model_selection import train_test_split\n",
    "\n",
    "good_read_100_users_is_read = good_read[(good_read['user_id']<100)\n",
    "                                            & (good_read['is_read']==1)][['user_id', 'book_id', 'is_read']]\n",
    "X_train, X_test = train_test_split(good_read_100_users_is_read, random_state=42, test_size=0.2)\n",
    "\n",
    "X_train.to_csv(f'{path}/goodreads_interactions_100_users_isread_train.csv', index=False, header=False)\n",
    "X_test.to_csv(f'{path}/goodreads_interactions_100_users_isread_test.csv', index=False, header=False)"
   ]
  },
  {
   "cell_type": "code",
   "execution_count": 374,
   "id": "d4fe922a-894f-47a9-901b-116250e45914",
   "metadata": {},
   "outputs": [
    {
     "data": {
      "text/plain": [
       "(16127, 3)"
      ]
     },
     "execution_count": 374,
     "metadata": {},
     "output_type": "execute_result"
    }
   ],
   "source": [
    "X_train.shape"
   ]
  },
  {
   "cell_type": "markdown",
   "id": "2829cbc4-b594-4a33-99f9-8133efa2c917",
   "metadata": {},
   "source": [
    "Data for users with index in $[100;200[$, with `is_read` value equals 1."
   ]
  },
  {
   "cell_type": "code",
   "execution_count": 224,
   "id": "c1a6efd7-bde4-40e5-befd-3f7491a82373",
   "metadata": {},
   "outputs": [],
   "source": [
    "good_read_100_200_users_is_read = good_read[(good_read['user_id']>=100) \n",
    "                                            & (good_read['user_id']<200) \n",
    "                                            & (good_read['is_read']==1)][['user_id', 'book_id', 'is_read']]\n",
    "\n",
    "good_read_100_200_users_is_read.to_csv(f'{path}/goodreads_interactions_100_200_users_isread.csv', index=False, header=False)"
   ]
  },
  {
   "cell_type": "markdown",
   "id": "b2e0fa85-ef71-40cf-b071-cb7cdd466f89",
   "metadata": {},
   "source": [
    "## Spectral node embedding"
   ]
  },
  {
   "cell_type": "markdown",
   "id": "926cc446-388f-458c-bdd1-ead64d21a34a",
   "metadata": {},
   "source": [
    "1. Computes spectral node embedding for bipartite graph (using Lanczos solver)  \n",
    "    - Bipartite graph is built with the first 100 readers and all the books they've read\n",
    "2. Visualize impact on previous embedding when adding a new node/edge in the graph  \n",
    "    - New nodes/edges are retrieved from the users with index $\\in [100;200[$ in the original dataset\n",
    "3. Compare metrics based on embedded space, before and after adding nodes/edges in the graph. Metrics can be :  \n",
    "    - KMeans result in the embedding space (modularity metrics) ?\n",
    "    - Cosine modularity of the embedding ? \n",
    "    - Top similar nodes in the embedding space ?\n",
    "    - Common neighbors of top similar nodes ?\n",
    "\n",
    "Further work :  \n",
    "* Computes embedded space using `v0` parameter in Lanczos solver, initialized at previous embedding value for each iteration (instead of random initialization at every embedding space computation)"
   ]
  },
  {
   "cell_type": "code",
   "execution_count": 3,
   "id": "5f3d1c18-bc6a-4c58-bd29-44ba1524fcba",
   "metadata": {},
   "outputs": [],
   "source": [
    "from IPython.display import SVG\n",
    "\n",
    "import sknetwork as sk\n",
    "from sknetwork.visualization import svg_bigraph\n",
    "from scipy.sparse import csr_matrix\n",
    "from sknetwork.embedding import BiSpectral\n",
    "import matplotlib.pyplot as plt"
   ]
  },
  {
   "cell_type": "markdown",
   "id": "ac83f732-9c9a-4384-9e53-d2d0ae48a3d1",
   "metadata": {},
   "source": [
    "### 1. Import Data"
   ]
  },
  {
   "cell_type": "markdown",
   "id": "ea26d675-c5eb-4ca1-bdf5-485ef2b806b7",
   "metadata": {},
   "source": [
    "Import dataset as a **bipartite graph**. This forces to store data in **CSR format**."
   ]
  },
  {
   "cell_type": "code",
   "execution_count": 49,
   "id": "fd8e5c1c-97e0-4566-b1da-cae896abd8ac",
   "metadata": {},
   "outputs": [
    {
     "name": "stdout",
     "output_type": "stream",
     "text": [
      "CPU times: user 72 ms, sys: 9.29 ms, total: 81.3 ms\n",
      "Wall time: 85.1 ms\n"
     ]
    }
   ],
   "source": [
    "%%time\n",
    "goodReads = sk.data.load_edge_list(f'{path}/goodreads_interactions_100_users_isread_train.csv', bipartite=True, fast_format=False)"
   ]
  },
  {
   "cell_type": "code",
   "execution_count": 50,
   "id": "614d2977-c8da-4da2-afc4-7f320d36f53d",
   "metadata": {},
   "outputs": [
    {
     "data": {
      "text/plain": [
       "{'biadjacency': <100x11253 sparse matrix of type '<class 'numpy.float64'>'\n",
       " \twith 16127 stored elements in Compressed Sparse Row format>,\n",
       " 'names': array([ 0,  1,  2,  3,  4,  5,  6,  7,  8,  9, 10, 11, 12, 13, 14, 15, 16,\n",
       "        17, 18, 19, 20, 21, 22, 23, 24, 25, 26, 27, 28, 29, 30, 31, 32, 33,\n",
       "        34, 35, 36, 37, 38, 39, 40, 41, 42, 43, 44, 45, 46, 47, 48, 49, 50,\n",
       "        51, 52, 53, 54, 55, 56, 57, 58, 59, 60, 61, 62, 63, 64, 65, 66, 67,\n",
       "        68, 69, 70, 71, 72, 73, 74, 75, 76, 77, 78, 79, 80, 81, 82, 83, 84,\n",
       "        85, 86, 87, 88, 89, 90, 91, 92, 93, 94, 95, 96, 97, 98, 99]),\n",
       " 'names_row': array([ 0,  1,  2,  3,  4,  5,  6,  7,  8,  9, 10, 11, 12, 13, 14, 15, 16,\n",
       "        17, 18, 19, 20, 21, 22, 23, 24, 25, 26, 27, 28, 29, 30, 31, 32, 33,\n",
       "        34, 35, 36, 37, 38, 39, 40, 41, 42, 43, 44, 45, 46, 47, 48, 49, 50,\n",
       "        51, 52, 53, 54, 55, 56, 57, 58, 59, 60, 61, 62, 63, 64, 65, 66, 67,\n",
       "        68, 69, 70, 71, 72, 73, 74, 75, 76, 77, 78, 79, 80, 81, 82, 83, 84,\n",
       "        85, 86, 87, 88, 89, 90, 91, 92, 93, 94, 95, 96, 97, 98, 99]),\n",
       " 'names_col': array([   10,    13,    14, ..., 27788, 27789, 27790])}"
      ]
     },
     "execution_count": 50,
     "metadata": {},
     "output_type": "execute_result"
    }
   ],
   "source": [
    "goodReads"
   ]
  },
  {
   "cell_type": "code",
   "execution_count": 51,
   "id": "27a4855c-32e9-4a09-bcb4-6be10f562779",
   "metadata": {},
   "outputs": [
    {
     "data": {
      "text/plain": [
       "<100x11253 sparse matrix of type '<class 'numpy.float64'>'\n",
       "\twith 16127 stored elements in Compressed Sparse Row format>"
      ]
     },
     "execution_count": 51,
     "metadata": {},
     "output_type": "execute_result"
    }
   ],
   "source": [
    "biadjacency = goodReads.biadjacency\n",
    "readers = goodReads.names\n",
    "books = goodReads.names_col\n",
    "\n",
    "# Biadjacency matrix in CSR format\n",
    "biadjacency"
   ]
  },
  {
   "cell_type": "code",
   "execution_count": 52,
   "id": "02d2da83-9023-4b01-81f6-af73b9b7b8fe",
   "metadata": {},
   "outputs": [
    {
     "name": "stdout",
     "output_type": "stream",
     "text": [
      "# of readers = 100\n",
      "# of books   = 11253\n"
     ]
    }
   ],
   "source": [
    "print(f'# of readers = {len(np.unique(readers))}')\n",
    "print(f'# of books   = {len(np.unique(books))}')"
   ]
  },
  {
   "cell_type": "code",
   "execution_count": 53,
   "id": "4f1503de-a04d-44a4-a40a-966190fcf3a2",
   "metadata": {},
   "outputs": [],
   "source": [
    "#print(biadjacency.data)\n",
    "#print(biadjacency.indices)\n",
    "#print(biadjacency.indptr)"
   ]
  },
  {
   "cell_type": "markdown",
   "id": "9704a708-86dc-46bd-93f4-6ccab1609742",
   "metadata": {},
   "source": [
    "### 2. Plot Data"
   ]
  },
  {
   "cell_type": "markdown",
   "id": "55e3249a-6b0d-4364-bbbd-960beb427629",
   "metadata": {},
   "source": [
    "In order to facilitate user experience, we draw only bipartite graph corresponding to users who have read less than $k$ books ($k$ defined below)."
   ]
  },
  {
   "cell_type": "code",
   "execution_count": 54,
   "id": "7870f7b3-95de-4ca1-a0b9-6018364458ea",
   "metadata": {},
   "outputs": [
    {
     "name": "stdout",
     "output_type": "stream",
     "text": [
      "CPU times: user 68.4 ms, sys: 27.9 ms, total: 96.3 ms\n",
      "Wall time: 95.9 ms\n"
     ]
    },
    {
     "data": {
      "image/svg+xml": [
       "<svg height=\"340\" width=\"482.0\" xmlns=\"http://www.w3.org/2000/svg\">\n",
       "<path d=\"M 32 149 432 30\" stroke=\"black\" stroke-width=\"1.0\"/>\n",
       "<path d=\"M 32 159 432 51\" stroke=\"black\" stroke-width=\"1.0\"/>\n",
       "<path d=\"M 32 190 432 237\" stroke=\"black\" stroke-width=\"1.0\"/>\n",
       "<path d=\"M 32 190 432 216\" stroke=\"black\" stroke-width=\"1.0\"/>\n",
       "<path d=\"M 32 190 432 288\" stroke=\"black\" stroke-width=\"1.0\"/>\n",
       "<path d=\"M 32 190 432 309\" stroke=\"black\" stroke-width=\"1.0\"/>\n",
       "<path d=\"M 32 190 432 299\" stroke=\"black\" stroke-width=\"1.0\"/>\n",
       "<path d=\"M 32 190 432 257\" stroke=\"black\" stroke-width=\"1.0\"/>\n",
       "<path d=\"M 32 190 432 278\" stroke=\"black\" stroke-width=\"1.0\"/>\n",
       "<path d=\"M 32 190 432 268\" stroke=\"black\" stroke-width=\"1.0\"/>\n",
       "<path d=\"M 32 190 432 82\" stroke=\"black\" stroke-width=\"1.0\"/>\n",
       "<path d=\"M 32 190 432 247\" stroke=\"black\" stroke-width=\"1.0\"/>\n",
       "<path d=\"M 32 190 432 226\" stroke=\"black\" stroke-width=\"1.0\"/>\n",
       "<path d=\"M 32 190 432 320\" stroke=\"black\" stroke-width=\"1.0\"/>\n",
       "<path d=\"M 32 159 432 61\" stroke=\"black\" stroke-width=\"1.0\"/>\n",
       "<path d=\"M 32 170 432 92\" stroke=\"black\" stroke-width=\"1.0\"/>\n",
       "<path d=\"M 32 170 432 71\" stroke=\"black\" stroke-width=\"1.0\"/>\n",
       "<path d=\"M 32 180 432 195\" stroke=\"black\" stroke-width=\"1.0\"/>\n",
       "<path d=\"M 32 180 432 133\" stroke=\"black\" stroke-width=\"1.0\"/>\n",
       "<path d=\"M 32 180 432 206\" stroke=\"black\" stroke-width=\"1.0\"/>\n",
       "<path d=\"M 32 180 432 185\" stroke=\"black\" stroke-width=\"1.0\"/>\n",
       "<path d=\"M 32 180 432 175\" stroke=\"black\" stroke-width=\"1.0\"/>\n",
       "<path d=\"M 32 180 432 164\" stroke=\"black\" stroke-width=\"1.0\"/>\n",
       "<path d=\"M 32 180 432 154\" stroke=\"black\" stroke-width=\"1.0\"/>\n",
       "<path d=\"M 32 180 432 144\" stroke=\"black\" stroke-width=\"1.0\"/>\n",
       "<path d=\"M 32 180 432 123\" stroke=\"black\" stroke-width=\"1.0\"/>\n",
       "<path d=\"M 32 180 432 113\" stroke=\"black\" stroke-width=\"1.0\"/>\n",
       "<path d=\"M 32 180 432 102\" stroke=\"black\" stroke-width=\"1.0\"/>\n",
       "<path d=\"M 32 149 432 20\" stroke=\"black\" stroke-width=\"1.0\"/>\n",
       "<path d=\"M 32 170 432 82\" stroke=\"black\" stroke-width=\"1.0\"/>\n",
       "<path d=\"M 32 159 432 40\" stroke=\"black\" stroke-width=\"1.0\"/>\n",
       "<circle cx=\"32\" cy=\"149\" r=\"7.0\" style=\"fill:gray;stroke:black;stroke-width:1.0\"/>\n",
       "<circle cx=\"32\" cy=\"180\" r=\"7.0\" style=\"fill:gray;stroke:black;stroke-width:1.0\"/>\n",
       "<circle cx=\"32\" cy=\"170\" r=\"7.0\" style=\"fill:gray;stroke:black;stroke-width:1.0\"/>\n",
       "<circle cx=\"32\" cy=\"190\" r=\"7.0\" style=\"fill:gray;stroke:black;stroke-width:1.0\"/>\n",
       "<circle cx=\"32\" cy=\"159\" r=\"7.0\" style=\"fill:gray;stroke:black;stroke-width:1.0\"/>\n",
       "<circle cx=\"432\" cy=\"320\" r=\"7.0\" style=\"fill:gray;stroke:black;stroke-width:1.0\"/>\n",
       "<circle cx=\"432\" cy=\"226\" r=\"7.0\" style=\"fill:gray;stroke:black;stroke-width:1.0\"/>\n",
       "<circle cx=\"432\" cy=\"71\" r=\"7.0\" style=\"fill:gray;stroke:black;stroke-width:1.0\"/>\n",
       "<circle cx=\"432\" cy=\"51\" r=\"7.0\" style=\"fill:gray;stroke:black;stroke-width:1.0\"/>\n",
       "<circle cx=\"432\" cy=\"247\" r=\"7.0\" style=\"fill:gray;stroke:black;stroke-width:1.0\"/>\n",
       "<circle cx=\"432\" cy=\"82\" r=\"7.0\" style=\"fill:gray;stroke:black;stroke-width:1.0\"/>\n",
       "<circle cx=\"432\" cy=\"268\" r=\"7.0\" style=\"fill:gray;stroke:black;stroke-width:1.0\"/>\n",
       "<circle cx=\"432\" cy=\"92\" r=\"7.0\" style=\"fill:gray;stroke:black;stroke-width:1.0\"/>\n",
       "<circle cx=\"432\" cy=\"278\" r=\"7.0\" style=\"fill:gray;stroke:black;stroke-width:1.0\"/>\n",
       "<circle cx=\"432\" cy=\"257\" r=\"7.0\" style=\"fill:gray;stroke:black;stroke-width:1.0\"/>\n",
       "<circle cx=\"432\" cy=\"299\" r=\"7.0\" style=\"fill:gray;stroke:black;stroke-width:1.0\"/>\n",
       "<circle cx=\"432\" cy=\"309\" r=\"7.0\" style=\"fill:gray;stroke:black;stroke-width:1.0\"/>\n",
       "<circle cx=\"432\" cy=\"102\" r=\"7.0\" style=\"fill:gray;stroke:black;stroke-width:1.0\"/>\n",
       "<circle cx=\"432\" cy=\"113\" r=\"7.0\" style=\"fill:gray;stroke:black;stroke-width:1.0\"/>\n",
       "<circle cx=\"432\" cy=\"123\" r=\"7.0\" style=\"fill:gray;stroke:black;stroke-width:1.0\"/>\n",
       "<circle cx=\"432\" cy=\"30\" r=\"7.0\" style=\"fill:gray;stroke:black;stroke-width:1.0\"/>\n",
       "<circle cx=\"432\" cy=\"20\" r=\"7.0\" style=\"fill:gray;stroke:black;stroke-width:1.0\"/>\n",
       "<circle cx=\"432\" cy=\"288\" r=\"7.0\" style=\"fill:gray;stroke:black;stroke-width:1.0\"/>\n",
       "<circle cx=\"432\" cy=\"216\" r=\"7.0\" style=\"fill:gray;stroke:black;stroke-width:1.0\"/>\n",
       "<circle cx=\"432\" cy=\"144\" r=\"7.0\" style=\"fill:gray;stroke:black;stroke-width:1.0\"/>\n",
       "<circle cx=\"432\" cy=\"154\" r=\"7.0\" style=\"fill:gray;stroke:black;stroke-width:1.0\"/>\n",
       "<circle cx=\"432\" cy=\"164\" r=\"7.0\" style=\"fill:gray;stroke:black;stroke-width:1.0\"/>\n",
       "<circle cx=\"432\" cy=\"175\" r=\"7.0\" style=\"fill:gray;stroke:black;stroke-width:1.0\"/>\n",
       "<circle cx=\"432\" cy=\"185\" r=\"7.0\" style=\"fill:gray;stroke:black;stroke-width:1.0\"/>\n",
       "<circle cx=\"432\" cy=\"206\" r=\"7.0\" style=\"fill:gray;stroke:black;stroke-width:1.0\"/>\n",
       "<circle cx=\"432\" cy=\"133\" r=\"7.0\" style=\"fill:gray;stroke:black;stroke-width:1.0\"/>\n",
       "<circle cx=\"432\" cy=\"195\" r=\"7.0\" style=\"fill:gray;stroke:black;stroke-width:1.0\"/>\n",
       "<circle cx=\"432\" cy=\"237\" r=\"7.0\" style=\"fill:gray;stroke:black;stroke-width:1.0\"/>\n",
       "<circle cx=\"432\" cy=\"61\" r=\"7.0\" style=\"fill:gray;stroke:black;stroke-width:1.0\"/>\n",
       "<circle cx=\"432\" cy=\"40\" r=\"7.0\" style=\"fill:gray;stroke:black;stroke-width:1.0\"/>\n",
       "<text font-size=\"12\" text-anchor=\"end\" x=\"22\" y=\"149\">10</text><text font-size=\"12\" text-anchor=\"end\" x=\"22\" y=\"180\">46</text><text font-size=\"12\" text-anchor=\"end\" x=\"22\" y=\"170\">58</text><text font-size=\"12\" text-anchor=\"end\" x=\"22\" y=\"190\">74</text><text font-size=\"12\" text-anchor=\"end\" x=\"22\" y=\"159\">93</text><text font-size=\"12\" x=\"442\" y=\"320\">524</text><text font-size=\"12\" x=\"442\" y=\"226\">536</text><text font-size=\"12\" x=\"442\" y=\"71\">578</text><text font-size=\"12\" x=\"442\" y=\"51\">810</text><text font-size=\"12\" x=\"442\" y=\"247\">821</text><text font-size=\"12\" x=\"442\" y=\"82\">858</text><text font-size=\"12\" x=\"442\" y=\"268\">862</text><text font-size=\"12\" x=\"442\" y=\"92\">1002</text><text font-size=\"12\" x=\"442\" y=\"278\">1003</text><text font-size=\"12\" x=\"442\" y=\"257\">1010</text><text font-size=\"12\" x=\"442\" y=\"299\">1012</text><text font-size=\"12\" x=\"442\" y=\"309\">1121</text><text font-size=\"12\" x=\"442\" y=\"102\">6229</text><text font-size=\"12\" x=\"442\" y=\"113\">6915</text><text font-size=\"12\" x=\"442\" y=\"123\">7010</text><text font-size=\"12\" x=\"442\" y=\"30\">7526</text><text font-size=\"12\" x=\"442\" y=\"20\">7527</text><text font-size=\"12\" x=\"442\" y=\"288\">8450</text><text font-size=\"12\" x=\"442\" y=\"216\">12982</text><text font-size=\"12\" x=\"442\" y=\"144\">15098</text><text font-size=\"12\" x=\"442\" y=\"154\">15099</text><text font-size=\"12\" x=\"442\" y=\"164\">15538</text><text font-size=\"12\" x=\"442\" y=\"175\">15540</text><text font-size=\"12\" x=\"442\" y=\"185\">15541</text><text font-size=\"12\" x=\"442\" y=\"206\">19977</text><text font-size=\"12\" x=\"442\" y=\"133\">19978</text><text font-size=\"12\" x=\"442\" y=\"195\">19979</text><text font-size=\"12\" x=\"442\" y=\"237\">22158</text><text font-size=\"12\" x=\"442\" y=\"61\">26426</text><text font-size=\"12\" x=\"442\" y=\"40\">26427</text></svg>"
      ],
      "text/plain": [
       "<IPython.core.display.SVG object>"
      ]
     },
     "execution_count": 54,
     "metadata": {},
     "output_type": "execute_result"
    }
   ],
   "source": [
    "%%time\n",
    "\n",
    "k = 15\n",
    "\n",
    "goodReads_df = pd.read_csv(f'{path}/goodreads_interactions_100_users_isread_train.csv', header=None, names=['reader_id', 'book_id', 'value'])\n",
    "goodReads_df.groupby('reader_id').filter(lambda x: x['value'].count() < k).to_csv(f'{path}/goodreads_interactions_few_users.csv', index=False, header=False)\n",
    "\n",
    "goodReads_to_plot = sk.data.load_edge_list(f'{path}/goodreads_interactions_few_users.csv', bipartite=True, fast_format=False)\n",
    "\n",
    "# Plot graph\n",
    "image = svg_bigraph(goodReads_to_plot.biadjacency, names_row=goodReads_to_plot.names, names_col=goodReads_to_plot.names_col)\n",
    "SVG(image)"
   ]
  },
  {
   "cell_type": "markdown",
   "id": "5476e26a-1f13-4f06-830b-ba7505447735",
   "metadata": {},
   "source": [
    "**Optional**"
   ]
  },
  {
   "cell_type": "code",
   "execution_count": 396,
   "id": "7baf8f8e-a195-4dd4-b54c-a69526ef14f8",
   "metadata": {},
   "outputs": [],
   "source": [
    "# Plot first 2 users with the books they've read\n",
    "\n",
    "def sample_users(biadjacency):\n",
    "    sub_indices, sub_indptr, sub_data = [], [0], []\n",
    "    for i in np.arange(0, 2):\n",
    "        sub_indices.append(biadjacency.indices[biadjacency.indptr[i]: biadjacency.indptr[i+1]])\n",
    "        sub_indptr.append(biadjacency.indptr[i+1])\n",
    "        sub_data.append(biadjacency.data[biadjacency.indptr[i]: biadjacency.indptr[i+1]])\n",
    "    return np.hstack(sub_indices), np.hstack(sub_indptr), np.hstack(sub_data)\n",
    "\n",
    "sub_indices, sub_indptr, sub_data = sample_users(biadjacency)\n",
    "\n",
    "# Build CSR matrix\n",
    "sub_biadjacency = csr_matrix((sub_data, sub_indices, sub_indptr))\n",
    "\n",
    "# Plot graph\n",
    "#image = svg_bigraph(sub_biadjacency, names_row=range(sub_biadjacency.shape[0]), names_col=range((sub_biadjacency.shape[1])))\n",
    "#SVG(image)"
   ]
  },
  {
   "cell_type": "markdown",
   "id": "66fd2268-4d96-49c7-8bab-bc821b819bd6",
   "metadata": {},
   "source": [
    "**Compute neighbors**  \n",
    "\n",
    "Either by :\n",
    "- using `books_read()` function (defined below)\n",
    "- using pre-built function `sk.utils.get_neighbors()`"
   ]
  },
  {
   "cell_type": "code",
   "execution_count": 250,
   "id": "0aabc99f-7ebb-4f28-b219-2889e3ef6264",
   "metadata": {},
   "outputs": [
    {
     "name": "stdout",
     "output_type": "stream",
     "text": [
      "List of books read by user 10 : [7526 7527]\n"
     ]
    }
   ],
   "source": [
    "# Retrieve books read by a specific user (i.e neighbors of node u with u : id of user)\n",
    "\n",
    "def books_read(biadjacency, user):\n",
    "    return books[biadjacency.indices[biadjacency.indptr[user]:biadjacency.indptr[user+1]]]\n",
    "\n",
    "user_id = 10\n",
    "books_read_list = books_read(biadjacency, user_id)\n",
    "\n",
    "print(f'List of books read by user {user_id} : {books_read_list}')"
   ]
  },
  {
   "cell_type": "code",
   "execution_count": 251,
   "id": "a67827c0-77d7-4fc3-8e1b-f4c9c05bed15",
   "metadata": {},
   "outputs": [
    {
     "data": {
      "text/plain": [
       "array([7526, 7527])"
      ]
     },
     "execution_count": 251,
     "metadata": {},
     "output_type": "execute_result"
    }
   ],
   "source": [
    "# Pre-built function\n",
    "books[sk.utils.get_neighbors(biadjacency, user_id)]"
   ]
  },
  {
   "cell_type": "markdown",
   "id": "122035cf-0e83-44e8-bcdb-a4b57846a68b",
   "metadata": {},
   "source": [
    "### 3. Embedding"
   ]
  },
  {
   "cell_type": "markdown",
   "id": "201428d4-35d2-4bca-ac1e-63c3e85652d8",
   "metadata": {},
   "source": [
    "Node Spectral embedding is performed on data. For this purpose, we use the **Lanczos** solver to computes *eigenvectors* and *eigenvalues* of (normalized) Laplacian matrix.  \n",
    "The dimension of the final embedding space is set to $k=20$.  \n",
    "\n",
    "Computing *eigenvalues* and *eigenvectors* of the normalized Laplacian matrix of the graph is equivalent to computing *eigenvalues* and *eigenvectors* of the transition matrix of a random walk on the graph : \n",
    "\n",
    "Let $D$, the diagonal matrix of node's degress  \n",
    "Let $P=D^{-1}A$, the transition matrix of a random walk on the graph\n",
    "Let $L=D-A$, the Laplacian matrix of the graph\n",
    "\n",
    "Solving \n",
    "$$\n",
    "\\min_{\\substack{X:X^Td=0, X^TDX=I_K}} \\sum_{\\substack{i,j \\in V}}A_{ij}||X_i - X_j||^2\n",
    "$$\n",
    "involves the solution of the *generalized* eigen value problem :\n",
    "$$\n",
    "LV = DV\\Lambda, {\\,} V^TDV=I\n",
    "$$\n",
    "with $\\Lambda = diag(\\lambda_1, ..., \\lambda_n)$ and $V=D^{-\\frac{1}{2}}U$ with $U$ the orthogonal matrix of eigenvectors of the normalized Laplacian matrix of the graph $\\bar{L}=D^{-\\frac{1}{2}}LD^{-\\frac{1}{2}} = I - D^{-\\frac{1}{2}}AD^{-\\frac{1}{2}}$.\n",
    "\n",
    "From the above solution, we can write :  \n",
    "\n",
    "$\n",
    "\\begin{align*}\n",
    "LV &= DV\\Lambda \\\\\n",
    "    (D-A)V &= DV\\Lambda \\\\\n",
    "    D^{-1}DV - D^{-1}AV &= V\\Lambda \\\\\n",
    "    D^{-1}DV -V\\Lambda &= D^{-1}AV \\\\\n",
    "    PV &= V(I - \\Lambda) \\\\\n",
    "\\end{align*}\n",
    "$\n",
    "\n",
    "So that $V$ is also a matrix of *eigenvectors* of $P$.\n"
   ]
  },
  {
   "cell_type": "code",
   "execution_count": 106,
   "id": "e7ca2010-884b-4f07-a886-05e788618da5",
   "metadata": {},
   "outputs": [
    {
     "name": "stdout",
     "output_type": "stream",
     "text": [
      "Size of readers embedding : (100, 20)\n",
      "Size of books embedding   : (11253, 20)\n",
      "CPU times: user 1.91 s, sys: 144 ms, total: 2.05 s\n",
      "Wall time: 2.07 s\n"
     ]
    }
   ],
   "source": [
    "%%time\n",
    "\n",
    "k = 20 # Embedding dimension\n",
    "\n",
    "# Embedding\n",
    "bispectral = BiSpectral(k, normalized=False, regularization=0, scaling=0, solver='lanczos')\n",
    "embedding_readers = bispectral.fit_transform(biadjacency)\n",
    "embedding_books = bispectral.embedding_col_\n",
    "eigvalues = bispectral.eigenvalues_\n",
    "\n",
    "# Normalized embedding\n",
    "bispectral_norm = BiSpectral(k, normalized=True, regularization=0, scaling=0, solver='lanczos')\n",
    "embedding_readers_norm = bispectral_norm.fit_transform(biadjacency)\n",
    "embedding_books_norm = bispectral_norm.embedding_col_\n",
    "eigvalues_norm = bispectral_norm.eigenvalues_\n",
    "\n",
    "print(f'Size of readers embedding : {embedding_readers.shape}')\n",
    "print(f'Size of books embedding   : {embedding_books.shape}')"
   ]
  },
  {
   "cell_type": "markdown",
   "id": "6d3b3ab9-8a65-4845-858b-20174be99004",
   "metadata": {},
   "source": [
    "**Plot spectrum of Laplacian matrix**"
   ]
  },
  {
   "cell_type": "code",
   "execution_count": 57,
   "id": "39bfd754-380c-4607-892c-ee7ee045964c",
   "metadata": {},
   "outputs": [
    {
     "data": {
      "image/png": "[encoded data removed]",
      "text/plain": [
       "<Figure size 504x360 with 1 Axes>"
      ]
     },
     "metadata": {
      "needs_background": "light"
     },
     "output_type": "display_data"
    }
   ],
   "source": [
    "def print_spectrum(eigenvalues, ax, normalized=False):\n",
    "    ax.scatter(range(len(eigenvalues)), eigenvalues)\n",
    "    if normalized:\n",
    "        ax.set_title('Spectrum of normalized Laplacian matrix', weight='bold')\n",
    "    else:\n",
    "        ax.set_title('Spectrum of Laplacian matrix', weight='bold')\n",
    "    ax.set_xticks(np.arange(0, len(eigenvalues)))\n",
    "    ax.set_xlabel('Eigenvalue #')\n",
    "    ax.set_ylabel('Eigenvalue');\n",
    "\n",
    "fig, ax = plt.subplots(1, 1, figsize=(7, 5))\n",
    "print_spectrum(eigvalues, ax)"
   ]
  },
  {
   "cell_type": "markdown",
   "id": "71163e89-8e29-49d6-9ae4-13c9585bb6fe",
   "metadata": {},
   "source": [
    "### 4. Metrics"
   ]
  },
  {
   "cell_type": "markdown",
   "id": "f80e46bc-30fd-4462-8bd1-d6adf821af17",
   "metadata": {},
   "source": [
    "In order to compare different embeddings techniques, we introduce metrics that will be computed at each step/configuration set in the process.\n",
    "\n",
    "* **Cosine-modularity** is the modularity of the embeddidng computed of on the bipartite graph\n",
    "* **Top $k$ closest neighbors** is the list of nodes which are the closest in the embedding space from a reference node, considering the cosine similarity  \n",
    "* **Mean Common Neighbors** is the average number of common neighbors between a reference node and its $k$ closest neighbors in the embedding space"
   ]
  },
  {
   "cell_type": "markdown",
   "id": "422bbf21-961d-4254-ab2d-4a39faba02ce",
   "metadata": {},
   "source": [
    "#### 4.1 Cosine-modularity   \n",
    "\n",
    "For bipartite graph, **cosine-modularity** $Q$ is defined as :  \n",
    "$$\n",
    "Q = \\sum_{i,j}\\biggl( \\dfrac{B_{i,j}}{w} - \\gamma \\dfrac{w_{1,i}w_{2,j}}{w^2} \\biggl) \\biggl( \\dfrac{1+cos(x_i, y_i)}{2} \\biggl)\n",
    "$$  \n",
    "\n",
    "where :\n",
    "* $w_{1,i}$, $w_{2,j}$ are the weights of nodes $i$ (row) and $j$ (column)\n",
    "* $w = 1^TB1$ is the total weight of the graph  \n",
    "* $x$ and $y$ the embeddings of rows and columns respectively\n",
    "\n",
    "Source : [Scikit-network documentation](https://scikit-network.readthedocs.io/en/latest/reference/embedding.html?highlight=modularity#sknetwork.embedding.cosine_modularity)"
   ]
  },
  {
   "cell_type": "code",
   "execution_count": 59,
   "id": "1445142a-c013-4993-845a-4dae123808d4",
   "metadata": {},
   "outputs": [],
   "source": [
    "from sknetwork.clustering import BiKMeans, modularity\n",
    "from sknetwork.embedding import cosine_modularity\n",
    "from sklearn.cluster import KMeans"
   ]
  },
  {
   "cell_type": "code",
   "execution_count": 60,
   "id": "dd209588-cfa3-4300-be07-ee585f2c2964",
   "metadata": {},
   "outputs": [],
   "source": [
    "#bikmeans = BiKMeans()\n",
    "#labels = bikmeans.fit_transform(biadjacency)"
   ]
  },
  {
   "cell_type": "code",
   "execution_count": 107,
   "id": "6c3ef89b-4750-44fb-a40e-c2ae15278456",
   "metadata": {},
   "outputs": [
    {
     "name": "stdout",
     "output_type": "stream",
     "text": [
      "Cosine modularity of embedding            : 0.453\n",
      "Cosine modularity of normalized embedding : 0.345\n"
     ]
    }
   ],
   "source": [
    "cosine_mod = np.round(cosine_modularity(biadjacency, embedding=embedding_readers, embedding_col=embedding_books), 3)\n",
    "cosine_mod_norm = np.round(cosine_modularity(biadjacency, embedding=embedding_readers_norm, embedding_col=embedding_books_norm), 3)\n",
    "\n",
    "print(f'Cosine modularity of embedding            : {cosine_mod}')\n",
    "print(f'Cosine modularity of normalized embedding : {cosine_mod_norm}')"
   ]
  },
  {
   "cell_type": "markdown",
   "id": "34bdf6c7-b2b5-4e5c-92aa-fcfdd4159adb",
   "metadata": {},
   "source": [
    "**Average cosine-modularity**  \n",
    "\n",
    "As embedding depends on a random vector initialization (cf. Lanczos algorithm), its results can vary over iterations on the same initial graph. We run 100 embeddings on the same data, and compute the **average cosine-modularity** in order to get a more stable result."
   ]
  },
  {
   "cell_type": "code",
   "execution_count": 257,
   "id": "76c6a0b8-09a3-4614-8605-f0f6fcef8273",
   "metadata": {},
   "outputs": [
    {
     "name": "stdout",
     "output_type": "stream",
     "text": [
      "CPU times: user 2min 56s, sys: 15.4 s, total: 3min 12s\n",
      "Wall time: 1min 31s\n"
     ]
    }
   ],
   "source": [
    "%%time\n",
    "\n",
    "nb_iter = 100\n",
    "k = 20 # Embedding dimension\n",
    "list_cosine_mod, list_cosine_mod_norm = [], []\n",
    "\n",
    "for i in range(nb_iter):\n",
    "    \n",
    "    # Embedding\n",
    "    bispectral = BiSpectral(k, normalized=False, regularization=0, scaling=0, solver='lanczos')\n",
    "    emb =  bispectral.fit_transform(biadjacency)\n",
    "    # Normalized embedding\n",
    "    bispectral_norm = BiSpectral(k, normalized=True, regularization=0, scaling=0, solver='lanczos')\n",
    "    emb_norm = bispectral_norm.fit_transform(biadjacency)\n",
    "\n",
    "    # Cosine modularity\n",
    "    list_cosine_mod.append(cosine_modularity(biadjacency, embedding=emb, embedding_col=bispectral.embedding_col_))\n",
    "    list_cosine_mod_norm.append(cosine_modularity(biadjacency, embedding=emb_norm, embedding_col=bispectral_norm.embedding_col_))"
   ]
  },
  {
   "cell_type": "code",
   "execution_count": 258,
   "id": "f433e9f5-3273-4738-bf4e-1d9e76bc11c9",
   "metadata": {},
   "outputs": [
    {
     "name": "stdout",
     "output_type": "stream",
     "text": [
      "Average cosine modularity (100 iterations) : \n",
      "--------------------------------------------\n",
      "Embedding space            : 0.444\n",
      "Normalized embedding space : 0.369\n",
      "\n"
     ]
    },
    {
     "data": {
      "image/png": "[encoded data removed]",
      "text/plain": [
       "<Figure size 864x360 with 1 Axes>"
      ]
     },
     "metadata": {
      "needs_background": "light"
     },
     "output_type": "display_data"
    }
   ],
   "source": [
    "# Plot\n",
    "fig, ax = plt.subplots(1, 1, figsize=(12, 5))\n",
    "plt.boxplot([list_cosine_mod, list_cosine_mod_norm], labels=['Embedding', 'Normalized embedding'])\n",
    "plt.ylabel('Cosine modularity')\n",
    "plt.title('Cosine-modularity of spectral embedding space', weight='bold');\n",
    "\n",
    "print('Average cosine modularity (100 iterations) : \\n--------------------------------------------')\n",
    "print(f'Embedding space            : {np.mean(list_cosine_mod):.3f}')\n",
    "print(f'Normalized embedding space : {np.mean(list_cosine_mod_norm):.3f}\\n')"
   ]
  },
  {
   "cell_type": "markdown",
   "id": "663e9fd4-f776-4b99-9d8e-670d8b00d0e9",
   "metadata": {},
   "source": [
    "**Varying $k$**  \n",
    "\n",
    "It can be interesting to observe the evolution of cosine modularity of embedding, according to the value of $k$ - the dimension of the embedding. For spectral embedding, we can assume that if $k=n$ (with $n$ the number of vertices), the embedding will capture all the structural information."
   ]
  },
  {
   "cell_type": "code",
   "execution_count": 259,
   "id": "e25f94a8-cea0-4717-b6b0-048fccec7ad3",
   "metadata": {},
   "outputs": [
    {
     "name": "stdout",
     "output_type": "stream",
     "text": [
      "CPU times: user 7min 2s, sys: 40.1 s, total: 7min 42s\n",
      "Wall time: 3min 40s\n"
     ]
    }
   ],
   "source": [
    "%%time\n",
    "\n",
    "nb_iter = 10\n",
    "list_k = np.arange(1, 30) # Embedding dimension\n",
    "avg_cosine_mod, avg_cosine_mod_norm = [], []\n",
    "\n",
    "for k in list_k:\n",
    "    \n",
    "    list_cosine_mod, list_cosine_mod_norm = [], []\n",
    "    for i in range(nb_iter):\n",
    "        # Embedding\n",
    "        bispectral = BiSpectral(k, normalized=False, regularization=0, scaling=0, solver='lanczos')\n",
    "        emb =  bispectral.fit_transform(biadjacency)\n",
    "        # Normalized embedding\n",
    "        bispectral_norm = BiSpectral(k, normalized=True, regularization=0, scaling=0, solver='lanczos')\n",
    "        emb_norm = bispectral_norm.fit_transform(biadjacency)\n",
    "\n",
    "        # Cosine modularity\n",
    "        list_cosine_mod.append(cosine_modularity(biadjacency, embedding=emb, embedding_col=bispectral.embedding_col_))\n",
    "        list_cosine_mod_norm.append(cosine_modularity(biadjacency, embedding=emb_norm, embedding_col=bispectral_norm.embedding_col_))\n",
    "    \n",
    "    avg_cosine_mod.append(np.mean(list_cosine_mod))\n",
    "    avg_cosine_mod_norm.append(np.mean(list_cosine_mod_norm))"
   ]
  },
  {
   "cell_type": "code",
   "execution_count": 260,
   "id": "e15a8e3e-43a5-4f13-a708-b58461969691",
   "metadata": {},
   "outputs": [
    {
     "data": {
      "image/png": "[encoded data removed]",
      "text/plain": [
       "<Figure size 1080x504 with 2 Axes>"
      ]
     },
     "metadata": {
      "needs_background": "light"
     },
     "output_type": "display_data"
    }
   ],
   "source": [
    "# Plot\n",
    "fig, ax = plt.subplots(1, 2, figsize=(15, 7))\n",
    "fig.suptitle('Evolution of cosine modularity with embedding dimension $k$', weight='bold')\n",
    "ax[0].scatter(list_k, avg_cosine_mod, label='Avg cosine modularity')\n",
    "ax[1].scatter(list_k, avg_cosine_mod_norm, label='Avg cosine modularity')\n",
    "ax[0].set_title('Embedding space')\n",
    "ax[1].set_title('Normalized Embedding space');\n",
    "for i in range(2):\n",
    "    ax[i].legend()\n",
    "    ax[i].set_xlabel('Embedding space dimension $k$')\n",
    "    ax[i].set_ylabel('Cosine modularity');"
   ]
  },
  {
   "cell_type": "markdown",
   "id": "1a3c1367-821f-4355-a51a-f390167d02b7",
   "metadata": {},
   "source": [
    "#### 4.2 Mean Commmon Neighbors"
   ]
  },
  {
   "cell_type": "markdown",
   "id": "93f4d6ed-deb9-4fab-ba65-1f5fbf6f702c",
   "metadata": {},
   "source": [
    "The idea is that close nodes in the embedding space is correlated with similar nodes in the original network, i.e nodes that have a great number of **common neighbors** for example. For a node $u$, we compute the following metric :\n",
    "\n",
    "$$\n",
    "MCN \\, ratio = \\dfrac{1}{k} \\sum_{W}\\dfrac{CN(u, max_{v \\in W : |W|<=k} cossimil(x_u, x_v)}{|\\mathcal{N(u)}|}\n",
    "$$\n",
    "\n",
    "with : \n",
    "- $x$ a vector of the embedding space $X$\n",
    "- $CN$ the number of Common Neighbors between 2 nodes in the original graph\n",
    "- $k$ the number of similar nodes to extract\n",
    "\n",
    "\n",
    "**Complexity**  \n",
    "- cosine similarity for every nodes : $O(nk^2)$  \n",
    "    Matrix multiplication with size (n, k) * (k, n) : for each element ($n*k elements$), $k$ multiplications and $(k-1)$ additions\n"
   ]
  },
  {
   "cell_type": "markdown",
   "id": "0e16874d-3196-4f7a-b03e-b353f19945f4",
   "metadata": {},
   "source": [
    "**Functions**"
   ]
  },
  {
   "cell_type": "code",
   "execution_count": 296,
   "id": "467599e8-c391-4006-afa4-79a7a2e280fc",
   "metadata": {},
   "outputs": [],
   "source": [
    "def rand_reader(readers):\n",
    "    ''' Return a random reader from the readers list '''\n",
    "    \n",
    "    return np.random.randint(readers[0], readers[-1])\n",
    "\n",
    "def common_neighbors(biadjacency, u, v):\n",
    "    ''' Computes common neighbors indicator between 2 nodes in a bipartite graph.\n",
    "        Parameters\n",
    "        ----------\n",
    "            biadjacency : CSR matrix\n",
    "                Biadjacency matrix related to the bipartite graph\n",
    "            u, v : Int\n",
    "                Indexes (or labels) of 2 nodes in the graph \n",
    "        Output\n",
    "        ------\n",
    "            common neighbors between nodes u and v in bipartite graph : List<Int>. '''\n",
    "    \n",
    "    u_neighbors = set(sk.utils.get_neighbors(biadjacency, u))\n",
    "    v_neighbors = set(sk.utils.get_neighbors(biadjacency, v))\n",
    "    return u_neighbors.intersection(v_neighbors)\n",
    "\n",
    "\n",
    "def closest_embedded_nodes(embedding, k, u):\n",
    "    ''' Returns k closest elements from vertex u in embedding space, in term of cosine similarity. \n",
    "        Parameters\n",
    "        ----------\n",
    "            embedding : Matrix with shape (# vertices, embedding dimension)\n",
    "                Corresponds to orthogonal matrix of eigenvectors of (normalized) Laplacian matrix, i.e embedding space\n",
    "            k : Int\n",
    "                Defines the number closest elements to retrieve \n",
    "            u : Int\n",
    "                Index (or label) of node u in the graph\n",
    "        Output\n",
    "        ------\n",
    "            Array of closest vertices indexes from u in embedding space, sorted from closest to less close : np.ndarray '''\n",
    "    \n",
    "    return np.argsort(-embedding.dot(embedding[u]))[1:k]"
   ]
  },
  {
   "cell_type": "markdown",
   "id": "7e951084-78b7-41ee-bb6e-e81520f964fa",
   "metadata": {},
   "source": [
    "**Compute metrics**"
   ]
  },
  {
   "cell_type": "code",
   "execution_count": 297,
   "id": "32772513-49a3-48af-bd3c-31a03c004b67",
   "metadata": {},
   "outputs": [
    {
     "name": "stdout",
     "output_type": "stream",
     "text": [
      "Spectral embedding\n",
      "-------------------\n",
      "Reader : 22 - Similar readers : [34 42 90  3] - Avg Common books read : 19.75 - Avg ratio common book read : 0.08\n",
      "Reader : 82 - Similar readers : [95 73 91 23] - Avg Common books read : 4.75  - Avg ratio common book read : 0.11\n",
      "Reader : 88 - Similar readers : [72 98 50 90] - Avg Common books read : 4.75  - Avg ratio common book read : 0.05\n",
      "Reader : 91 - Similar readers : [73 10 23 66] - Avg Common books read : 15.5  - Avg ratio common book read : 0.03\n",
      "Reader : 72 - Similar readers : [10  9 70 13] - Avg Common books read : 7.5   - Avg ratio common book read : 0.04\n",
      "\n",
      "Spectral normalized embedding\n",
      "-------------------\n",
      "Reader : 22 - Similar readers : [71 84 26 67] - Avg Common books read : 9.5   - Avg ratio common book read : 0.04\n",
      "Reader : 82 - Similar readers : [63 57 12 41] - Avg Common books read : 6.25  - Avg ratio common book read : 0.15\n",
      "Reader : 88 - Similar readers : [ 1 61 49 38] - Avg Common books read : 5.75  - Avg ratio common book read : 0.06\n",
      "Reader : 91 - Similar readers : [23 66 41 57] - Avg Common books read : 25.0  - Avg ratio common book read : 0.05\n",
      "Reader : 72 - Similar readers : [70 13  9 12] - Avg Common books read : 9.75  - Avg ratio common book read : 0.05\n"
     ]
    }
   ],
   "source": [
    "# List top 5 readers similar to a specific reader\n",
    "\n",
    "list_rand_readers = [rand_reader(readers) for i in range(5)]\n",
    "list_readers = [22, 82, 88, 91 ,72]\n",
    "\n",
    "\n",
    "print('Spectral embedding\\n-------------------')\n",
    "rand_readers = []\n",
    "top_5_similar_readers = []\n",
    "for idx, reader in enumerate(list_readers):\n",
    "    top_5_similar_readers.append(readers[closest_embedded_nodes(embedding_readers, 5, reader)])\n",
    "\n",
    "    # Common book read\n",
    "    books_from_reader = set(sk.utils.get_neighbors(biadjacency, reader))\n",
    "    books_from_similar_readers = [set(sk.utils.get_neighbors(biadjacency, simil_reader)) for simil_reader in top_5_similar_readers[idx]]\n",
    "    nb_common_books_read = [len(books_from_reader.intersection(book_list)) for book_list in books_from_similar_readers]\n",
    "    mean_nb_common_book_read = np.mean(nb_common_books_read)\n",
    "    mean_ratio_common_book_read = np.mean(np.array(nb_common_books_read) / len(books_from_reader))\n",
    "    \n",
    "    print(f'Reader : {reader:<2} - Similar readers : {top_5_similar_readers[idx]} - Avg Common books read : {mean_nb_common_book_read:<5} - Avg ratio common book read : {mean_ratio_common_book_read:.2f}')    \n",
    "    \n",
    "print('\\nSpectral normalized embedding\\n-------------------')\n",
    "rand_readers = []\n",
    "top_5_similar_readers_norm = []\n",
    "for idx, reader in enumerate(list_readers):\n",
    "    top_5_similar_readers_norm.append(readers[closest_embedded_nodes(embedding_readers_norm, 5, reader)])\n",
    "\n",
    "    # Common book read\n",
    "    books_from_reader = set(sk.utils.get_neighbors(biadjacency, reader))\n",
    "    books_from_similar_readers = [set(sk.utils.get_neighbors(biadjacency, simil_reader)) for simil_reader in top_5_similar_readers_norm[idx]]\n",
    "    nb_common_books_read = [len(books_from_reader.intersection(book_list)) for book_list in books_from_similar_readers]\n",
    "    mean_nb_common_book_read = np.mean(nb_common_books_read)\n",
    "    mean_ratio_common_book_read = np.mean(np.array(nb_common_books_read) / len(books_from_reader))\n",
    "    \n",
    "    print(f'Reader : {reader:<2} - Similar readers : {top_5_similar_readers_norm[idx]} - Avg Common books read : {mean_nb_common_book_read:<5} - Avg ratio common book read : {mean_ratio_common_book_read:.2f}') "
   ]
  },
  {
   "cell_type": "code",
   "execution_count": null,
   "id": "9b8431ba-c77e-43af-9ef9-afc3c4095b20",
   "metadata": {},
   "outputs": [],
   "source": []
  },
  {
   "cell_type": "markdown",
   "id": "05ef827a-080b-44d3-b250-8b0aa3c0a34f",
   "metadata": {},
   "source": [
    "**Plot embedding space**"
   ]
  },
  {
   "cell_type": "code",
   "execution_count": 298,
   "id": "5aca959c-11ac-477c-aaa2-bf4cebab3996",
   "metadata": {},
   "outputs": [
    {
     "data": {
      "image/png": "[encoded data removed]",
      "text/plain": [
       "<Figure size 1080x504 with 2 Axes>"
      ]
     },
     "metadata": {
      "needs_background": "light"
     },
     "output_type": "display_data"
    }
   ],
   "source": [
    "fig, ax = plt.subplots(1, 2, figsize=(15, 7))\n",
    "colors = ['b', 'g', 'r', 'c', 'm']\n",
    "markers = ['.', '^', '*', '+', 'x']\n",
    "\n",
    "# plot readers\n",
    "for idx, reader in enumerate(list_readers):\n",
    "    ax[0].scatter(embedding_readers[reader, 0], embedding_readers[reader, 1], color=colors[idx], marker=markers[idx], label=f'Group reader {reader}')\n",
    "    ax[0].text(embedding_readers[reader, 0], embedding_readers[reader, 1], reader)\n",
    "    ax[1].scatter(embedding_readers_norm[reader, 0], embedding_readers_norm[reader, 1], color=colors[idx], marker=markers[idx], label=f'Group reader {reader}')\n",
    "    ax[1].text(embedding_readers_norm[reader, 0], embedding_readers_norm[reader, 1], reader)\n",
    "for idx, (simil_readers, simil_readers_norm) in enumerate(zip(top_5_similar_readers, top_5_similar_readers_norm)):\n",
    "    for simil_reader, simil_reader_norm in zip(simil_readers, simil_readers_norm):\n",
    "        ax[0].scatter(embedding_readers[simil_reader, 0], embedding_readers[simil_reader, 1], color=colors[idx], marker=markers[idx])\n",
    "        #ax[0].text(embedding_readers[simil_reader, 0], embedding_readers[simil_reader, 1], simil_reader)\n",
    "        ax[1].scatter(embedding_readers_norm[simil_reader_norm, 0], embedding_readers_norm[simil_reader_norm, 1], color=colors[idx],  marker=markers[idx])\n",
    "for i in range(2):\n",
    "    ax[i].set_xlabel('Firt eigenvector')\n",
    "    ax[i].set_ylabel('Second eigenvector')\n",
    "ax[0].set_title('Readers in Spectral embedding space', weight='bold')\n",
    "ax[0].legend()\n",
    "ax[1].set_title('Readers in normalized Spectral embedding space', weight='bold')\n",
    "ax[1].legend();"
   ]
  },
  {
   "cell_type": "code",
   "execution_count": 294,
   "id": "a551ac9c-8177-46e6-8dbc-9f955e56d657",
   "metadata": {},
   "outputs": [
    {
     "data": {
      "text/plain": [
       "array([  10,   13,   47,   95,  107,  118,  180,  183,  236,  276,  360,\n",
       "        459,  463,  521,  522,  524,  525,  537,  555,  558,  567,  569,\n",
       "        572,  575,  608,  621,  622,  624,  640,  662,  726,  728,  732,\n",
       "        737,  752,  760,  764,  769,  770,  772,  776,  780,  802,  803,\n",
       "        804,  805,  808,  812,  814,  817,  820,  826,  834,  837,  838,\n",
       "        845,  848,  849,  867,  884,  890,  903,  933,  935,  939,  943,\n",
       "        954,  955,  986, 1117, 1797, 2167, 2172, 2176, 2177, 2178, 2184,\n",
       "       2195, 2196, 2269, 2284, 2523, 2568, 2869, 4123, 4288, 4342, 4345,\n",
       "       4346, 4347, 4348, 4349, 4351, 4352, 4355, 4371, 4374, 4415, 4474,\n",
       "       5002, 5003, 5004, 5007, 5008, 5009, 5010, 5011, 5012, 5013, 5014,\n",
       "       5015, 5016, 5017, 5018, 5019, 5020, 5022, 5023, 5026, 5028, 5029,\n",
       "       5030, 5031, 5032, 5034, 5038, 5039, 5040, 5041, 5042, 5043, 5045,\n",
       "       5046, 5048, 5049, 5050, 5051, 5053, 5054, 5055, 5056, 5057, 5058,\n",
       "       5059, 5060, 5061, 5062, 5063, 5064, 5065, 5066, 5067, 5068, 5069,\n",
       "       5070, 5071, 5072, 5074, 5075, 5077, 5078, 5079, 5080, 5083, 5084,\n",
       "       5085, 5086, 5087, 5088, 5090, 5091, 5093, 5094, 5096, 5097, 5101,\n",
       "       5102, 5103, 5104, 5108, 5109, 5110, 5111, 5112, 5113, 5114, 5115,\n",
       "       5116, 5117, 5119, 5120, 5121, 5122, 5123, 5126, 5127, 5128, 5129,\n",
       "       5131, 5133, 5134, 5138, 5139, 5142, 5143, 5144, 5145, 5147, 5149,\n",
       "       5150, 5151, 5152, 5154, 5155, 5156, 5157, 5159, 5165, 5166, 5167,\n",
       "       5168, 5169, 5170, 5174, 5175, 5176, 5177, 5178, 5181, 5182, 5184,\n",
       "       5186, 5188, 5189, 5190, 5191, 5192, 5193, 5194, 5195, 5198, 5199,\n",
       "       5200, 5201, 5202], dtype=int32)"
      ]
     },
     "execution_count": 294,
     "metadata": {},
     "output_type": "execute_result"
    }
   ],
   "source": [
    "sk.utils.get_neighbors(biadjacency, 22)"
   ]
  },
  {
   "cell_type": "markdown",
   "id": "8fffc5d2-87f4-411b-af35-418f31ef3d2b",
   "metadata": {},
   "source": [
    "**Correlation between Cosine-similarity in embedding space and Common neighbors in orginial graph**"
   ]
  },
  {
   "cell_type": "code",
   "execution_count": 176,
   "id": "06f5d72a-950f-4c81-b64b-cab7d51dc106",
   "metadata": {},
   "outputs": [],
   "source": [
    "def CN_ratio(biadjacency, u, similar_node):\n",
    "\n",
    "    CN = common_neighbors(biadjacency, u, similar_node)\n",
    "    CN_ratio = len(set(CN)) / len(set(sk.utils.get_neighbors(biadjacency, u)))\n",
    "    return CN_ratio"
   ]
  },
  {
   "cell_type": "code",
   "execution_count": 177,
   "id": "627e8ed8-16b5-4eb7-a57b-d92049966b82",
   "metadata": {},
   "outputs": [],
   "source": [
    "top_k = 20\n",
    "\n",
    "# Cosine similarity between all readers pairs, filtered with only top 5 similar nodes\n",
    "cossim_matrix_norm = embedding_readers_norm.dot(embedding_readers_norm.T)\n",
    "top_k_similar_nodes = np.argsort(-cossim_matrix_norm)[:, :top_k]\n",
    "top_k_cossim = -np.sort(-cossim_matrix_norm)[:, :top_k]\n",
    "avg_top_k_cossim = np.mean(top_k_cossim, axis=1)\n",
    "\n",
    "# Avg Common Neighbors ratio between node u and top-k similar nodes of u in the embedding space\n",
    "avg_CN_ratio = []\n",
    "for idx, reader in enumerate(readers):\n",
    "    avg_CN_ratio.append(np.mean([CN_ratio(biadjacency, reader, similar_node) for similar_node in top_k_similar_nodes[idx]]))"
   ]
  },
  {
   "cell_type": "code",
   "execution_count": 213,
   "id": "594d315c-df1b-42aa-a8a9-2b11115008eb",
   "metadata": {},
   "outputs": [],
   "source": [
    "# VERSION OPTIMISEE\n",
    "# -------------------\n",
    "top_k = 20\n",
    "\n",
    "# Cosine similarity between all readers pairs, filtered with only top 5 similar nodes\n",
    "cossim_matrix_norm = embedding_readers_norm.dot(embedding_readers_norm.T)\n",
    "top_k_similar_nodes = np.argsort(-cossim_matrix_norm)[:, :top_k]\n",
    "\n",
    "# Avg Common neighbors\n",
    "comneighb = biadjacency.dot(biadjacency.T)\n",
    "ratio_comneighb = np.diag(1/comneighb.diagonal()).dot(comneighb.todense())\n",
    "avg_ratio_comneighb = [np.mean(ratio_comneighb[reader, top_k_similar_nodes[reader]], axis=1) for reader in readers]"
   ]
  },
  {
   "cell_type": "code",
   "execution_count": 113,
   "id": "e854557f-1730-4369-a5b0-bf3788afcae8",
   "metadata": {},
   "outputs": [
    {
     "data": {
      "image/png": "[encoded data removed]",
      "text/plain": [
       "<Figure size 864x360 with 1 Axes>"
      ]
     },
     "metadata": {
      "needs_background": "light"
     },
     "output_type": "display_data"
    }
   ],
   "source": [
    "X = np.sort(avg_top_k_cossim)\n",
    "y = np.array(avg_CN_ratio)[np.argsort(avg_top_k_cossim)]\n",
    "fig, ax = plt.subplots(1, 1, figsize=(12, 5))\n",
    "plt.scatter(X, y)\n",
    "plt.title(f'Correlation between embedding structure and network structure ($k$ closest neighbors={top_k})', weight='bold')\n",
    "plt.xlabel('Average cosine similarity')\n",
    "plt.ylabel('Average Common Neighbors ratio')\n",
    "plt.ylim(0, np.max(y)+0.1);\n",
    "\n",
    "fit = np.polyfit(np.sort(avg_top_k_cossim), np.log(np.array(avg_CN_ratio)[np.argsort(avg_top_k_cossim)]), 1)\n",
    "plt.plot(np.sort(avg_top_k_cossim), np.exp(fit[1]) * np.exp(fit[0])**np.sort(avg_top_k_cossim), color='r', label='Fitted exp curve')\n",
    "plt.legend();"
   ]
  },
  {
   "cell_type": "markdown",
   "id": "5cf372ad-2ccf-4f4b-b330-dca2e96bd3a7",
   "metadata": {},
   "source": [
    "### 5. Adding elements to graph"
   ]
  },
  {
   "cell_type": "markdown",
   "id": "9562d919-96b8-45ac-a800-bd35f56a2859",
   "metadata": {},
   "source": [
    "Now that the embedding space is computed, we can add elements into the graph, and compare metrics results for new embeddings at each step."
   ]
  },
  {
   "cell_type": "markdown",
   "id": "418ce0fc-7e40-4b71-9697-25e204a1ff51",
   "metadata": {},
   "source": [
    "#### 5.1 Import new data"
   ]
  },
  {
   "cell_type": "markdown",
   "id": "14ac2f51-92b1-4dac-a19e-d4be5d94412e",
   "metadata": {},
   "source": [
    "Each row in the DataFrame is a new link to add in the graph."
   ]
  },
  {
   "cell_type": "code",
   "execution_count": 13,
   "id": "d27bf01a-ec0e-4cc9-bcef-b246ec4e0a53",
   "metadata": {},
   "outputs": [
    {
     "name": "stdout",
     "output_type": "stream",
     "text": [
      "CPU times: user 41.8 ms, sys: 33.7 ms, total: 75.5 ms\n",
      "Wall time: 81.2 ms\n"
     ]
    }
   ],
   "source": [
    "%%time\n",
    "goodReads_df = pd.read_csv(f'{path}/goodreads_interactions_100_users_isread_train.csv', names=['reader', 'book', 'is_read'])\n",
    "goodReads_new = sk.data.load_edge_list(f'{path}/goodreads_interactions_100_users_isread_test.csv', bipartite=True, fast_format=False)\n",
    "goodReads_new_df = pd.read_csv(f'{path}/goodreads_interactions_100_users_isread_test.csv', names=['reader', 'book', 'is_read'])"
   ]
  },
  {
   "cell_type": "code",
   "execution_count": 276,
   "id": "c6bee8da-6c32-4975-b45e-98951f6232f7",
   "metadata": {},
   "outputs": [
    {
     "data": {
      "text/html": [
       "<div>\n",
       "<style scoped>\n",
       "    .dataframe tbody tr th:only-of-type {\n",
       "        vertical-align: middle;\n",
       "    }\n",
       "\n",
       "    .dataframe tbody tr th {\n",
       "        vertical-align: top;\n",
       "    }\n",
       "\n",
       "    .dataframe thead th {\n",
       "        text-align: right;\n",
       "    }\n",
       "</style>\n",
       "<table border=\"1\" class=\"dataframe\">\n",
       "  <thead>\n",
       "    <tr style=\"text-align: right;\">\n",
       "      <th></th>\n",
       "      <th>reader</th>\n",
       "      <th>book</th>\n",
       "      <th>is_read</th>\n",
       "    </tr>\n",
       "  </thead>\n",
       "  <tbody>\n",
       "    <tr>\n",
       "      <th>0</th>\n",
       "      <td>80</td>\n",
       "      <td>24079</td>\n",
       "      <td>1</td>\n",
       "    </tr>\n",
       "    <tr>\n",
       "      <th>1</th>\n",
       "      <td>22</td>\n",
       "      <td>14671</td>\n",
       "      <td>1</td>\n",
       "    </tr>\n",
       "    <tr>\n",
       "      <th>2</th>\n",
       "      <td>32</td>\n",
       "      <td>17181</td>\n",
       "      <td>1</td>\n",
       "    </tr>\n",
       "    <tr>\n",
       "      <th>3</th>\n",
       "      <td>20</td>\n",
       "      <td>13978</td>\n",
       "      <td>1</td>\n",
       "    </tr>\n",
       "    <tr>\n",
       "      <th>4</th>\n",
       "      <td>19</td>\n",
       "      <td>5685</td>\n",
       "      <td>1</td>\n",
       "    </tr>\n",
       "  </tbody>\n",
       "</table>\n",
       "</div>"
      ],
      "text/plain": [
       "   reader   book  is_read\n",
       "0      80  24079        1\n",
       "1      22  14671        1\n",
       "2      32  17181        1\n",
       "3      20  13978        1\n",
       "4      19   5685        1"
      ]
     },
     "execution_count": 276,
     "metadata": {},
     "output_type": "execute_result"
    }
   ],
   "source": [
    "goodReads_new_df.head()"
   ]
  },
  {
   "cell_type": "markdown",
   "id": "50b2dfdd-8319-42fc-b332-e28b72c4ec38",
   "metadata": {},
   "source": [
    "Let's add one element of the *test* dataset to the previous dataset (i.e *train* dataset)."
   ]
  },
  {
   "cell_type": "code",
   "execution_count": 14,
   "id": "66e3b955-fa32-4117-8f0b-d4352c066fa1",
   "metadata": {},
   "outputs": [
    {
     "data": {
      "text/html": [
       "<div>\n",
       "<style scoped>\n",
       "    .dataframe tbody tr th:only-of-type {\n",
       "        vertical-align: middle;\n",
       "    }\n",
       "\n",
       "    .dataframe tbody tr th {\n",
       "        vertical-align: top;\n",
       "    }\n",
       "\n",
       "    .dataframe thead th {\n",
       "        text-align: right;\n",
       "    }\n",
       "</style>\n",
       "<table border=\"1\" class=\"dataframe\">\n",
       "  <thead>\n",
       "    <tr style=\"text-align: right;\">\n",
       "      <th></th>\n",
       "      <th>reader</th>\n",
       "      <th>book</th>\n",
       "      <th>is_read</th>\n",
       "    </tr>\n",
       "  </thead>\n",
       "  <tbody>\n",
       "    <tr>\n",
       "      <th>1</th>\n",
       "      <td>22</td>\n",
       "      <td>14671</td>\n",
       "      <td>1</td>\n",
       "    </tr>\n",
       "  </tbody>\n",
       "</table>\n",
       "</div>"
      ],
      "text/plain": [
       "   reader   book  is_read\n",
       "1      22  14671        1"
      ]
     },
     "execution_count": 14,
     "metadata": {},
     "output_type": "execute_result"
    }
   ],
   "source": [
    "goodReads_new_df_ex = goodReads_new_df.iloc[1:2, :]\n",
    "goodReads_new_df_ex"
   ]
  },
  {
   "cell_type": "code",
   "execution_count": 15,
   "id": "5be8af03-5f56-4dfb-8d86-9ed00779beda",
   "metadata": {},
   "outputs": [
    {
     "data": {
      "text/plain": [
       "(16127, 3)"
      ]
     },
     "execution_count": 15,
     "metadata": {},
     "output_type": "execute_result"
    }
   ],
   "source": [
    "goodReads_df.shape"
   ]
  },
  {
   "cell_type": "code",
   "execution_count": 16,
   "id": "4ea8822c-8e17-4749-aedc-6e2be0d3f430",
   "metadata": {},
   "outputs": [
    {
     "data": {
      "text/plain": [
       "(16128, 3)"
      ]
     },
     "execution_count": 16,
     "metadata": {},
     "output_type": "execute_result"
    }
   ],
   "source": [
    "updated_df = pd.concat([goodReads_df, goodReads_new_df_ex], axis=0)\n",
    "updated_df.shape"
   ]
  },
  {
   "cell_type": "code",
   "execution_count": 17,
   "id": "184efffa-7dd0-41fe-8c93-927e307e8a70",
   "metadata": {},
   "outputs": [],
   "source": [
    "updated_df.to_csv(f'{path}/goodreads_interactions_100_users_isread_updated.csv', index=False, header=False)"
   ]
  },
  {
   "cell_type": "markdown",
   "id": "9bc88c3c-e6cc-488c-bf5f-81157eb7fa94",
   "metadata": {},
   "source": [
    "For example, reader 22 never read book 14671 before as we can see below."
   ]
  },
  {
   "cell_type": "code",
   "execution_count": 357,
   "id": "5c4a60de-6051-45ae-adb3-646a69fc7dab",
   "metadata": {},
   "outputs": [
    {
     "name": "stdout",
     "output_type": "stream",
     "text": [
      "(array([5089]),)\n",
      "(array([22]),)\n"
     ]
    }
   ],
   "source": [
    "print(np.where(books==14671))\n",
    "print(np.where(readers==22))"
   ]
  },
  {
   "cell_type": "code",
   "execution_count": 360,
   "id": "4bdcfbcb-c154-42c5-b4d8-d2713016ef54",
   "metadata": {},
   "outputs": [
    {
     "data": {
      "text/plain": [
       "(array([], dtype=int64),)"
      ]
     },
     "execution_count": 360,
     "metadata": {},
     "output_type": "execute_result"
    }
   ],
   "source": [
    "# Reader 22 never read book 14671 before\n",
    "np.where(books[sk.utils.get_neighbors(biadjacency, 22)]==14671)"
   ]
  },
  {
   "cell_type": "markdown",
   "id": "1d241c8a-c4d9-4010-8f60-e3f48f37e397",
   "metadata": {},
   "source": [
    "#### 5.2 Update Embedding"
   ]
  },
  {
   "cell_type": "markdown",
   "id": "6fa5a71a-0cf0-425d-b20b-03592713060b",
   "metadata": {},
   "source": [
    "**Re-build adjacency matrix** (in CSR format)"
   ]
  },
  {
   "cell_type": "code",
   "execution_count": 114,
   "id": "cc1c4de2-e7d1-40ba-8e43-483a82f9ef55",
   "metadata": {},
   "outputs": [],
   "source": [
    "updated_goodReads = sk.data.load_edge_list(f'{path}/goodreads_interactions_100_users_isread_updated.csv', bipartite=True, fast_format=False)\n",
    "\n",
    "updated_biadjacency = updated_goodReads.biadjacency\n",
    "updated_readers = updated_goodReads.names\n",
    "updated_books = updated_goodReads.names_col"
   ]
  },
  {
   "cell_type": "code",
   "execution_count": 115,
   "id": "2dbcb03d-c7a9-40df-9651-3a647bbdcb3f",
   "metadata": {},
   "outputs": [
    {
     "name": "stdout",
     "output_type": "stream",
     "text": [
      "Before : (array([], dtype=int64),)\n",
      "After  : (array([169]),)\n"
     ]
    }
   ],
   "source": [
    "print(f'Before : {np.where(books[sk.utils.get_neighbors(biadjacency, 22)]==14671)}')\n",
    "print(f'After  : {np.where(updated_books[sk.utils.get_neighbors(updated_biadjacency, 22)]==14671)}')"
   ]
  },
  {
   "cell_type": "markdown",
   "id": "e49acf14-86fe-4f08-b3d4-562db7afa22d",
   "metadata": {},
   "source": [
    "One link has indeed been added into the graph."
   ]
  },
  {
   "cell_type": "markdown",
   "id": "5c9ee097-5ba3-4ff7-b497-b0c92b8c2479",
   "metadata": {},
   "source": [
    "**Re-build embedding**"
   ]
  },
  {
   "cell_type": "code",
   "execution_count": 116,
   "id": "48a5a07a-7c16-49a9-ae7a-fb59459adf0d",
   "metadata": {},
   "outputs": [
    {
     "name": "stdout",
     "output_type": "stream",
     "text": [
      "Size of readers embedding : (100, 20)\n",
      "Size of books embedding   : (11253, 20)\n"
     ]
    }
   ],
   "source": [
    "k=20\n",
    "\n",
    "# Normalized embedding\n",
    "updated_bispectral_norm = BiSpectral(k, normalized=True, regularization=0, scaling=0, solver='lanczos')\n",
    "updated_embedding_readers_norm = updated_bispectral_norm.fit_transform(updated_biadjacency)\n",
    "updated_embedding_books_norm = updated_bispectral_norm.embedding_col_\n",
    "updated_eigvalues_norm = updated_bispectral_norm.eigenvalues_\n",
    "\n",
    "print(f'Size of readers embedding : {updated_embedding_readers_norm.shape}')\n",
    "print(f'Size of books embedding   : {updated_embedding_books_norm.shape}')"
   ]
  },
  {
   "cell_type": "markdown",
   "id": "8a13ecb7-e6c9-4b41-bf87-c9710d45e95b",
   "metadata": {},
   "source": [
    "**Re-build metrics**"
   ]
  },
  {
   "cell_type": "code",
   "execution_count": 117,
   "id": "9d72f88b-a464-4145-86a1-b43656cf3f0d",
   "metadata": {},
   "outputs": [
    {
     "name": "stdout",
     "output_type": "stream",
     "text": [
      "Cosine modularity of normalized embedding         : 0.345\n",
      "Updated Cosine modularity of normalized embedding : 0.357\n"
     ]
    }
   ],
   "source": [
    "# Cosine-modularity of embedding\n",
    "updated_cosine_mod_norm = np.round(cosine_modularity(updated_biadjacency, \n",
    "                                                     embedding=updated_embedding_readers_norm, \n",
    "                                                     embedding_col=updated_embedding_books_norm), 3)\n",
    "\n",
    "print(f'Cosine modularity of normalized embedding         : {cosine_mod_norm}')\n",
    "print(f'Updated Cosine modularity of normalized embedding : {updated_cosine_mod_norm}')"
   ]
  },
  {
   "cell_type": "markdown",
   "id": "890632c6-ecbd-4c8a-8862-62ef07b2f91a",
   "metadata": {},
   "source": [
    "**Re-plot embedding**"
   ]
  },
  {
   "cell_type": "code",
   "execution_count": 118,
   "id": "310113d2-b46d-4d78-86fc-ded0dd0fcd62",
   "metadata": {},
   "outputs": [
    {
     "name": "stdout",
     "output_type": "stream",
     "text": [
      "\n",
      "Spectral normalized embedding\n",
      "-------------------\n",
      "Reader : 22 - Similar readers : [22 71 84 26 67] - Avg Common books read : 56.6  - Avg ratio common book read : 0.23\n",
      "Reader : 82 - Similar readers : [82 63 57 12 41] - Avg Common books read : 13.4  - Avg ratio common book read : 0.32\n",
      "Reader : 88 - Similar readers : [88  1 61 49 38] - Avg Common books read : 24.6  - Avg ratio common book read : 0.25\n",
      "Reader : 91 - Similar readers : [91 23 66 41 57] - Avg Common books read : 120.2 - Avg ratio common book read : 0.24\n",
      "Reader : 72 - Similar readers : [72 70 13  9 12] - Avg Common books read : 47.4  - Avg ratio common book read : 0.24\n",
      "\n",
      "Updated Spectral normalized embedding\n",
      "-------------------\n",
      "Reader : 22 - Similar readers : [22 71 84 26 87] - Avg Common books read : 57.8  - Avg ratio common book read : 0.23\n",
      "Reader : 82 - Similar readers : [82 63 57 12 41] - Avg Common books read : 13.4  - Avg ratio common book read : 0.32\n",
      "Reader : 88 - Similar readers : [88  1 61 49 38] - Avg Common books read : 24.6  - Avg ratio common book read : 0.25\n",
      "Reader : 91 - Similar readers : [91 23 66 41 57] - Avg Common books read : 120.2 - Avg ratio common book read : 0.24\n",
      "Reader : 72 - Similar readers : [72 70 13  9 12] - Avg Common books read : 47.4  - Avg ratio common book read : 0.24\n"
     ]
    }
   ],
   "source": [
    "# List top 5 readers similar to a specific reader\n",
    "list_readers = [22, 82, 88, 91 ,72]\n",
    "\n",
    "print('\\nSpectral normalized embedding\\n-------------------')\n",
    "top_5_similar_readers_norm = []\n",
    "for idx, reader in enumerate(list_readers):\n",
    "    top_5_similar_readers_norm.append(readers[closest_embedded_nodes(embedding_readers_norm, 5, reader)])\n",
    "\n",
    "    # Common book read\n",
    "    books_from_reader = set(sk.utils.get_neighbors(biadjacency, reader))\n",
    "    books_from_similar_readers = [set(sk.utils.get_neighbors(biadjacency, simil_reader)) for simil_reader in top_5_similar_readers_norm[idx]]\n",
    "    nb_common_books_read = [len(books_from_reader.intersection(book_list)) for book_list in books_from_similar_readers]\n",
    "    mean_nb_common_book_read = np.mean(nb_common_books_read)\n",
    "    mean_ratio_common_book_read = np.mean(np.array(nb_common_books_read) / len(books_from_reader))\n",
    "    \n",
    "    print(f'Reader : {reader:<2} - Similar readers : {top_5_similar_readers_norm[idx]} - Avg Common books read : {mean_nb_common_book_read:<5} - Avg ratio common book read : {mean_ratio_common_book_read:.2f}') \n",
    "    \n",
    "print('\\nUpdated Spectral normalized embedding\\n-------------------')\n",
    "updated_top_5_similar_readers_norm = []\n",
    "for idx, reader in enumerate(list_readers):\n",
    "    updated_top_5_similar_readers_norm.append(readers[closest_embedded_nodes(updated_embedding_readers_norm, 5, reader)])\n",
    "\n",
    "    # Common book read\n",
    "    books_from_reader = set(sk.utils.get_neighbors(updated_biadjacency, reader))\n",
    "    books_from_similar_readers = [set(sk.utils.get_neighbors(updated_biadjacency, simil_reader)) for simil_reader in updated_top_5_similar_readers_norm[idx]]\n",
    "    nb_common_books_read = [len(books_from_reader.intersection(book_list)) for book_list in books_from_similar_readers]\n",
    "    mean_nb_common_book_read = np.mean(nb_common_books_read)\n",
    "    mean_ratio_common_book_read = np.mean(np.array(nb_common_books_read) / len(books_from_reader))\n",
    "    \n",
    "    print(f'Reader : {reader:<2} - Similar readers : {updated_top_5_similar_readers_norm[idx]} - Avg Common books read : {mean_nb_common_book_read:<5} - Avg ratio common book read : {mean_ratio_common_book_read:.2f}') "
   ]
  },
  {
   "cell_type": "code",
   "execution_count": 122,
   "id": "19060a33-bb6a-4c9c-b6c7-d8b16e2d6562",
   "metadata": {},
   "outputs": [
    {
     "data": {
      "image/png": "[encoded data removed]",
      "text/plain": [
       "<Figure size 1080x504 with 2 Axes>"
      ]
     },
     "metadata": {
      "needs_background": "light"
     },
     "output_type": "display_data"
    }
   ],
   "source": [
    "fig, ax = plt.subplots(1, 2, figsize=(15, 7))\n",
    "colors = ['b', 'g', 'r', 'c', 'm']\n",
    "markers = ['.', '^', '*', '+', 'x']\n",
    "\n",
    "# plot readers\n",
    "for idx, reader in enumerate(list_readers):\n",
    "    ax[0].scatter(embedding_readers_norm[reader, 0], embedding_readers_norm[reader, 1], color=colors[idx], marker=markers[idx], label=f'Group reader {reader}')\n",
    "    ax[0].text(embedding_readers_norm[reader, 0], embedding_readers_norm[reader, 1], reader)\n",
    "    ax[1].scatter(updated_embedding_readers_norm[reader, 0], updated_embedding_readers_norm[reader, 1], color=colors[idx], marker=markers[idx], label=f'Group reader {reader}')\n",
    "    ax[1].text(updated_embedding_readers_norm[reader, 0], updated_embedding_readers_norm[reader, 1], reader)\n",
    "    \n",
    "for idx, (simil_readers_norm, updated_simil_readers_norm) in enumerate(zip(top_5_similar_readers_norm, updated_top_5_similar_readers_norm)):\n",
    "    for simil_reader_norm, updated_simil_reader_norm in zip(simil_readers_norm, updated_simil_readers_norm):\n",
    "        ax[0].scatter(embedding_readers_norm[simil_reader_norm, 0], embedding_readers_norm[simil_reader_norm, 1], color=colors[idx], marker=markers[idx])\n",
    "        ax[1].scatter(updated_embedding_readers_norm[updated_simil_reader_norm, 0], updated_embedding_readers_norm[updated_simil_reader_norm, 1], color=colors[idx],  marker=markers[idx])\n",
    "        \n",
    "for i in range(2):\n",
    "    ax[i].set_xlabel('Firt eigenvector')\n",
    "    ax[i].set_ylabel('Second eigenvector')\n",
    "    \n",
    "ax[0].set_title('Readers in normalized Spectral embedding space', weight='bold')\n",
    "ax[0].legend()\n",
    "ax[1].set_title('Readers in updated normalized Spectral embedding space', weight='bold')\n",
    "ax[1].legend();"
   ]
  },
  {
   "cell_type": "markdown",
   "id": "b6a88f0a-378e-4671-98c2-5929e7b2429f",
   "metadata": {},
   "source": [
    "**Iterating over all new nodes**"
   ]
  },
  {
   "cell_type": "code",
   "execution_count": 258,
   "id": "4bcc1a29-59e8-4d40-9312-d4ae351492b5",
   "metadata": {},
   "outputs": [],
   "source": [
    "def add_link(df, link):\n",
    "    \n",
    "    updated_df = pd.concat([df, link], axis=0)\n",
    "    updated_df.to_csv(f'{path}/updated_df.csv', index=False, header=False)\n",
    "    return updated_df"
   ]
  },
  {
   "cell_type": "code",
   "execution_count": 280,
   "id": "9cd68913-0c9d-43f2-869d-0c63de68af3e",
   "metadata": {},
   "outputs": [
    {
     "name": "stdout",
     "output_type": "stream",
     "text": [
      "CPU times: user 1h 24min 43s, sys: 8min 55s, total: 1h 33min 38s\n",
      "Wall time: 48min 45s\n"
     ]
    }
   ],
   "source": [
    "import time\n",
    "\n",
    "k = 20 # Embedding space dimension\n",
    "list_cosmod = []\n",
    "\n",
    "# - Import Data -\n",
    "goodReads = sk.data.load_edge_list(f'{path}/goodreads_interactions_100_users_isread_train.csv', bipartite=True, fast_format=False)\n",
    "goodReads_df = pd.read_csv(f'{path}/goodreads_interactions_100_users_isread_train.csv', names=['reader', 'book', 'is_read'])\n",
    "goodReads_new_df = pd.read_csv(f'{path}/goodreads_interactions_100_users_isread_test.csv', names=['reader', 'book', 'is_read'])\n",
    "\n",
    "# - Initial embedding -\n",
    "init_biadjacency = goodReads.biadjacency\n",
    "init_readers = goodReads.names\n",
    "init_books = goodReads.names_col\n",
    "\n",
    "init_bispectral_norm = BiSpectral(k, normalized=True, regularization=0, scaling=0, solver='lanczos')\n",
    "init_embedding_readers_norm = init_bispectral_norm.fit_transform(init_biadjacency)\n",
    "init_embedding_books_norm = init_bispectral_norm.embedding_col_\n",
    "\n",
    "# Cosine-modularity of embedding\n",
    "init_cosine_mod_norm = np.round(cosine_modularity(init_biadjacency, \n",
    "                                                     embedding=init_embedding_readers_norm, \n",
    "                                                     embedding_col=init_embedding_books_norm), 3)\n",
    "\n",
    "list_cosmod.append(init_cosine_mod_norm) # Fill cosine similarity list\n",
    "\n",
    "\n",
    "\n",
    "# - Initialization -\n",
    "updated_df = goodReads_df.copy()\n",
    "\n",
    "# - Add new nodes -\n",
    "list_biadjacency, list_embed_readers = [], []\n",
    "for i in range(goodReads_new_df.shape[0]):\n",
    "    \n",
    "    link = goodReads_new_df.iloc[i:i+1, :]\n",
    "    updated_df = add_link(updated_df, link)\n",
    "        \n",
    "    # Update graph\n",
    "    updated_graph = sk.data.load_edge_list(f'{path}/updated_df.csv', bipartite=True, fast_format=False)\n",
    "    \n",
    "    # Update Embedding\n",
    "    updated_biadjacency = updated_graph.biadjacency\n",
    "    updated_readers = updated_graph.names\n",
    "    updated_books = updated_graph.names_col\n",
    "    \n",
    "    updated_bispectral_norm = BiSpectral(k, normalized=True, regularization=0, scaling=0, solver='lanczos')\n",
    "    updated_embedding_readers_norm = updated_bispectral_norm.fit_transform(updated_biadjacency)\n",
    "    updated_embedding_books_norm = updated_bispectral_norm.embedding_col_\n",
    "    \n",
    "    # Update Cosine-modularity of embedding\n",
    "    updated_cosine_mod_norm = np.round(cosine_modularity(updated_biadjacency, \n",
    "                                                         embedding=updated_embedding_readers_norm, \n",
    "                                                         embedding_col=updated_embedding_books_norm), 3)\n",
    "    \n",
    "    list_cosmod.append(updated_cosine_mod_norm) # Fill cosine similarity list\n",
    "    \n",
    "    if i%100 == 0:\n",
    "        list_biadjacency.append(updated_biadjacency)\n",
    "        list_embed_readers.append(updated_embedding_readers_norm)"
   ]
  },
  {
   "cell_type": "code",
   "execution_count": 274,
   "id": "81581f98-1d8c-4d93-a98e-3de0849b008e",
   "metadata": {},
   "outputs": [
    {
     "data": {
      "image/png": "[encoded data removed]",
      "text/plain": [
       "<Figure size 1080x360 with 2 Axes>"
      ]
     },
     "metadata": {
      "needs_background": "light"
     },
     "output_type": "display_data"
    }
   ],
   "source": [
    "fig, ax = plt.subplots(1, 2, figsize=(15, 5))\n",
    "ax[0].scatter(range(len(list_cosmod)), list_cosmod)\n",
    "ax[0].set_title('Evolution of Cosine-Modularity when adding new links to network', weight='bold')\n",
    "ax[0].set_xlabel('New links over time')\n",
    "ax[0].set_ylabel('Cosine modularity of embedding')\n",
    "\n",
    "ax[1].boxplot(list_cosmod);"
   ]
  },
  {
   "cell_type": "markdown",
   "id": "a62a6edc-f752-460d-9a3c-a5e62bab765c",
   "metadata": {},
   "source": [
    "**After 100 iterations**"
   ]
  },
  {
   "cell_type": "code",
   "execution_count": 266,
   "id": "02baf008-63a1-464f-846e-31c19292a01e",
   "metadata": {},
   "outputs": [
    {
     "name": "stdout",
     "output_type": "stream",
     "text": [
      "\n",
      "Spectral normalized embedding\n",
      "-------------------\n",
      "Reader : 22 - Similar readers : [22 71 84 26 67] - Avg Common books read : 56.6  - Avg ratio common book read : 0.23\n",
      "Reader : 82 - Similar readers : [82 63 57 12 41] - Avg Common books read : 13.4  - Avg ratio common book read : 0.32\n",
      "Reader : 88 - Similar readers : [88  1 61 49 38] - Avg Common books read : 24.6  - Avg ratio common book read : 0.25\n",
      "Reader : 91 - Similar readers : [91 23 66 41 57] - Avg Common books read : 120.2 - Avg ratio common book read : 0.24\n",
      "Reader : 72 - Similar readers : [72 70 13  9 12] - Avg Common books read : 47.4  - Avg ratio common book read : 0.24\n",
      "\n",
      "Updated Spectral normalized embedding\n",
      "-------------------\n",
      "Reader : 22 - Similar readers : [22 71 84 26 87] - Avg Common books read : 58.0  - Avg ratio common book read : 0.23\n",
      "Reader : 82 - Similar readers : [82 63 57 12 41] - Avg Common books read : 14.2  - Avg ratio common book read : 0.33\n",
      "Reader : 88 - Similar readers : [88  1 61 49 38] - Avg Common books read : 24.6  - Avg ratio common book read : 0.25\n",
      "Reader : 91 - Similar readers : [91 23 41 66 57] - Avg Common books read : 121.0 - Avg ratio common book read : 0.24\n",
      "Reader : 72 - Similar readers : [72 70 13  9 12] - Avg Common books read : 47.8  - Avg ratio common book read : 0.24\n"
     ]
    }
   ],
   "source": [
    "# List top 5 readers similar to a specific reader\n",
    "list_readers = [22, 82, 88, 91 ,72]\n",
    "\n",
    "print('\\nSpectral normalized embedding\\n-------------------')\n",
    "top_5_similar_readers_norm = []\n",
    "for idx, reader in enumerate(list_readers):\n",
    "    top_5_similar_readers_norm.append(readers[closest_embedded_nodes(embedding_readers_norm, 5, reader)])\n",
    "\n",
    "    # Common book read\n",
    "    books_from_reader = set(sk.utils.get_neighbors(biadjacency, reader))\n",
    "    books_from_similar_readers = [set(sk.utils.get_neighbors(biadjacency, simil_reader)) for simil_reader in top_5_similar_readers_norm[idx]]\n",
    "    nb_common_books_read = [len(books_from_reader.intersection(book_list)) for book_list in books_from_similar_readers]\n",
    "    mean_nb_common_book_read = np.mean(nb_common_books_read)\n",
    "    mean_ratio_common_book_read = np.mean(np.array(nb_common_books_read) / len(books_from_reader))\n",
    "    \n",
    "    print(f'Reader : {reader:<2} - Similar readers : {top_5_similar_readers_norm[idx]} - Avg Common books read : {mean_nb_common_book_read:<5} - Avg ratio common book read : {mean_ratio_common_book_read:.2f}') \n",
    "    \n",
    "print('\\nUpdated Spectral normalized embedding\\n-------------------')\n",
    "updated_top_5_similar_readers_norm = []\n",
    "for idx, reader in enumerate(list_readers):\n",
    "    updated_top_5_similar_readers_norm.append(updated_readers[closest_embedded_nodes(updated_embedding_readers_norm, 5, reader)])\n",
    "\n",
    "    # Common book read\n",
    "    books_from_reader = set(sk.utils.get_neighbors(updated_biadjacency, reader))\n",
    "    books_from_similar_readers = [set(sk.utils.get_neighbors(updated_biadjacency, simil_reader)) for simil_reader in updated_top_5_similar_readers_norm[idx]]\n",
    "    nb_common_books_read = [len(books_from_reader.intersection(book_list)) for book_list in books_from_similar_readers]\n",
    "    mean_nb_common_book_read = np.mean(nb_common_books_read)\n",
    "    mean_ratio_common_book_read = np.mean(np.array(nb_common_books_read) / len(books_from_reader))\n",
    "    \n",
    "    print(f'Reader : {reader:<2} - Similar readers : {updated_top_5_similar_readers_norm[idx]} - Avg Common books read : {mean_nb_common_book_read:<5} - Avg ratio common book read : {mean_ratio_common_book_read:.2f}') "
   ]
  },
  {
   "cell_type": "code",
   "execution_count": 275,
   "id": "57a3a448-266f-4141-8744-88e1c115cc6b",
   "metadata": {},
   "outputs": [
    {
     "data": {
      "image/png": "[encoded data removed]",
      "text/plain": [
       "<Figure size 1080x504 with 2 Axes>"
      ]
     },
     "metadata": {
      "needs_background": "light"
     },
     "output_type": "display_data"
    }
   ],
   "source": [
    "fig, ax = plt.subplots(1, 2, figsize=(15, 7))\n",
    "colors = ['b', 'g', 'r', 'c', 'm']\n",
    "markers = ['.', '^', '*', '+', 'x']\n",
    "\n",
    "# plot readers\n",
    "for idx, reader in enumerate(list_readers):\n",
    "    ax[0].scatter(embedding_readers_norm[reader, 0], embedding_readers_norm[reader, 1], color=colors[idx], marker=markers[idx], label=f'Group reader {reader}')\n",
    "    ax[0].text(embedding_readers_norm[reader, 0], embedding_readers_norm[reader, 1], reader)\n",
    "    ax[1].scatter(updated_embedding_readers_norm[reader, 0], updated_embedding_readers_norm[reader, 1], color=colors[idx], marker=markers[idx], label=f'Group reader {reader}')\n",
    "    ax[1].text(updated_embedding_readers_norm[reader, 0], updated_embedding_readers_norm[reader, 1], reader)\n",
    "    \n",
    "for idx, (simil_readers_norm, updated_simil_readers_norm) in enumerate(zip(top_5_similar_readers_norm, updated_top_5_similar_readers_norm)):\n",
    "    for simil_reader_norm, updated_simil_reader_norm in zip(simil_readers_norm, updated_simil_readers_norm):\n",
    "        ax[0].scatter(embedding_readers_norm[simil_reader_norm, 0], embedding_readers_norm[simil_reader_norm, 1], color=colors[idx], marker=markers[idx])\n",
    "        ax[1].scatter(updated_embedding_readers_norm[updated_simil_reader_norm, 0], updated_embedding_readers_norm[updated_simil_reader_norm, 1], color=colors[idx],  marker=markers[idx])\n",
    "        \n",
    "for i in range(2):\n",
    "    ax[i].set_xlabel('Firt eigenvector')\n",
    "    ax[i].set_ylabel('Second eigenvector')\n",
    "    \n",
    "ax[0].set_title('Readers in normalized Spectral embedding space', weight='bold')\n",
    "ax[0].legend()\n",
    "ax[1].set_title('Readers in updated normalized Spectral embedding space', weight='bold')\n",
    "ax[1].legend();"
   ]
  },
  {
   "cell_type": "markdown",
   "id": "468a9574-4667-40d8-91e3-194e1220c664",
   "metadata": {},
   "source": [
    "**After all iterations**"
   ]
  },
  {
   "cell_type": "code",
   "execution_count": 288,
   "id": "8f961823-f99e-4599-ae8e-673e9e692769",
   "metadata": {},
   "outputs": [
    {
     "name": "stdout",
     "output_type": "stream",
     "text": [
      "\n",
      "Spectral normalized embedding\n",
      "-------------------\n",
      "Reader : 22 - Similar readers : [22 71 84 26 67] - Avg Common books read : 56.6  - Avg ratio common book read : 0.23\n",
      "Reader : 82 - Similar readers : [82 63 57 12 41] - Avg Common books read : 13.4  - Avg ratio common book read : 0.32\n",
      "Reader : 88 - Similar readers : [88  1 61 49 38] - Avg Common books read : 24.6  - Avg ratio common book read : 0.25\n",
      "Reader : 91 - Similar readers : [91 23 66 41 57] - Avg Common books read : 120.2 - Avg ratio common book read : 0.24\n",
      "Reader : 72 - Similar readers : [72 70 13  9 12] - Avg Common books read : 47.4  - Avg ratio common book read : 0.24\n",
      "\n",
      "Updated Spectral normalized embedding\n",
      "-------------------\n",
      "Reader : 22 - Similar readers : [22 84 87  4  7] - Avg Common books read : 74.8  - Avg ratio common book read : 0.25\n",
      "Reader : 82 - Similar readers : [82 29 63 41 66] - Avg Common books read : 25.8  - Avg ratio common book read : 0.42\n",
      "Reader : 88 - Similar readers : [88 49 52 61 38] - Avg Common books read : 33.2  - Avg ratio common book read : 0.27\n",
      "Reader : 91 - Similar readers : [91 23 66 41 63] - Avg Common books read : 157.0 - Avg ratio common book read : 0.25\n",
      "Reader : 72 - Similar readers : [72 70 13 92 12] - Avg Common books read : 60.0  - Avg ratio common book read : 0.25\n"
     ]
    },
    {
     "data": {
      "image/png": "[encoded data removed]",
      "text/plain": [
       "<Figure size 1080x504 with 2 Axes>"
      ]
     },
     "metadata": {
      "needs_background": "light"
     },
     "output_type": "display_data"
    }
   ],
   "source": [
    "# List top 5 readers similar to a specific reader\n",
    "list_readers = [22, 82, 88, 91 ,72]\n",
    "\n",
    "print('\\nSpectral normalized embedding\\n-------------------')\n",
    "top_5_similar_readers_norm = []\n",
    "for idx, reader in enumerate(list_readers):\n",
    "    top_5_similar_readers_norm.append(readers[closest_embedded_nodes(embedding_readers_norm, 5, reader)])\n",
    "\n",
    "    # Common book read\n",
    "    books_from_reader = set(sk.utils.get_neighbors(biadjacency, reader))\n",
    "    books_from_similar_readers = [set(sk.utils.get_neighbors(biadjacency, simil_reader)) for simil_reader in top_5_similar_readers_norm[idx]]\n",
    "    nb_common_books_read = [len(books_from_reader.intersection(book_list)) for book_list in books_from_similar_readers]\n",
    "    mean_nb_common_book_read = np.mean(nb_common_books_read)\n",
    "    mean_ratio_common_book_read = np.mean(np.array(nb_common_books_read) / len(books_from_reader))\n",
    "    \n",
    "    print(f'Reader : {reader:<2} - Similar readers : {top_5_similar_readers_norm[idx]} - Avg Common books read : {mean_nb_common_book_read:<5} - Avg ratio common book read : {mean_ratio_common_book_read:.2f}') \n",
    "    \n",
    "print('\\nUpdated Spectral normalized embedding\\n-------------------')\n",
    "updated_top_5_similar_readers_norm = []\n",
    "for idx, reader in enumerate(list_readers):\n",
    "    updated_top_5_similar_readers_norm.append(updated_readers[closest_embedded_nodes(updated_embedding_readers_norm, 5, reader)])\n",
    "\n",
    "    # Common book read\n",
    "    books_from_reader = set(sk.utils.get_neighbors(updated_biadjacency, reader))\n",
    "    books_from_similar_readers = [set(sk.utils.get_neighbors(updated_biadjacency, simil_reader)) for simil_reader in updated_top_5_similar_readers_norm[idx]]\n",
    "    nb_common_books_read = [len(books_from_reader.intersection(book_list)) for book_list in books_from_similar_readers]\n",
    "    mean_nb_common_book_read = np.mean(nb_common_books_read)\n",
    "    mean_ratio_common_book_read = np.mean(np.array(nb_common_books_read) / len(books_from_reader))\n",
    "    \n",
    "    print(f'Reader : {reader:<2} - Similar readers : {updated_top_5_similar_readers_norm[idx]} - Avg Common books read : {mean_nb_common_book_read:<5} - Avg ratio common book read : {mean_ratio_common_book_read:.2f}') \n",
    "    \n",
    "fig, ax = plt.subplots(1, 2, figsize=(15, 7))\n",
    "colors = ['b', 'g', 'r', 'c', 'm']\n",
    "markers = ['.', '^', '*', '+', 'x']\n",
    "\n",
    "# plot readers\n",
    "for idx, reader in enumerate(list_readers):\n",
    "    ax[0].scatter(embedding_readers_norm[reader, 0], embedding_readers_norm[reader, 1], color=colors[idx], marker=markers[idx], label=f'Group reader {reader}')\n",
    "    ax[0].text(embedding_readers_norm[reader, 0], embedding_readers_norm[reader, 1], reader)\n",
    "    ax[1].scatter(updated_embedding_readers_norm[reader, 0], updated_embedding_readers_norm[reader, 1], color=colors[idx], marker=markers[idx], label=f'Group reader {reader}')\n",
    "    ax[1].text(updated_embedding_readers_norm[reader, 0], updated_embedding_readers_norm[reader, 1], reader)\n",
    "    \n",
    "for idx, (simil_readers_norm, updated_simil_readers_norm) in enumerate(zip(top_5_similar_readers_norm, updated_top_5_similar_readers_norm)):\n",
    "    for simil_reader_norm, updated_simil_reader_norm in zip(simil_readers_norm, updated_simil_readers_norm):\n",
    "        ax[0].scatter(embedding_readers_norm[simil_reader_norm, 0], embedding_readers_norm[simil_reader_norm, 1], color=colors[idx], marker=markers[idx])\n",
    "        ax[1].scatter(updated_embedding_readers_norm[updated_simil_reader_norm, 0], updated_embedding_readers_norm[updated_simil_reader_norm, 1], color=colors[idx],  marker=markers[idx])\n",
    "        \n",
    "for i in range(2):\n",
    "    ax[i].set_xlabel('Firt eigenvector')\n",
    "    ax[i].set_ylabel('Second eigenvector')\n",
    "    \n",
    "ax[0].set_title('Readers in normalized Spectral embedding space', weight='bold')\n",
    "ax[0].legend()\n",
    "ax[1].set_title('Readers in updated normalized Spectral embedding space', weight='bold')\n",
    "ax[1].legend();"
   ]
  },
  {
   "cell_type": "code",
   "execution_count": 281,
   "id": "1592acf5-8902-4325-9079-f7a9bd8b113a",
   "metadata": {},
   "outputs": [
    {
     "data": {
      "image/png": "[encoded data removed]",
      "text/plain": [
       "<Figure size 1080x360 with 2 Axes>"
      ]
     },
     "metadata": {
      "needs_background": "light"
     },
     "output_type": "display_data"
    }
   ],
   "source": [
    "fig, ax = plt.subplots(1, 2, figsize=(15, 5))\n",
    "ax[0].scatter(range(len(list_cosmod)), list_cosmod)\n",
    "ax[0].set_title('Evolution of Cosine-Modularity when adding new links to network', weight='bold')\n",
    "ax[0].set_xlabel('New links over time')\n",
    "ax[0].set_ylabel('Cosine modularity of embedding')\n",
    "\n",
    "ax[1].boxplot(list_cosmod);"
   ]
  },
  {
   "cell_type": "markdown",
   "id": "b2e1606d-b8d6-48ca-93eb-ee214d84c6ee",
   "metadata": {},
   "source": [
    "**Modifying Lanczos**"
   ]
  },
  {
   "cell_type": "code",
   "execution_count": 408,
   "id": "be80005a-9c74-4c8b-9b39-c645cb2e0679",
   "metadata": {},
   "outputs": [
    {
     "name": "stdout",
     "output_type": "stream",
     "text": [
      "v0's shape : (10, 100)\n",
      "Eigenvalues : [317.80904106 318.3024124  320.82563775 323.88150632 328.04905764\n",
      " 329.53236556], (6, 1)\n",
      "Eigenvectors : [-0.02461716 -0.00982748  0.05767398  0.01376299  0.03863702 -0.01360504]\n",
      "Eigenvalues : [317.80904106 318.3024124  320.82563775 323.88150632 328.04905764\n",
      " 329.53236556]\n",
      "Eigenvectors : [ 0.02461716 -0.00982748  0.05767398  0.01376299  0.03863702  0.01360504]\n",
      "Eigenvalues : [317.80904106 318.3024124  320.82563775 323.88150632 328.04905764\n",
      " 329.53236556]\n",
      "Eigenvectors : [-0.02461716  0.00982748 -0.05767398  0.01376299  0.03863702  0.01360504]\n"
     ]
    }
   ],
   "source": [
    "import scipy\n",
    "np.set_printoptions(suppress=True)\n",
    "rng = np.random.default_rng()\n",
    "\n",
    "X = rng.random((1000, 1000)) - 0.5\n",
    "X = np.dot(X, X.T) \n",
    "X1 = rng.random((1000, 1000)) - 0.5\n",
    "X1 = np.dot(X1, X1.T) \n",
    "\n",
    "v0 = np.random.rand(10, 100)\n",
    "#v1 = np.random_state.rand(X.shape[0])\n",
    "print(f\"v0\\'s shape : {v0.shape}\")\n",
    "\n",
    "eigval, eigvect = scipy.sparse.linalg.eigsh(X, 6, which='LA', v0=None)\n",
    "print(f'Eigenvalues : {eigval}, {eigval.reshape(-1, 1).shape}')\n",
    "print(f'Eigenvectors : {eigvect[0]}')\n",
    "\n",
    "eigval1, eigvect1 = scipy.sparse.linalg.eigsh(X, 6, which='LA', v0=eigvect[:, 0])\n",
    "print(f'Eigenvalues : {eigval1}')\n",
    "print(f'Eigenvectors : {eigvect1[0]}')\n",
    "\n",
    "eigval2, eigvect2 = scipy.sparse.linalg.eigsh(X, 6, which='LA', v0=v0)\n",
    "print(f'Eigenvalues : {eigval2}')\n",
    "print(f'Eigenvectors : {eigvect2[0]}')"
   ]
  },
  {
   "cell_type": "code",
   "execution_count": 414,
   "id": "3c675e45-0356-466d-937b-f7196f1f9cc0",
   "metadata": {},
   "outputs": [
    {
     "name": "stdout",
     "output_type": "stream",
     "text": [
      "0.024617163360949476\n",
      "-0.02461716336094793\n",
      "-0.0246171633609342\n"
     ]
    }
   ],
   "source": [
    "print(eigvect1[0, 0])\n",
    "print(eigvect2[0, 0])\n",
    "print(eigvect[0, 0])"
   ]
  },
  {
   "cell_type": "code",
   "execution_count": 415,
   "id": "f4b56766-c771-4c66-b90f-f60bbf73a0de",
   "metadata": {},
   "outputs": [
    {
     "data": {
      "text/plain": [
       "array([[False, False, False, False, False, False],\n",
       "       [False, False, False, False, False, False],\n",
       "       [False, False, False, False, False, False],\n",
       "       ...,\n",
       "       [False, False, False, False, False, False],\n",
       "       [False, False, False, False, False, False],\n",
       "       [False, False, False, False, False, False]])"
      ]
     },
     "execution_count": 415,
     "metadata": {},
     "output_type": "execute_result"
    }
   ],
   "source": [
    "eigvect2 == eigvect"
   ]
  },
  {
   "cell_type": "markdown",
   "id": "da421abf-6358-42b3-a637-09d64418a628",
   "metadata": {},
   "source": [
    "**QUESTIONS**\n",
    "\n",
    "- Juger l'embedding par des tâches sous-jacentes (clustering) ?\n",
    "- Juger l'embedding en essayant de reconstruire un graphe à partir de celui-ci et en comparant graphe d'origine vs graphe reconstruit ? \n",
    "- Juger l'embedding en utilisant la **norme Froebinus** de $S - E$ avec $S$ la matrice de similarité (ex Common neighbors) et $E$ la matrice de cossim de l'embedding ?\n",
    "- **Comment insérer un nouveau lien dans une matrice format CSR** ? - *pour le moment, tout est recalculé à chaque itération*\n",
    "    - algo de streaming de lien ?\n",
    "- Est-il possible de calculer un embedding spectral d'un seul vecteur ?\n",
    "    - si oui, calculer embedding spectral de chaque nouveau streamed link avec `v0`=embedding précédent du lien"
   ]
  },
  {
   "cell_type": "code",
   "execution_count": null,
   "id": "ba92709e-8df9-4e26-bf8a-c4c0df86aa67",
   "metadata": {},
   "outputs": [],
   "source": []
  },
  {
   "cell_type": "code",
   "execution_count": null,
   "id": "50ca279f-580a-44e0-a09d-430925426ff4",
   "metadata": {},
   "outputs": [],
   "source": []
  },
  {
   "cell_type": "code",
   "execution_count": null,
   "id": "2bb3815c-69d7-4454-a5c1-04cfc1f8e8cd",
   "metadata": {},
   "outputs": [],
   "source": []
  },
  {
   "cell_type": "code",
   "execution_count": null,
   "id": "15aed882-d54e-4efd-8024-a73423095960",
   "metadata": {},
   "outputs": [],
   "source": []
  },
  {
   "cell_type": "code",
   "execution_count": null,
   "id": "b8a2389f-25bc-496d-8696-7a627d9259f8",
   "metadata": {},
   "outputs": [],
   "source": []
  },
  {
   "cell_type": "markdown",
   "id": "67f53d0a-5533-488c-823d-26afb62c3a45",
   "metadata": {},
   "source": [
    "**Preprocessing**  \n",
    "\n",
    "Each new node must be defined by its **adjacency vector**."
   ]
  },
  {
   "cell_type": "code",
   "execution_count": 391,
   "id": "086cfa4f-0dec-45ab-8975-be9c066be421",
   "metadata": {},
   "outputs": [
    {
     "name": "stdout",
     "output_type": "stream",
     "text": [
      "(100, 29)\n",
      "(11253, 29)\n"
     ]
    }
   ],
   "source": [
    "from scipy import sparse\n",
    "\n",
    "print(bispectral.embedding_row_.shape)\n",
    "print(bispectral.embedding_col_.shape)\n",
    "#sparse.csr_matrix(adj_vect).dot(np.ones(sparse.csr_matrix(adj_vect).shape[1]))"
   ]
  },
  {
   "cell_type": "code",
   "execution_count": 380,
   "id": "4762e332-a16a-46ef-bd56-a64c0d78fbec",
   "metadata": {},
   "outputs": [
    {
     "data": {
      "text/plain": [
       "array([-2.88016463e-03, -6.35275750e-04, -2.13596916e-03, -1.27184364e-04,\n",
       "       -1.91790673e-05, -3.29408518e-04, -1.38939234e-03, -5.51819513e-04,\n",
       "       -8.27944944e-04, -5.57882552e-04, -6.44333366e-03,  4.72701440e-04,\n",
       "        3.67807245e-03, -5.33439386e-03,  6.48413531e-03, -9.84625441e-03,\n",
       "        1.63617709e-02,  1.50305649e-02,  1.27773362e-02,  9.00988649e-03,\n",
       "       -1.48422863e-02, -6.26825474e-03,  3.79176185e-04, -4.24175989e-03,\n",
       "        5.05711475e-03, -2.97812559e-03, -1.09311261e-02, -1.11285080e-03,\n",
       "       -2.75322713e-03])"
      ]
     },
     "execution_count": 380,
     "metadata": {},
     "output_type": "execute_result"
    }
   ],
   "source": [
    "adj_vect = np.zeros(len(books))\n",
    "col_idx = np.where(books==14671)\n",
    "adj_vect[col_idx] = 1\n",
    "\n",
    "bispectral.predict(adj_vect)"
   ]
  },
  {
   "cell_type": "markdown",
   "id": "5f66d1e4-df23-45f2-bc03-fe9d435168c2",
   "metadata": {},
   "source": [
    "**TODO** \n",
    "\n",
    "- Comment ajouter un noeud/lien dans une matrice CSR sans recalculer toute la matrice ?  \n",
    "- Ajouter un noeud et recalculer tout l'embedding -> mauvais\n",
    "- Ajouter un noeud et recalculer l'embedding sur la base de la valeur précédente du vecteur `v0` dans l'algo de Lanczos ?"
   ]
  },
  {
   "cell_type": "markdown",
   "id": "5c9ab1af-2dd9-417b-a79b-612f57f97122",
   "metadata": {},
   "source": [
    "$$\n",
    "max \\big(CosSim(x_i, x_j)\\big) \\iff max \\big( CN(V_i, V_j) \\big) ?\n",
    "$$"
   ]
  },
  {
   "cell_type": "markdown",
   "id": "ed1597dd-351b-4064-97ba-a5f6a2140934",
   "metadata": {},
   "source": [
    "#### 5.2 Predict embedding of new link"
   ]
  },
  {
   "cell_type": "code",
   "execution_count": null,
   "id": "73d0371e-6284-40ee-ac06-7685db9d74c3",
   "metadata": {},
   "outputs": [],
   "source": []
  },
  {
   "cell_type": "markdown",
   "id": "a19e8394-6e2e-4440-aa76-895450daab17",
   "metadata": {},
   "source": [
    "## Annexes"
   ]
  },
  {
   "cell_type": "markdown",
   "id": "8e045285-472a-44b0-b49b-7a53586d6505",
   "metadata": {},
   "source": [
    "`streamfig` library usage example :"
   ]
  },
  {
   "cell_type": "code",
   "execution_count": 22,
   "id": "aa8bd23a-f31c-462b-9763-7be983e832f1",
   "metadata": {},
   "outputs": [],
   "source": [
    "sg = streamfig.StreamFig(alpha=0, omega=4, streaming=False)\n",
    "\n",
    "sg.addNode(\"u\")\n",
    "sg.addNode(\"v\")\n",
    "sg.addNode(\"w\")\n",
    "\n",
    "sg.addLink(\"u\", \"v\", 1, 2)\n",
    "sg.addLink(\"v\", \"w\", 2, 3)\n",
    "\n",
    "sg.addPath(((2,\"u\",\"v\"), (2,\"v\",\"w\")), 2, 2, color=11, width=6)\n",
    "\n",
    "sg.addTimeLine()\n",
    "sg.save(\"betweeness-1.fig\")"
   ]
  }
 ],
 "metadata": {
  "kernelspec": {
   "display_name": "graphEmbedEnv",
   "language": "python",
   "name": "graphembedenv"
  },
  "language_info": {
   "codemirror_mode": {
    "name": "ipython",
    "version": 3
   },
   "file_extension": ".py",
   "mimetype": "text/x-python",
   "name": "python",
   "nbconvert_exporter": "python",
   "pygments_lexer": "ipython3",
   "version": "3.7.10"
  }
 },
 "nbformat": 4,
 "nbformat_minor": 5
}
