{
 "cells": [
  {
   "cell_type": "markdown",
   "id": "9ced2393-fc04-4cbf-b475-b5db55dde294",
   "metadata": {},
   "source": [
    "# Graph Spectral Embedding"
   ]
  },
  {
   "cell_type": "markdown",
   "id": "43bfc837-bc02-4efb-a3ad-0aa3c414e89a",
   "metadata": {},
   "source": [
    "**Libraries**"
   ]
  },
  {
   "cell_type": "code",
   "execution_count": 1,
   "id": "7b749a8b-d3ce-42eb-9956-bec9cfb40b04",
   "metadata": {},
   "outputs": [],
   "source": [
    "import numpy as np\n",
    "import matplotlib.pyplot as plt\n",
    "from scipy import sparse\n",
    "from scipy.sparse.linalg import eigsh\n",
    "import pandas as pd\n",
    "\n",
    "import sknetwork as sk\n",
    "from sknetwork.embedding import Spectral\n",
    "from sknetwork.utils.format import bipartite2undirected"
   ]
  },
  {
   "cell_type": "markdown",
   "id": "def8731d-d356-4942-9fe9-f791332e88b1",
   "metadata": {},
   "source": [
    "## 1. Data"
   ]
  },
  {
   "cell_type": "markdown",
   "id": "e77525b3-f3f7-4bf1-9458-7b9a1cac09d8",
   "metadata": {},
   "source": [
    "Data comes from [GoodRead Dataset](https://sites.google.com/eng.ucsd.edu/ucsdbookgraph/shelves)"
   ]
  },
  {
   "cell_type": "code",
   "execution_count": 2,
   "id": "45254adc-52a7-499d-9067-00d0b4904244",
   "metadata": {},
   "outputs": [],
   "source": [
    "path = '/Users/simondelarue/Documents/MS_BGD-Telecom_PARIS/Stage/1_data'"
   ]
  },
  {
   "cell_type": "code",
   "execution_count": 58,
   "id": "4ac512e8-9ee3-4fda-a229-ab9e267dec18",
   "metadata": {},
   "outputs": [
    {
     "name": "stdout",
     "output_type": "stream",
     "text": [
      "CPU times: user 64 ms, sys: 7.99 ms, total: 72 ms\n",
      "Wall time: 77.9 ms\n"
     ]
    }
   ],
   "source": [
    "%%time\n",
    "# - Import Data -\n",
    "goodReads = sk.data.load_edge_list(f'{path}/goodreads_interactions_100_users_isread_train1.csv', bipartite=True, fast_format=False)\n",
    "goodReads_df = pd.read_csv(f'{path}/goodreads_interactions_100_users_isread_train1.csv', names=['reader', 'book', 'is_read'])\n",
    "goodReads_eval_df = pd.read_csv(f'{path}/goodreads_interactions_100_users_isread_eval.csv', names=['reader', 'book', 'is_read'])"
   ]
  },
  {
   "cell_type": "code",
   "execution_count": 59,
   "id": "a4cb3d67-0563-4a60-8c9e-4f44d7bd70cd",
   "metadata": {},
   "outputs": [
    {
     "data": {
      "text/plain": [
       "{'biadjacency': <100x9309 sparse matrix of type '<class 'numpy.float64'>'\n",
       " \twith 12901 stored elements in Compressed Sparse Row format>,\n",
       " 'names': array([ 0,  1,  2,  3,  4,  5,  6,  7,  8,  9, 10, 11, 12, 13, 14, 15, 16,\n",
       "        17, 18, 19, 20, 21, 22, 23, 24, 25, 26, 27, 28, 29, 30, 31, 32, 33,\n",
       "        34, 35, 36, 37, 38, 39, 40, 41, 42, 43, 44, 45, 46, 47, 48, 49, 50,\n",
       "        51, 52, 53, 54, 55, 56, 57, 58, 59, 60, 61, 62, 63, 64, 65, 66, 67,\n",
       "        68, 69, 70, 71, 72, 73, 74, 75, 76, 77, 78, 79, 80, 81, 82, 83, 84,\n",
       "        85, 86, 87, 88, 89, 90, 91, 92, 93, 94, 95, 96, 97, 98, 99]),\n",
       " 'names_row': array([ 0,  1,  2,  3,  4,  5,  6,  7,  8,  9, 10, 11, 12, 13, 14, 15, 16,\n",
       "        17, 18, 19, 20, 21, 22, 23, 24, 25, 26, 27, 28, 29, 30, 31, 32, 33,\n",
       "        34, 35, 36, 37, 38, 39, 40, 41, 42, 43, 44, 45, 46, 47, 48, 49, 50,\n",
       "        51, 52, 53, 54, 55, 56, 57, 58, 59, 60, 61, 62, 63, 64, 65, 66, 67,\n",
       "        68, 69, 70, 71, 72, 73, 74, 75, 76, 77, 78, 79, 80, 81, 82, 83, 84,\n",
       "        85, 86, 87, 88, 89, 90, 91, 92, 93, 94, 95, 96, 97, 98, 99]),\n",
       " 'names_col': array([   10,    13,    14, ..., 27788, 27789, 27790])}"
      ]
     },
     "execution_count": 59,
     "metadata": {},
     "output_type": "execute_result"
    }
   ],
   "source": [
    "goodReads"
   ]
  },
  {
   "cell_type": "code",
   "execution_count": 60,
   "id": "f930d0dd-52ec-4b79-80fa-3ab48bbe83c8",
   "metadata": {},
   "outputs": [],
   "source": [
    "# - Initial embedding -\n",
    "biadjacency = goodReads.biadjacency\n",
    "readers = goodReads.names\n",
    "books = goodReads.names_col"
   ]
  },
  {
   "cell_type": "markdown",
   "id": "f84b726e-5e44-4049-9ac1-543565f02b2c",
   "metadata": {},
   "source": [
    "## 2. Initial Spectral Embedding"
   ]
  },
  {
   "cell_type": "markdown",
   "id": "35cb4c1d-81d0-4c93-8365-6b95f76c943b",
   "metadata": {},
   "source": [
    "The spectral embedding is initially computed on the whole graph.  \n",
    "\n",
    "If the graph is not connected (which is the case for this dataset), **regularization** parameter is set to `-1` (default value) in order to force it to become conected."
   ]
  },
  {
   "cell_type": "code",
   "execution_count": 61,
   "id": "a5d3113a-884d-4678-9c30-ded0dc3cfde5",
   "metadata": {},
   "outputs": [],
   "source": [
    "def print_spectrum(eigvalues, ax, regularization=True):\n",
    "    ax.scatter(range(len(eigvalues)), eigvalues)\n",
    "    if regularization:\n",
    "        ax.set_title('Spectrum of regularized Laplacian matrix', weight='bold')\n",
    "    else:\n",
    "        ax.set_title('Spectrum of Laplacian matrix', weight='bold')\n",
    "    ax.set_xticks(np.arange(0, len(eigvalues)))\n",
    "    ax.set_xlabel('Eigenvalue #')\n",
    "    ax.set_ylabel('Eigenvalue')\n",
    "    ax.set_ylim(-0.02, np.max(eigvalues)+0.02);"
   ]
  },
  {
   "cell_type": "code",
   "execution_count": 62,
   "id": "996fc130-552a-47e0-9e19-1686f716a199",
   "metadata": {},
   "outputs": [],
   "source": [
    "k = 20 # Embedding space dimension\n",
    "\n",
    "# Spectral embedding\n",
    "bispectral = Spectral(k, normalized_laplacian=True, regularization=0)\n",
    "embedding_readers = bispectral.fit_transform(biadjacency)\n",
    "embedding_books = bispectral.embedding_col_\n",
    "\n",
    "# Regularized Spectral embedding\n",
    "bispectral_reg = Spectral(k, normalized_laplacian=True, regularization=-1) # if regularization = -1, regularization is applied only if the graph is disconnected\n",
    "embedding_readers_reg = bispectral_reg.fit_transform(biadjacency)\n",
    "embedding_books_reg = bispectral_reg.embedding_col_"
   ]
  },
  {
   "cell_type": "code",
   "execution_count": 63,
   "id": "6cbfbb5b-3dc5-4dcd-8a46-00fa3d2f0299",
   "metadata": {},
   "outputs": [
    {
     "data": {
      "image/png": "[encoded data removed]",
      "text/plain": [
       "<Figure size 720x360 with 2 Axes>"
      ]
     },
     "metadata": {
      "needs_background": "light"
     },
     "output_type": "display_data"
    }
   ],
   "source": [
    "# Plots\n",
    "fig, ax = plt.subplots(1, 2, figsize=(10, 5))\n",
    "print_spectrum(bispectral.eigenvalues_, ax[0], regularization=False)\n",
    "print_spectrum(bispectral_reg.eigenvalues_, ax[1], regularization=True)"
   ]
  },
  {
   "cell_type": "markdown",
   "id": "768107fb-4fc0-40f5-a64a-619257ca1ba6",
   "metadata": {},
   "source": [
    "## 3. Dynamic Spectral Embedding"
   ]
  },
  {
   "cell_type": "markdown",
   "id": "64dabd94-5ac4-42d0-b151-6db2d30feed9",
   "metadata": {},
   "source": [
    "Once the initial spectral embedding is computed, and thus the **eigen vectors** and corresponding **eigen values** are available for the graph, we update locally the embedding of each nodes in the bipartite graph, by computing its predicted embedding using `scikit-network`'s `predict()` function."
   ]
  },
  {
   "cell_type": "code",
   "execution_count": 9,
   "id": "ee809eae-408a-4b70-8614-bd19fc6a394b",
   "metadata": {},
   "outputs": [],
   "source": [
    "dense_biadjacency = biadjacency.todense()"
   ]
  },
  {
   "cell_type": "code",
   "execution_count": 2,
   "id": "0cf7885f-e651-4079-9898-ea61a16f8eaf",
   "metadata": {},
   "outputs": [],
   "source": [
    "def power_method(A, k, return_history=False):\n",
    "    \n",
    "    v = np.random.randn(n) # Initialize random vector\n",
    "    history = []\n",
    "    \n",
    "    for iter in range(k):\n",
    "        v = A.dot(v) / np.linalg.norm(A.dot(v))\n",
    "        history.append(v)\n",
    "        \n",
    "    if return_history:\n",
    "        return v, history\n",
    "    else:\n",
    "        return v\n",
    "    \n",
    "def plot_convergence(delta_v, n, method, ax):\n",
    "    \n",
    "    ax.plot(range(len(delta_v)), delta_v, label=f'n={n} - method:{method}')\n",
    "    ax.set_xlabel('Iterations')\n",
    "    ax.set_title('Power method convergence', weight='bold')\n",
    "    ax.legend();"
   ]
  },
  {
   "cell_type": "code",
   "execution_count": 26,
   "id": "4c8f45c8-d6ed-455c-bc86-c004cbfd5e21",
   "metadata": {},
   "outputs": [
    {
     "name": "stdout",
     "output_type": "stream",
     "text": [
      "---- N=2 ----\n",
      "Method = SM - time = 0.0004s\n",
      "Method = LM - time = 0.0003s\n",
      "---- N=100 ----\n",
      "Method = SM - time = 0.1582s\n",
      "Method = LM - time = 0.0292s\n",
      "---- N=1000 ----\n",
      "Method = SM - time = 3.1739s\n",
      "Method = LM - time = 0.2811s\n",
      "---- N=10000 ----\n",
      "Method = SM - time = 174.1812s\n",
      "Method = LM - time = 31.6643s\n",
      "CPU times: user 6min 49s, sys: 6.81 s, total: 6min 56s\n",
      "Wall time: 3min 37s\n"
     ]
    },
    {
     "data": {
      "image/png": "[encoded data removed]",
      "text/plain": [
       "<Figure size 504x360 with 1 Axes>"
      ]
     },
     "metadata": {
      "needs_background": "light"
     },
     "output_type": "display_data"
    }
   ],
   "source": [
    "%%time \n",
    "\n",
    "import time\n",
    "\n",
    "# Parameters\n",
    "n_list = [2, 100, 1000, 10000]\n",
    "methods = ['SM', 'LM'] # SM : Smallest in magnitude eigenvalues, LM : Largest in magnitude eigenvalues\n",
    "fig, ax = plt.subplots(1, 1, figsize=(7, 5))\n",
    "\n",
    "for n in n_list:\n",
    "    size = (n, n)\n",
    "    print(f'---- N={n} ----')\n",
    "    \n",
    "    # Random matrix filled with 0s and 1s (converted to float to fit eigsh criteria)\n",
    "    A = np.random.randint(2, size=size).astype(float)\n",
    "\n",
    "    for method in methods:\n",
    "        start = time.time()\n",
    "        eigvalues, eigvectors = eigsh(A, k=4, which=method)\n",
    "        end = time.time()\n",
    "        elapsed_time = end - start\n",
    "        print(f'Method = {method} - time = {elapsed_time:.4f}s')\n",
    "\n",
    "        # Power method\n",
    "        k = 15 # Number of iterations \n",
    "        v, v_updates = power_method(A, k=k, return_history=True)\n",
    "\n",
    "        # Check convergence between scipy method's first eigenvector and power method's first eigen vector\n",
    "        delta_v = [np.linalg.norm(v_update - eigvectors[:, -1]) for v_update in v_updates]\n",
    "\n",
    "        # Plots results        \n",
    "        plot_convergence(delta_v, n, method, ax)"
   ]
  },
  {
   "cell_type": "code",
   "execution_count": null,
   "id": "17e96c3c-5d62-48e0-bc74-f0fcd8126c35",
   "metadata": {},
   "outputs": [],
   "source": []
  },
  {
   "cell_type": "code",
   "execution_count": null,
   "id": "22396da2-33b6-414a-aeaf-d403b54e0458",
   "metadata": {},
   "outputs": [],
   "source": []
  },
  {
   "cell_type": "code",
   "execution_count": null,
   "id": "2b618977-e412-4b48-88f2-47b23e6bad75",
   "metadata": {},
   "outputs": [],
   "source": []
  },
  {
   "cell_type": "code",
   "execution_count": null,
   "id": "acb9ac50-b0df-488f-801b-760354dd2ddf",
   "metadata": {},
   "outputs": [],
   "source": []
  },
  {
   "cell_type": "code",
   "execution_count": null,
   "id": "31758207-1684-4981-9458-a562fe9f8cfd",
   "metadata": {},
   "outputs": [],
   "source": []
  },
  {
   "cell_type": "code",
   "execution_count": 21,
   "id": "4ead3e4f-6026-4f15-9d95-c2388683d8ba",
   "metadata": {},
   "outputs": [],
   "source": [
    "node_reader = np.array(dense_biadjacency[0, :]).ravel()\n",
    "node_book = np.array([dense_biadjacency[:, 0]]).ravel()"
   ]
  },
  {
   "cell_type": "code",
   "execution_count": 33,
   "id": "a26badff-3778-48a4-9b6e-744a3489cb41",
   "metadata": {},
   "outputs": [
    {
     "data": {
      "text/plain": [
       "11253"
      ]
     },
     "execution_count": 33,
     "metadata": {},
     "output_type": "execute_result"
    }
   ],
   "source": [
    "len(bispectral_reg.embedding_col_)"
   ]
  },
  {
   "cell_type": "code",
   "execution_count": 34,
   "id": "c728a69a-c099-4c9b-b8fb-51913263dd9f",
   "metadata": {},
   "outputs": [
    {
     "data": {
      "text/plain": [
       "(100, 20)"
      ]
     },
     "execution_count": 34,
     "metadata": {},
     "output_type": "execute_result"
    }
   ],
   "source": [
    "bispectral_reg.embedding_.shape"
   ]
  },
  {
   "cell_type": "code",
   "execution_count": 55,
   "id": "dd3d1564-b051-4b45-be8c-83526839d9ea",
   "metadata": {},
   "outputs": [
    {
     "name": "stdout",
     "output_type": "stream",
     "text": [
      "0\n"
     ]
    }
   ],
   "source": [
    "res = []\n",
    "for i in range(dense_biadjacency.shape[0]):\n",
    "    res.append(np.allclose(np.array(embedding_readers_reg[i, :]), bispectral_reg.predict(np.array(dense_biadjacency[i, :]).ravel()), rtol=1e-15))\n",
    "print(res.count(False))"
   ]
  },
  {
   "cell_type": "code",
   "execution_count": 37,
   "id": "c3ac513e-5922-44d6-916d-65241974504a",
   "metadata": {},
   "outputs": [
    {
     "name": "stdout",
     "output_type": "stream",
     "text": [
      "[-0.00318692 -0.00013079 -0.00231437 -0.00417271 -0.00024192 -0.00057001\n",
      " -0.00185996  0.00063667  0.00234769  0.00079788  0.00086565  0.00141715\n",
      " -0.00132311  0.00141543 -0.00267049  0.00235862 -0.00475424  0.0028557\n",
      "  0.00339969  0.0020548 ]\n"
     ]
    },
    {
     "ename": "ValueError",
     "evalue": "The adjacency vector must be of length equal to the number nodes in the graph.",
     "output_type": "error",
     "traceback": [
      "\u001b[0;31m---------------------------------------------------------------------------\u001b[0m",
      "\u001b[0;31mValueError\u001b[0m                                Traceback (most recent call last)",
      "\u001b[0;32m/var/folders/3p/0nf6lr5x21b424m4r79v06700000gn/T/ipykernel_28286/1644227306.py\u001b[0m in \u001b[0;36m<module>\u001b[0;34m\u001b[0m\n\u001b[1;32m      1\u001b[0m \u001b[0;31m# Embedding using predict()\u001b[0m\u001b[0;34m\u001b[0m\u001b[0;34m\u001b[0m\u001b[0;34m\u001b[0m\u001b[0m\n\u001b[1;32m      2\u001b[0m \u001b[0mprint\u001b[0m\u001b[0;34m(\u001b[0m\u001b[0mbispectral_reg\u001b[0m\u001b[0;34m.\u001b[0m\u001b[0mpredict\u001b[0m\u001b[0;34m(\u001b[0m\u001b[0mnode_reader\u001b[0m\u001b[0;34m)\u001b[0m\u001b[0;34m)\u001b[0m\u001b[0;34m\u001b[0m\u001b[0;34m\u001b[0m\u001b[0m\n\u001b[0;32m----> 3\u001b[0;31m \u001b[0mprint\u001b[0m\u001b[0;34m(\u001b[0m\u001b[0mbispectral_reg\u001b[0m\u001b[0;34m.\u001b[0m\u001b[0mpredict\u001b[0m\u001b[0;34m(\u001b[0m\u001b[0mnode_book\u001b[0m\u001b[0;34m.\u001b[0m\u001b[0mT\u001b[0m\u001b[0;34m)\u001b[0m\u001b[0;34m)\u001b[0m\u001b[0;34m\u001b[0m\u001b[0;34m\u001b[0m\u001b[0m\n\u001b[0m",
      "\u001b[0;32m~/Desktop/scikit-network/sknetwork/embedding/spectral.py\u001b[0m in \u001b[0;36mpredict\u001b[0;34m(self, adjacency_vectors)\u001b[0m\n\u001b[1;32m    169\u001b[0m         \u001b[0;32melse\u001b[0m\u001b[0;34m:\u001b[0m\u001b[0;34m\u001b[0m\u001b[0;34m\u001b[0m\u001b[0m\n\u001b[1;32m    170\u001b[0m             \u001b[0mn\u001b[0m \u001b[0;34m=\u001b[0m \u001b[0mlen\u001b[0m\u001b[0;34m(\u001b[0m\u001b[0mself\u001b[0m\u001b[0;34m.\u001b[0m\u001b[0membedding_\u001b[0m\u001b[0;34m)\u001b[0m\u001b[0;34m\u001b[0m\u001b[0;34m\u001b[0m\u001b[0m\n\u001b[0;32m--> 171\u001b[0;31m         \u001b[0madjacency_vectors\u001b[0m \u001b[0;34m=\u001b[0m \u001b[0mcheck_adjacency_vector\u001b[0m\u001b[0;34m(\u001b[0m\u001b[0madjacency_vectors\u001b[0m\u001b[0;34m,\u001b[0m \u001b[0mn\u001b[0m\u001b[0;34m)\u001b[0m\u001b[0;34m\u001b[0m\u001b[0;34m\u001b[0m\u001b[0m\n\u001b[0m\u001b[1;32m    172\u001b[0m         \u001b[0mcheck_nonnegative\u001b[0m\u001b[0;34m(\u001b[0m\u001b[0madjacency_vectors\u001b[0m\u001b[0;34m)\u001b[0m\u001b[0;34m\u001b[0m\u001b[0;34m\u001b[0m\u001b[0m\n\u001b[1;32m    173\u001b[0m \u001b[0;34m\u001b[0m\u001b[0m\n",
      "\u001b[0;32m~/Desktop/scikit-network/sknetwork/utils/check.py\u001b[0m in \u001b[0;36mcheck_adjacency_vector\u001b[0;34m(adjacency_vectors, n)\u001b[0m\n\u001b[1;32m    244\u001b[0m     \u001b[0madjacency_vectors\u001b[0m \u001b[0;34m=\u001b[0m \u001b[0mcheck_format\u001b[0m\u001b[0;34m(\u001b[0m\u001b[0madjacency_vectors\u001b[0m\u001b[0;34m)\u001b[0m\u001b[0;34m\u001b[0m\u001b[0;34m\u001b[0m\u001b[0m\n\u001b[1;32m    245\u001b[0m     \u001b[0;32mif\u001b[0m \u001b[0mn\u001b[0m \u001b[0;32mis\u001b[0m \u001b[0;32mnot\u001b[0m \u001b[0;32mNone\u001b[0m \u001b[0;32mand\u001b[0m \u001b[0madjacency_vectors\u001b[0m\u001b[0;34m.\u001b[0m\u001b[0mshape\u001b[0m\u001b[0;34m[\u001b[0m\u001b[0;36m1\u001b[0m\u001b[0;34m]\u001b[0m \u001b[0;34m!=\u001b[0m \u001b[0mn\u001b[0m\u001b[0;34m:\u001b[0m\u001b[0;34m\u001b[0m\u001b[0;34m\u001b[0m\u001b[0m\n\u001b[0;32m--> 246\u001b[0;31m         \u001b[0;32mraise\u001b[0m \u001b[0mValueError\u001b[0m\u001b[0;34m(\u001b[0m\u001b[0;34m'The adjacency vector must be of length equal to the number nodes in the graph.'\u001b[0m\u001b[0;34m)\u001b[0m\u001b[0;34m\u001b[0m\u001b[0;34m\u001b[0m\u001b[0m\n\u001b[0m\u001b[1;32m    247\u001b[0m     \u001b[0;32mreturn\u001b[0m \u001b[0madjacency_vectors\u001b[0m\u001b[0;34m\u001b[0m\u001b[0;34m\u001b[0m\u001b[0m\n\u001b[1;32m    248\u001b[0m \u001b[0;34m\u001b[0m\u001b[0m\n",
      "\u001b[0;31mValueError\u001b[0m: The adjacency vector must be of length equal to the number nodes in the graph."
     ]
    }
   ],
   "source": [
    "# Embedding using predict()alt\n",
    "print(bispectral_reg.predict(node_reader))\n",
    "print(bispectral_reg.predict(node_book))"
   ]
  },
  {
   "cell_type": "code",
   "execution_count": 19,
   "id": "0d411481-e8ce-43e5-be06-ecb3015360a2",
   "metadata": {},
   "outputs": [
    {
     "name": "stdout",
     "output_type": "stream",
     "text": [
      "[-0.00318692 -0.00013079 -0.00231437 -0.00417271 -0.00024192 -0.00057001\n",
      " -0.00185996  0.00063667  0.00234769  0.00079788  0.00086565  0.00141715\n",
      " -0.00132311  0.00141543 -0.00267049  0.00235862 -0.00475424  0.0028557\n",
      "  0.00339969  0.0020548 ]\n",
      "[-0.00105662 -0.00049709 -0.00047116 -0.00335709  0.00021402 -0.00012588\n",
      " -0.0030712   0.00144567  0.00477008  0.00213588 -0.00126037 -0.00718555\n",
      "  0.00457627  0.01221068 -0.0117954  -0.00461524  0.00893338 -0.00198575\n",
      "  0.00077761  0.00062586]\n"
     ]
    }
   ],
   "source": [
    "print(f'{embedding_readers_reg[0, :]}')\n",
    "print(f'{embedding_books_reg[0, :]}')"
   ]
  },
  {
   "cell_type": "code",
   "execution_count": 19,
   "id": "19ce569c-aa26-47e4-b091-72e577ba0fe4",
   "metadata": {},
   "outputs": [
    {
     "name": "stdout",
     "output_type": "stream",
     "text": [
      "[-0.92542528 -0.03582634 -0.62781147 -1.12568202 -0.06495252 -0.15228474\n",
      " -0.4954267   0.1690433   0.61808902  0.20962179  0.22712168  0.36779021\n",
      " -0.34177679  0.36475381 -0.68679187  0.60464402 -1.21539816  0.72610344\n",
      "  0.85924196  0.51875257]\n"
     ]
    },
    {
     "data": {
      "text/plain": [
       "array([-1.25323542, -0.05102271, -0.90974011, -1.6394795 , -0.09532223,\n",
       "       -0.2239601 , -0.73070765,  0.25032575,  0.92277097,  0.31375325,\n",
       "        0.34028207,  0.55701684, -0.51967413,  0.55591589, -1.04967762,\n",
       "        0.9270571 , -1.86892716,  1.12212551,  1.33596479,  0.80723496])"
      ]
     },
     "execution_count": 19,
     "metadata": {},
     "output_type": "execute_result"
    }
   ],
   "source": [
    "emb_sid = node.dot(embedding_books_reg)\n",
    "print(emb_sid)\n",
    "norm_vec = 1 - bispectral_reg.eigenvalues_\n",
    "norm_vec[norm_vec > 0] = 1 / norm_vec[norm_vec > 0]\n",
    "emb_sid *= norm_vec\n",
    "emb_sid"
   ]
  },
  {
   "cell_type": "code",
   "execution_count": 95,
   "id": "3460ccb4-8cdb-4b78-ab26-070dd80611c1",
   "metadata": {},
   "outputs": [],
   "source": [
    "emb = np.vstack([embedding_readers, embedding_books])"
   ]
  },
  {
   "cell_type": "code",
   "execution_count": 97,
   "id": "c2ad6492-d925-4a51-9c7c-3d8db2f6ec5b",
   "metadata": {},
   "outputs": [
    {
     "ename": "ValueError",
     "evalue": "shapes (11253,) and (11353,20) not aligned: 11253 (dim 0) != 11353 (dim 0)",
     "output_type": "error",
     "traceback": [
      "\u001b[0;31m---------------------------------------------------------------------------\u001b[0m",
      "\u001b[0;31mValueError\u001b[0m                                Traceback (most recent call last)",
      "\u001b[0;32m/var/folders/3p/0nf6lr5x21b424m4r79v06700000gn/T/ipykernel_24342/2938966603.py\u001b[0m in \u001b[0;36m<module>\u001b[0;34m\u001b[0m\n\u001b[0;32m----> 1\u001b[0;31m \u001b[0mnode\u001b[0m\u001b[0;34m.\u001b[0m\u001b[0mdot\u001b[0m\u001b[0;34m(\u001b[0m\u001b[0memb\u001b[0m\u001b[0;34m)\u001b[0m\u001b[0;34m\u001b[0m\u001b[0;34m\u001b[0m\u001b[0m\n\u001b[0m",
      "\u001b[0;31mValueError\u001b[0m: shapes (11253,) and (11353,20) not aligned: 11253 (dim 0) != 11353 (dim 0)"
     ]
    }
   ],
   "source": [
    "node.dot(emb)"
   ]
  },
  {
   "cell_type": "code",
   "execution_count": 98,
   "id": "adfdf5a4-5ccf-4c20-af1e-2cc8d35c7324",
   "metadata": {},
   "outputs": [
    {
     "data": {
      "text/plain": [
       "(11253, 100)"
      ]
     },
     "execution_count": 98,
     "metadata": {},
     "output_type": "execute_result"
    }
   ],
   "source": []
  }
 ],
 "metadata": {
  "kernelspec": {
   "display_name": "graphEmbedEnv",
   "language": "python",
   "name": "graphembedenv"
  },
  "language_info": {
   "codemirror_mode": {
    "name": "ipython",
    "version": 3
   },
   "file_extension": ".py",
   "mimetype": "text/x-python",
   "name": "python",
   "nbconvert_exporter": "python",
   "pygments_lexer": "ipython3",
   "version": "3.7.10"
  }
 },
 "nbformat": 4,
 "nbformat_minor": 5
}
